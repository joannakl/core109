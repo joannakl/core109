{
 "cells": [
  {
   "cell_type": "markdown",
   "metadata": {
    "slideshow": {
     "slide_type": "slide"
    }
   },
   "source": [
    "# Try to solve the following challenges"
   ]
  },
  {
   "cell_type": "markdown",
   "metadata": {
    "slideshow": {
     "slide_type": "slide"
    }
   },
   "source": [
    "\n",
    "<center>\n",
    "<img src=\"https://i.guim.co.uk/img/media/c4d8fda240bda5e733e057f42175e9e8a26d85e9/0_0_1952_944/master/1952.jpg?width=1920&quality=85&auto=format&fit=max&s=ae617b2fa3b9f1e824f8c4ea9dc948f5\" width=\"60%\" align=\"middle\">\n",
    "</center> \n",
    "\n",
    "A string is wound symmetrically around a circular rod. The string goes exactly four times around the rod. The circumference of the rod is 4cm and its length is 12cm. Find the length of the string.\n",
    "\n"
   ]
  },
  {
   "cell_type": "markdown",
   "metadata": {
    "slideshow": {
     "slide_type": "slide"
    }
   },
   "source": [
    "\n",
    "<center>\n",
    "<img src=\"https://i.guim.co.uk/img/media/33fbd5e2635ecbea3d7917e8087d1d10e98718d4/0_16_1280_768/master/1280.png?width=1920&quality=85&auto=format&fit=max&s=d283ae47a71d7e831e8307ecd5a11d6c\" width=\"80%\" align=\"middle\">\n",
    "</center> \n",
    "\n",
    "Imagine that the rod is a cylinder, say a cardboard kitchen roll cylinder. Cut a straight line from one end of the roll to the other, between the points where the ends of the string are. When you unroll the cylinder and place it on a flat surface, you will get a rectangle that is 12cm by 4 cm. "
   ]
  },
  {
   "cell_type": "markdown",
   "metadata": {
    "slideshow": {
     "slide_type": "slide"
    }
   },
   "source": [
    "\n",
    "<center>\n",
    "<img src=\"https://static2.thethingsimages.com/wordpress/wp-content/uploads/2016/10/math_10.jpg?q=50&fit=crop&w=738&h=369\" width=\"80%\" align=\"middle\">\n",
    "</center> "
   ]
  },
  {
   "cell_type": "markdown",
   "metadata": {
    "slideshow": {
     "slide_type": "slide"
    }
   },
   "source": [
    "\n",
    "<center>\n",
    "<img src=\"https://static2.thethingsimages.com/wordpress/wp-content/uploads/2016/10/math_14.jpg?q=50&fit=crop&w=738&h=369\" width=\"80%\" align=\"middle\">\n",
    "</center> "
   ]
  },
  {
   "cell_type": "markdown",
   "metadata": {
    "slideshow": {
     "slide_type": "slide"
    }
   },
   "source": [
    "\n",
    "<center>\n",
    "<img src=\"https://static0.thethingsimages.com/wordpress/wp-content/uploads/2016/10/math_2.jpg?q=50&fit=crop&w=738&h=369\" width=\"60%\" align=\"middle\">\n",
    "</center> \n",
    "\n",
    "There is a patch of lily pads on a lake. \"Every day, the patch doubles in size. If it takes 48 days for the patch to cover the entire lake, how long would it take for the patch to cover half of the lake?\"\n",
    "\n"
   ]
  },
  {
   "cell_type": "markdown",
   "metadata": {
    "slideshow": {
     "slide_type": "slide"
    }
   },
   "source": [
    "\n",
    "<center>\n",
    "<img src=\"https://static2.thethingsimages.com/wordpress/wp-content/uploads/2016/10/indians.jpg?q=50&fit=crop&w=738&h=491\" width=\"60%\" align=\"middle\">\n",
    "</center> \n",
    "\n",
    "A bat and ball cost one dollar and ten cents. The bat costs one dollar more than the ball. How much does the ball cost?\n",
    "\n"
   ]
  },
  {
   "cell_type": "markdown",
   "metadata": {},
   "source": [
    "## I can prove why 1 = 2\n",
    "\n",
    "* Lets say: $y = x$\n",
    "* Multiply through by $x$: $xy = x^2$\n",
    "* Subtract $y^2$ from each side: $xy - y^2 = x^2 - y^2$\n",
    "* Factor each side: $y(x-y) = (x+y)(x-y)$\n",
    "* Divide both sides by: $(x-y) y = x+y$\n",
    "* Divide both sides by $y$: $y/y = x/y + y/y$\n",
    "* And so... $1 = x/y + 1$\n",
    "* Since $x=y$, then $x/y = 1$ and $1 = 1 + 1$\n",
    "* And so... $1 = 2$\n",
    "\n",
    "How is this possible ? "
   ]
  },
  {
   "cell_type": "markdown",
   "metadata": {},
   "source": [
    "## Sources\n",
    "\n",
    "- The Guardian, https://www.theguardian.com/science/2017/jun/05/did-you-solve-it-are-you-in-the-smartest-10-per-cent\n",
    "\n",
    "- TheThings.com, https://www.thethings.com/15-deceptively-simple-math-problems-most-people-cannot-solve/\n",
    "\n",
    "- BRiddles.com, http://www.briddles.com/riddles/cool-math \n",
    "\n"
   ]
  },
  {
   "cell_type": "code",
   "execution_count": null,
   "metadata": {},
   "outputs": [],
   "source": []
  }
 ],
 "metadata": {
  "celltoolbar": "Slideshow",
  "kernelspec": {
   "display_name": "Python 3",
   "language": "python",
   "name": "python3"
  },
  "language_info": {
   "codemirror_mode": {
    "name": "ipython",
    "version": 3
   },
   "file_extension": ".py",
   "mimetype": "text/x-python",
   "name": "python",
   "nbconvert_exporter": "python",
   "pygments_lexer": "ipython3",
   "version": "3.7.0"
  }
 },
 "nbformat": 4,
 "nbformat_minor": 2
}
