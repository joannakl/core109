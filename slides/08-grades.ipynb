{
 "cells": [
  {
   "cell_type": "markdown",
   "metadata": {
    "slideshow": {
     "slide_type": "slide"
    }
   },
   "source": [
    "# Grades\n",
    "## average, median, min, max, standard deviation\n",
    "\n",
    "\n",
    "## CORE-UA 109.01, Joanna Klukowska "
   ]
  },
  {
   "cell_type": "markdown",
   "metadata": {
    "slideshow": {
     "slide_type": "slide"
    }
   },
   "source": [
    "# program to get the exam scores from the user\n",
    "\n",
    "\n",
    "Let's write a program to obtain the exam scores from the user.\n",
    "\n",
    "- the user should be prompted for the number of grades that will be entered\n",
    "\n",
    "- the program should validate that the number entered is between zero and 100\n",
    "(inclusive)\n",
    "\n",
    "- the program should calculate the average score "
   ]
  },
  {
   "cell_type": "markdown",
   "metadata": {
    "slideshow": {
     "slide_type": "slide"
    }
   },
   "source": [
    "# calculating average score\n",
    "\n",
    "- how do you calculate the average score?"
   ]
  },
  {
   "cell_type": "markdown",
   "metadata": {
    "slideshow": {
     "slide_type": "fragment"
    }
   },
   "source": [
    "$$average = \\frac{grade_1 + grade_2 + ... + grade_n }{n}$$\n"
   ]
  },
  {
   "cell_type": "markdown",
   "metadata": {
    "slideshow": {
     "slide_type": "fragment"
    }
   },
   "source": [
    "- __mean__ is another word used to describe the average\n",
    "\n",
    "- __mean__ is a measure of central tendency"
   ]
  },
  {
   "cell_type": "markdown",
   "metadata": {
    "slideshow": {
     "slide_type": "fragment"
    }
   },
   "source": [
    "- what does the __mean__ of exam grades tell us?\n",
    "\n",
    "- how can this be used?\n",
    "\n",
    "- what are the possible issues?"
   ]
  },
  {
   "cell_type": "markdown",
   "metadata": {
    "slideshow": {
     "slide_type": "fragment"
    }
   },
   "source": [
    "- what letter grade should be associated with a score that is equal to the average grade?"
   ]
  },
  {
   "cell_type": "markdown",
   "metadata": {
    "slideshow": {
     "slide_type": "slide"
    }
   },
   "source": [
    "# median\n",
    "\n",
    "- __median__ is the middle score\n",
    "\n",
    "- algorithm for finding the median:\n",
    "\n",
    "    - sort all grades from smallest to largest\n",
    "\n",
    "    - find the middle score\n",
    "        - if the number of grades is odd, the median is equal to the middle score\n",
    "        - if the number of grades is even, the median is the average of the two middle\n",
    "        scores\n",
    "\n",
    "- __median__ is a measure of central tendency"
   ]
  },
  {
   "cell_type": "markdown",
   "metadata": {
    "slideshow": {
     "slide_type": "fragment"
    }
   },
   "source": [
    "- what does the __median__ of exam grades tell us?\n",
    "\n",
    "- how can this be used?\n",
    "\n",
    "- what are the possible issues?\n",
    "\n",
    "- what letter grade should be associated with a score that is equal to the median grade?"
   ]
  },
  {
   "cell_type": "markdown",
   "metadata": {
    "slideshow": {
     "slide_type": "slide"
    }
   },
   "source": [
    "# range of values\n",
    "\n",
    "- __smallest__ value in the range of grades\n",
    "\n",
    "- __largest__ value in the range of grades\n",
    "\n",
    "\n",
    "- __range__ (__smallest__, __largest__) is a measure of dispersion"
   ]
  },
  {
   "cell_type": "markdown",
   "metadata": {
    "slideshow": {
     "slide_type": "fragment"
    }
   },
   "source": [
    "- what do the  __smallest__ and __largest__ values of exam grades tell us?\n",
    "\n",
    "- how can this be used?\n",
    "\n",
    "- what are the possible issues?"
   ]
  },
  {
   "cell_type": "markdown",
   "metadata": {
    "slideshow": {
     "slide_type": "fragment"
    }
   },
   "source": [
    "- what letter grade should be associated with a score that is smallest / largest?"
   ]
  },
  {
   "cell_type": "markdown",
   "metadata": {
    "slideshow": {
     "slide_type": "slide"
    }
   },
   "source": [
    "# standard deviation\n",
    "\n",
    "- __standard deviation__ is a measure of the amount of variation or dispersion of a set of values <br>\n",
    "    (a low standard deviation indicates that the values tend to be close to the mean of the set, while a high standard deviation indicates that the values are spread out over a wider range)\n",
    "\n",
    "- algorithm for finding the standard deviation:\n",
    "\n",
    "    - calculate the mean\n",
    "\n",
    "    - find the difference between each score and the mean and square that difference\n",
    "\n",
    "    - add all of the squares of differences together and divide the sum by the\n",
    "    total number of grades\n",
    "\n",
    "    - take a square root of the value in the previous step"
   ]
  },
  {
   "cell_type": "markdown",
   "metadata": {
    "slideshow": {
     "slide_type": "fragment"
    }
   },
   "source": [
    "- __standard deviation__  is a measure of dispersion"
   ]
  },
  {
   "cell_type": "markdown",
   "metadata": {
    "slideshow": {
     "slide_type": "fragment"
    }
   },
   "source": [
    "- what do the  __standard deviation__ value of exam grades tell us?\n",
    "\n",
    "- how can this be used?\n",
    "\n",
    "- what are the possible issues?"
   ]
  },
  {
   "cell_type": "markdown",
   "metadata": {
    "slideshow": {
     "slide_type": "slide"
    }
   },
   "source": [
    "# five different exams\n"
   ]
  },
  {
   "cell_type": "code",
   "execution_count": 10,
   "metadata": {
    "scrolled": true,
    "slideshow": {
     "slide_type": "fragment"
    }
   },
   "outputs": [
    {
     "data": {
      "image/png": "[encoded data removed]",
      "text/plain": [
       "<Figure size 432x288 with 1 Axes>"
      ]
     },
     "metadata": {
      "needs_background": "light"
     },
     "output_type": "display_data"
    }
   ],
   "source": [
    "import numpy as np\n",
    "import matplotlib.pyplot as plt\n",
    "from scipy.stats.kde import gaussian_kde\n",
    "from numpy import linspace\n",
    "\n",
    "grades0 = [65, 70, 75, 80, 85, 90, 69, 95, 88, 92, 85, 81, 14, 98, 57, 72, 68,87, 78,91, 77, 63, 57, 81,62, 41 ] \n",
    "grades1 = [73, 69, 97, 98, 88, 92, 72, 87, 69, 83, 62, 60, 60, 90, 59, 65, 63, 55, 90, 68, 94, 91, 87, 58, 62,100]  \n",
    "grades2 = [10, 20, 25, 30, 33, 37, 45, 48, 50, 51, 52, 53, 54, 55,55,58,59, 60, 62, 64, 66, 68, 70, 85, 90, 100]  \n",
    "grades3 = [99, 89, 73, 51, 28, 89, 90, 62, 52, 92, 81, 86, 97, 93, 84, 48, 88, 91, 89, 51, 61, 89, 95, 56, 92, 86]\n",
    "grades4 = [89, 90, 98, 93, 68, 89, 92, 77, 85, 24, 83, 75, 93, 91, 93, 96, 78, 98, 96, 33, 94, 77, 88, 92, 91, 93]\n",
    "gradesAll = [grades0] #,grades1,grades2,grades3,grades4]\n",
    "\n",
    "i = 0\n",
    "for grades in gradesAll :\n",
    "\n",
    "    grades.sort() \n",
    "    \n",
    "    plt.figure()\n",
    "    \n",
    "    #plot the histogram of the grades \n",
    "    plt.hist(grades, range=(0,100), bins=20,color='green' , \n",
    "             edgecolor='black', linewidth=0.5) \n",
    "\n",
    "    plt.xticks(np.arange(0,101,5))\n",
    "    plt.grid(color='gray', which='both', linestyle=':', linewidth=0.25)\n",
    "\n",
    "    mean = np.mean(grades) \n",
    "    median = np.median(grades)\n",
    "    std = np.std(grades) \n",
    "    plt.title('Grades\\nmean='+format(mean,\".2f\")+\n",
    "              \", median=\" + format(median,\".2f\")+\n",
    "              \", std=\"+format(std,\".2f\")  );\n",
    "\n",
    "    plt.show() \n",
    "    \n",
    "    plt.savefig(\"grades\"+str(i)+\".png\")\n",
    "    i=i+1\n",
    "    "
   ]
  },
  {
   "cell_type": "code",
   "execution_count": null,
   "metadata": {},
   "outputs": [],
   "source": []
  }
 ],
 "metadata": {
  "celltoolbar": "Slideshow",
  "kernelspec": {
   "display_name": "Python 3",
   "language": "python",
   "name": "python3"
  },
  "language_info": {
   "codemirror_mode": {
    "name": "ipython",
    "version": 3
   },
   "file_extension": ".py",
   "mimetype": "text/x-python",
   "name": "python",
   "nbconvert_exporter": "python",
   "pygments_lexer": "ipython3",
   "version": "3.7.0"
  }
 },
 "nbformat": 4,
 "nbformat_minor": 2
}
