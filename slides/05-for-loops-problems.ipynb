{
 "cells": [
  {
   "cell_type": "markdown",
   "metadata": {
    "slideshow": {
     "slide_type": "slide"
    }
   },
   "source": [
    "# Problem Solving \n",
    "\n",
    "## CORE-UA 109.01, Joanna Klukowska"
   ]
  },
  {
   "cell_type": "markdown",
   "metadata": {
    "slideshow": {
     "slide_type": "slide"
    }
   },
   "source": [
    "# your paycheck after graduation\n",
    "\n",
    "\n",
    "__NACE__ (National Association of Colleges and Employers) keeps track of average starting salaries of  college graduates (BA/BS degrees) in US.\n",
    "\n",
    "The overall __starting salary__ for a Class of 2017 bachelor’s\n",
    "degree graduate stands at __$50,944__. (Source: https://www.naceweb.org/job-market/graduate-outcomes/ ) \n",
    "\n",
    "\n",
    "\n",
    "\n",
    "__Work with a partner (or two)__\n",
    "\n",
    "-  Let's assume that these graduates will receive (on average)\n",
    "a 2% pay increase at the end of their first year and at the\n",
    "end of their second year.\n",
    "\n",
    "- Calculate their average salaries after each of those years. Assume that the starting salary is \\\\$50,000  (it is easier to work with than \\\\$50,944)."
   ]
  },
  {
   "cell_type": "markdown",
   "metadata": {
    "slideshow": {
     "slide_type": "slide"
    }
   },
   "source": [
    "# your paycheck after graduation\n",
    "\n",
    "- Year one:\n",
    "    - Calculating 2% of \\\\$50,000:\n",
    "    \n",
    "    $$0.02 \\times 50,000 = \\frac{2}{100} \\times 50,000 = \\frac{2}{1} \\times 500 = 1,000$$\n",
    "\n",
    "    - salary increase: \\\\$1,000\n",
    "    - new salary: \\\\$51,000"
   ]
  },
  {
   "cell_type": "markdown",
   "metadata": {
    "slideshow": {
     "slide_type": "fragment"
    }
   },
   "source": [
    "- **Is the salary increase at the end of the second year also \\\\$1,000?**"
   ]
  },
  {
   "cell_type": "markdown",
   "metadata": {
    "slideshow": {
     "slide_type": "fragment"
    }
   },
   "source": [
    "- No, because we are no longer computing 2% of \\\\$50,000, but rather 2% of \\\\$51,000!\n",
    "\n",
    "- Year two:\n",
    "    - Calculating 2% of \\\\$51,000:\n",
    "    \n",
    "    $$0.02 \\times 51,000 = \\frac{2}{100} \\times 51,000 = \\frac{2}{1} \\times 510 = 1,020$$\n",
    "    \n",
    "    - salary increase: \\\\$1,020\n",
    "    - new salary: \\\\$52,020"
   ]
  },
  {
   "cell_type": "markdown",
   "metadata": {
    "slideshow": {
     "slide_type": "slide"
    }
   },
   "source": [
    "# your paycheck after graduation\n",
    "\n",
    "__Can we make this calculation more general?__\n",
    "\n",
    "To simplify our notation, let’s establish some conventions:\n",
    "\n",
    "-   $p$ is the percentage increase applied once a year\n",
    "\n",
    "-   $S_0$ is the initial salary\n",
    "\n",
    "-   $S_1$ is the salary at the end of year one,\n",
    "    $S_2$ is the salary at the end of year two,\n",
    "    etc.\n",
    "\n",
    "-   $I_1$ is the increase at the end of year one,\n",
    "    $I_2$ is the increase at the end of year to,\n",
    "    etc."
   ]
  },
  {
   "cell_type": "markdown",
   "metadata": {
    "slideshow": {
     "slide_type": "slide"
    }
   },
   "source": [
    "# your paycheck after graduation\n",
    "\n",
    "\n",
    "-   $p$ is the percentage increase applied once a year\n",
    "-   $S_0$ is the initial salary\n",
    "-   $S_1$, $S_2$,  ... salaries at the end of year one, two, ...\n",
    "-   $I_1$, $I_2$, ... increases at the end of year one, two, ...\n",
    "\n",
    "\n",
    "\n",
    "So far we know that the increase at the end of year 1 is\n",
    "\n",
    " $$I_1 = S_0 \\times p$$\n",
    "\n",
    " and that the salary at the end of year 1 is\n",
    "\n",
    " $$S_1 = S_0 + I_1$$\n",
    "\n",
    "Can we rewrite the expression for *S*<sub>1</sub>?\n",
    "\n",
    " $$S_1 = S_0 + I_1 = S_0 + S_0 \\times p = S_0 \\times ( 1 + p ) $$"
   ]
  },
  {
   "cell_type": "markdown",
   "metadata": {
    "slideshow": {
     "slide_type": "slide"
    }
   },
   "source": [
    "# your paycheck after graduation\n",
    "\n",
    "\n",
    "-   $p$ is the percentage increase applied once a year\n",
    "-   $S_0$ is the initial salary\n",
    "-   $S_1$, $S_2$,  ... salaries at the end of year one, two, ...\n",
    "-   $I_1$, $I_2$, ... increases at the end of year one, two, ...\n",
    "\n",
    "How about the salary at the end of year two?\n",
    "\n",
    "$$\\begin{aligned}\n",
    "       S_2 &= S_1 + I_2 \\\\\n",
    "        &=  S_1 +  S_1 \\times p\\\\\n",
    "        &=  S_1 \\times ( 1 + p ) \\\\\n",
    "        &=  S_0 \\times ( 1 + p )\\times ( 1 + p ) \\\\\n",
    "        &=  S_0 \\times ( 1 + p )^2 \\\\\n",
    "\\end{aligned}$$"
   ]
  },
  {
   "cell_type": "markdown",
   "metadata": {
    "slideshow": {
     "slide_type": "slide"
    }
   },
   "source": [
    "# your paycheck after graduation\n",
    "\n",
    "<br> \n",
    "<div style=\"float:left;width:45%;font-size: x-large;\" >\n",
    "   \n",
    "- $p$ is the percentage increase applied once a year\n",
    "- $S_0$ is the initial salary\n",
    "- $S_1$, $S_2$,  ... salaries at the end of year one, two, ...\n",
    "- $I_1$, $I_2$, ... increases at the end of year one, two, ...\n",
    " \n",
    "- at the end of year one: \n",
    "\n",
    "     $I_1 = S_0 \\times p$ <br>\n",
    "     $S_1 = S_0 + I_1$ <br> \n",
    "     $S_1 = S_0 \\times ( 1 + p ) $   \n",
    "</div>\n",
    "\n",
    "<div style=\"float:right;width:45%;\" > \n",
    "How about the salary at the end of year two?\n",
    " $$I_2 = S_1 \\times p$$\n",
    " $$S_2 = S_1 + I_2$$\n",
    " \n",
    "$$\\begin{aligned}\n",
    "       S_2 &= S_1 + I_2 \\\\\n",
    "        &=  S_1 +  S_1 \\times p\\\\\n",
    "        &=  S_1 \\times ( 1 + p ) \\\\\n",
    "        &=  S_0 \\times ( 1 + p )\\times ( 1 + p ) \\\\\n",
    "        &=  S_0 \\times ( 1 + p )^2 \\\\\n",
    "\\end{aligned}$$\n",
    "</div>"
   ]
  },
  {
   "cell_type": "markdown",
   "metadata": {
    "slideshow": {
     "slide_type": "fragment"
    }
   },
   "source": [
    "And using our numbers we have:\n",
    "\n",
    "$$S_2 = 50,000 \\times 1.02 ^2 = 52,020$$"
   ]
  },
  {
   "cell_type": "markdown",
   "metadata": {
    "slideshow": {
     "slide_type": "slide"
    }
   },
   "source": [
    "# your paycheck after graduation\n",
    "\n",
    "$$S_1 = S_0 \\times ( 1 + p ) $$\n",
    "\n",
    "\n",
    "$$S_2 = S_0 \\times ( 1 + p )^2 $$\n",
    "\n",
    "What do you think the formula for *S*<sub>3</sub> might be?"
   ]
  },
  {
   "cell_type": "markdown",
   "metadata": {
    "slideshow": {
     "slide_type": "fragment"
    }
   },
   "source": [
    "$$S_3 = S_0 \\times ( 1 + p )^3 $$\n",
    "\n",
    "\n",
    "How about *S*<sub>10</sub>?"
   ]
  },
  {
   "cell_type": "markdown",
   "metadata": {
    "slideshow": {
     "slide_type": "fragment"
    }
   },
   "source": [
    "$$S_{10} = S_0 \\times ( 1 + p )^{10} $$"
   ]
  },
  {
   "cell_type": "markdown",
   "metadata": {
    "slideshow": {
     "slide_type": "slide"
    }
   },
   "source": [
    "# Programming challenge\n",
    "\n",
    "Write a program that prompts the user for\n",
    "\n",
    " - their expected salary after graduation\n",
    "\n",
    " - their expected yearly percentage increase\n",
    "\n",
    "The program should produce a table showing the expected salary\n",
    "at the end of years 1, 2, 3, 4, 5, 10, 15, 20 (assuming that the\n",
    "percentage increase remains the same and that the user stays at\n",
    "the same job)."
   ]
  },
  {
   "cell_type": "markdown",
   "metadata": {},
   "source": [
    "# Visualization\n",
    "\n",
    "We can visualize the information that the program presents in a table using graphs:"
   ]
  },
  {
   "cell_type": "code",
   "execution_count": 3,
   "metadata": {},
   "outputs": [
    {
     "data": {
      "application/vnd.jupyter.widget-view+json": {
       "model_id": "c55525d288a24de8b530d08d61ec396d",
       "version_major": 2,
       "version_minor": 0
      },
      "text/plain": [
       "interactive(children=(FloatSlider(value=0.1, description='increase', max=0.2, step=0.01), Output()), _dom_clas…"
      ]
     },
     "metadata": {},
     "output_type": "display_data"
    },
    {
     "data": {
      "text/plain": [
       "<function __main__.plot_salary>"
      ]
     },
     "execution_count": 3,
     "metadata": {},
     "output_type": "execute_result"
    }
   ],
   "source": [
    "import numpy as np\n",
    "import matplotlib.pyplot as plt\n",
    "from __future__ import print_function\n",
    "from ipywidgets import interact, interactive, fixed, interact_manual\n",
    "import ipywidgets as widgets\n",
    "\n",
    "# plot the salary value for the next 20 years\n",
    "# assume initial salary of 50,000 \n",
    "# the annual increase can be changed from 0% to 20%\n",
    "def plot_salary( increase ): \n",
    "\n",
    "    # values for horizontal axis are years\n",
    "    years = np.linspace(1, 20, 20)\n",
    "\n",
    "    # calculate salaries for each year based on the given increase\n",
    "    salaries = 50000*(1 + increase)**years\n",
    "\n",
    "    # plot the salaries for next 20 years\n",
    "    #plt.figure(figsize=(15,10), dpi=100, facecolor='gray')\n",
    "    plt.plot(years, salaries, 'ro')\n",
    "    plt.show()\n",
    "\n",
    "interact(plot_salary, increase=(0.0,0.2,0.01) )"
   ]
  },
  {
   "cell_type": "markdown",
   "metadata": {
    "slideshow": {
     "slide_type": "slide"
    }
   },
   "source": [
    "# discounts and sales\n",
    "\n",
    "- You have a preferred customer discount coupon from your favorite\n",
    "clothing store that gives you a 60% discount off of any item in the\n",
    "store.\n",
    "\n",
    "- The store happens to also have an end of season sale and all items are\n",
    "being sold at a 40% discount.\n",
    "\n",
    "- You decided to get a new shirt that was originally priced at $60.00.\n",
    "\n",
    "- Do you get it for free after combining your discount coupon with the store sale?\n",
    "\n",
    "\n",
    "**Why not?**"
   ]
  },
  {
   "cell_type": "markdown",
   "metadata": {
    "slideshow": {
     "slide_type": "slide"
    }
   },
   "source": [
    "# discounts and sales\n",
    "\n",
    "- What is the discount due to the store’s end of season sale?<br>\n",
    "  40% of 60.00 is  \n",
    "  \n",
    "  $$\\text{discount} = 0.4 × 60.00 = 24.00$$"
   ]
  },
  {
   "cell_type": "markdown",
   "metadata": {
    "slideshow": {
     "slide_type": "fragment"
    }
   },
   "source": [
    "- What is the price of the shirt after the store’s end of season sale discount is applied? <br><br>\n",
    "  $$60.00 -  \\text{discount} = 36.00$$"
   ]
  },
  {
   "cell_type": "markdown",
   "metadata": {
    "slideshow": {
     "slide_type": "fragment"
    }
   },
   "source": [
    "- What is the discount due to your coupon?<br>\n",
    "  60% of the price after the previous discount <br><br>\n",
    "  $$\\text{second discount} = 0.6 × 36.00 = 21.60$$"
   ]
  },
  {
   "cell_type": "markdown",
   "metadata": {
    "slideshow": {
     "slide_type": "fragment"
    }
   },
   "source": [
    "- What is the price you pay? <br>\n",
    "\n",
    "  $$\\text{final price} = 60.00 − 24.00 − 21.60 = 14.40$$\n",
    " "
   ]
  },
  {
   "cell_type": "markdown",
   "metadata": {
    "slideshow": {
     "slide_type": "fragment"
    }
   },
   "source": [
    "__Does it matter in which order the two discounts are applied?__"
   ]
  },
  {
   "cell_type": "markdown",
   "metadata": {
    "slideshow": {
     "slide_type": "slide"
    }
   },
   "source": [
    "# discounts and sales\n",
    "\n",
    "- Can we calculate the final price without computing the two discounts\n",
    "separately?<br><br>\n",
    "    - Sure: we can use calculation similar to the one from pay raise calculations<br><br>\n",
    "    - just remember that for discounts we are going to be removing something<br><br>\n",
    "    - instead of multipling by $(1+p)$ for each year, we will multiply by $(1-d)$ for each\n",
    "    discount where $d$ is the discount percentage"
   ]
  },
  {
   "cell_type": "markdown",
   "metadata": {
    "slideshow": {
     "slide_type": "fragment"
    }
   },
   "source": [
    "- Since we have two discounts, we need to apply them both:\n",
    "\n",
    "  $$\\text{original_price}  \\times (1 - d_1) \\times (1 - d_2) = \\text{final_discounted_price} $$\n",
    "\n",
    "  where $d_1$ and $d_2$ are the two discounts"
   ]
  },
  {
   "cell_type": "markdown",
   "metadata": {
    "slideshow": {
     "slide_type": "slide"
    }
   },
   "source": [
    "# Programming challenge\n",
    "\n",
    "Write a program that prompts the user for an initial price and\n",
    "three discount amounts\n",
    "\n",
    "- if there are fewer discounts the user should enter 0.0 as the discount amount,\n",
    "\n",
    "- if the discount is 30%, the user should enter 0.3 as the discount amount.\n",
    "\n",
    "The program should then compute the final price after the three discounts are applied.\n"
   ]
  }
 ],
 "metadata": {
  "celltoolbar": "Slideshow",
  "kernelspec": {
   "display_name": "Python 3",
   "language": "python",
   "name": "python3"
  },
  "language_info": {
   "codemirror_mode": {
    "name": "ipython",
    "version": 3
   },
   "file_extension": ".py",
   "mimetype": "text/x-python",
   "name": "python",
   "nbconvert_exporter": "python",
   "pygments_lexer": "ipython3",
   "version": "3.7.0"
  }
 },
 "nbformat": 4,
 "nbformat_minor": 2
}
