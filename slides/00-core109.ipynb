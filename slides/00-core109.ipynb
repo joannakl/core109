{
 "cells": [
  {
   "cell_type": "markdown",
   "metadata": {
    "slideshow": {
     "slide_type": "slide"
    }
   },
   "source": [
    "## Welcome to \n",
    "\n",
    "# CORE-UA 109.01\n",
    "## Quantitative Reasoning: Math and Computing\n"
   ]
  },
  {
   "cell_type": "markdown",
   "metadata": {
    "slideshow": {
     "slide_type": "fragment"
    }
   },
   "source": [
    "### Instructor: Joanna Klukowska, joannakl@cs.nyu.edu \n",
    "\n",
    "### Section Leader: Julie Lizadro, jal879@nyu.edu "
   ]
  },
  {
   "cell_type": "markdown",
   "metadata": {
    "slideshow": {
     "slide_type": "slide"
    }
   },
   "source": [
    "# Quantitative Reasoning: Math and Computing\n",
    "\n",
    "- What does the title of this course mean? \n",
    "    - what is quantitative reasoning?\n",
    "    - what is computing?\n",
    "    - how are they different from math? \n",
    "    "
   ]
  },
  {
   "cell_type": "markdown",
   "metadata": {
    "slideshow": {
     "slide_type": "slide"
    }
   },
   "source": [
    "## Quantitative Reasoning\n",
    "\n",
    "<center>\n",
    "<img src=\"https://www.aacu.org/sites/default/files/files/Elrod-Fig1.jpg\" alt=\"QR is the intersection of Math, Critical Thinking and Disciplinary or Real World Knowledge\"  width=\"30%\" align=\"middle\">\n",
    "</center> \n",
    "\n",
    "Image from [_Quantitative Reasoning: The Next \"Across the Curriculum\" Movement_ by Susan Elrod](https://www.aacu.org/peerreview/2014/summer/elrod), Peer Review, Vol. 16, No. 3, Summer 2014 "
   ]
  },
  {
   "cell_type": "markdown",
   "metadata": {
    "slideshow": {
     "slide_type": "slide"
    }
   },
   "source": [
    "## Computing\n",
    "\n",
    "__According to Wikipedia__: \n",
    "Computing is any activity that uses computers to manage, process, and communicate information for various purposes."
   ]
  },
  {
   "cell_type": "markdown",
   "metadata": {
    "slideshow": {
     "slide_type": "fragment"
    }
   },
   "source": [
    "So, if you ever used a computer, a smart phone, a tablet, etc., you actually did what is called __computing__. \n",
    "\n",
    "<table>\n",
    "    \n",
    "<tr>\n",
    "    <td><img src=\"https://upload.wikimedia.org/wikipedia/commons/thumb/d/d7/Desktop_computer_clipart_-_Yellow_theme.svg/1280px-Desktop_computer_clipart_-_Yellow_theme.svg.png\" alt=\"desktop computer\" width=\"200\"> \n",
    "    </td>\n",
    "    <td><img src=\"https://upload.wikimedia.org/wikipedia/commons/thumb/e/e1/Crystal128-laptop.svg/1024px-Crystal128-laptop.svg.png\" alt=\"laptop computer\" width=\"200\">\n",
    "    </td>\n",
    "    <td><img src=\"https://upload.wikimedia.org/wikipedia/commons/thumb/c/c9/IPhone_SE_in_silver.png/800px-IPhone_SE_in_silver.png\" alt=\"smart-phone\" width=\"100\">\n",
    "    </td>\n",
    "    </tr>\n",
    "</table>\n",
    "\n",
    "<sub>Images from [Wikimedia Commons](https://commons.wikimedia.org/) </sub>"
   ]
  },
  {
   "cell_type": "markdown",
   "metadata": {
    "slideshow": {
     "slide_type": "slide"
    }
   },
   "source": [
    "\n",
    "### In this class, we will use Python programming (computing) to solve problems from different disciplines and from real life (quantitative reasoning). \n",
    "    \n",
    "<table>\n",
    "    <tr>\n",
    "        <td><img src=\"https://upload.wikimedia.org/wikipedia/commons/thumb/3/3b/Money_in_notes.jpg/1920px-Money_in_notes.jpg\" alt=\"money\" width=\"150\">|\n",
    "        </td>\n",
    "        <td><center><img src=\"https://upload.wikimedia.org/wikipedia/commons/thumb/0/04/NYC_subway-4D.svg/1024px-NYC_subway-4D.svg.png\" alt=\"NYC subway\" width=\"80\" ></center>\n",
    "        </td>\n",
    "        <td><img src=\"https://upload.wikimedia.org/wikipedia/commons/thumb/4/4c/Moby_Dick_for_Wikicommons.jpg/443px-Moby_Dick_for_Wikicommons.jpg\" alt=\"Moby-Dick\" width=\"100\">\n",
    "        </td>\n",
    "    </tr>\n",
    "    <tr>\n",
    "        <td><img src=\"https://upload.wikimedia.org/wikipedia/commons/1/1e/Historical_Average_SAT_Scores.png\" alt=\"SAT average scores\" width=\"100\">\n",
    "        </td>\n",
    "        <td><img src=\"https://upload.wikimedia.org/wikipedia/commons/a/ad/Lozingle_10032014.jpg\" alt=\"Python\" width=\"300\"> \n",
    "        </td>\n",
    "        <td><img src=\"https://upload.wikimedia.org/wikipedia/commons/d/dd/Tritone_substitution_common_tones.png\" alt=\"music tones\" width=\"100\">\n",
    "        </td>\n",
    "    </tr>\n",
    "    <tr>\n",
    "        <td><img src=\"https://upload.wikimedia.org/wikipedia/commons/f/fe/DNA_simple2.svg\" alt=\"DNA analysis of sushi\" width=\"100\">\n",
    "        </td>\n",
    "        <td><center><img src=\"https://upload.wikimedia.org/wikipedia/commons/a/ad/Motorcycle-1698615_1920.jpg\" alt=\"motorcycle racing risk assesment\" width=\"100\"></center>\n",
    "        </td>\n",
    "        <td><img src=\"https://upload.wikimedia.org/wikipedia/commons/d/d7/Green_Sea_Turtle_grazing_seagrass.jpg\" alt=\"sea turtle\" width=\"150\">\n",
    "        </td>\n",
    "    </tr>\n",
    "</table>\n",
    "    \n",
    "\n",
    "\n",
    "<sub>Images from [Wikimedia Commons](https://commons.wikimedia.org/) </sub>"
   ]
  },
  {
   "cell_type": "markdown",
   "metadata": {
    "slideshow": {
     "slide_type": "slide"
    }
   },
   "source": [
    "# Course website\n",
    "\n",
    "## https://cs.nyu.edu/~joannakl/core109_f19/ \n"
   ]
  },
  {
   "cell_type": "markdown",
   "metadata": {
    "slideshow": {
     "slide_type": "fragment"
    }
   },
   "source": [
    "# Jupyter Notebook\n",
    "\n",
    "## https://core109-f19.jupyter.hpc.nyu.edu/\n"
   ]
  },
  {
   "cell_type": "markdown",
   "metadata": {
    "slideshow": {
     "slide_type": "slide"
    }
   },
   "source": [
    "<center><img src=\"img/index_card.png\" alt=\"index card\" width=\"80%\"></center>"
   ]
  },
  {
   "cell_type": "markdown",
   "metadata": {
    "slideshow": {
     "slide_type": "slide"
    }
   },
   "source": [
    "<center><img src=\"img/index_card_filled.png\" alt=\"index card\" width=\"80%\"></center>"
   ]
  },
  {
   "cell_type": "code",
   "execution_count": null,
   "metadata": {},
   "outputs": [],
   "source": []
  }
 ],
 "metadata": {
  "celltoolbar": "Slideshow",
  "kernelspec": {
   "display_name": "Python 3",
   "language": "python",
   "name": "python3"
  },
  "language_info": {
   "codemirror_mode": {
    "name": "ipython",
    "version": 3
   },
   "file_extension": ".py",
   "mimetype": "text/x-python",
   "name": "python",
   "nbconvert_exporter": "python",
   "pygments_lexer": "ipython3",
   "version": "3.7.0"
  }
 },
 "nbformat": 4,
 "nbformat_minor": 2
}
