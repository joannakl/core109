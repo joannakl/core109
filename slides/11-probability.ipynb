{
 "cells": [
  {
   "cell_type": "markdown",
   "metadata": {
    "slideshow": {
     "slide_type": "slide"
    }
   },
   "source": [
    "# Random Numbers and Probabilities\n",
    "\n",
    "## CORE-UA 109.01, Joanna Klukowska <br>"
   ]
  },
  {
   "cell_type": "markdown",
   "metadata": {
    "slideshow": {
     "slide_type": "slide"
    }
   },
   "source": [
    "# Random Numbers\n",
    "\n",
    "- What do you think randomness could be used for? "
   ]
  },
  {
   "cell_type": "markdown",
   "metadata": {
    "slideshow": {
     "slide_type": "fragment"
    }
   },
   "source": [
    "- Can we actually have truelly random values on a computer? "
   ]
  },
  {
   "cell_type": "markdown",
   "metadata": {
    "slideshow": {
     "slide_type": "slide"
    }
   },
   "source": [
    "# Pseudo-Random Numbers\n",
    "\n",
    "- We can use the __random__ package to generate ___pseudo-random___ numbers in Python.\n",
    "\n",
    "- There are many functions provided by that package, but we will use only a few. <br>\n",
    "    For complete list you can see https://docs.python.org/3.6/library/random.html  \n",
    "\n",
    "- To use the package, we need to import it first (it is not one of the collections of functions that Python uses automatically): "
   ]
  },
  {
   "cell_type": "code",
   "execution_count": 16,
   "metadata": {
    "slideshow": {
     "slide_type": "fragment"
    }
   },
   "outputs": [
    {
     "name": "stdout",
     "output_type": "stream",
     "text": [
      "r1 = 0.2476269545013845 \n",
      "r2 = 7 \n",
      "r3 = 30\n"
     ]
    }
   ],
   "source": [
    "import random  # import the package\n",
    "\n",
    "r1 = random.random() # generate a random floating point value in the range [0.0, 1.0) \n",
    "r2 = random.randint(0,10)  # generate a random integer value in the range [0, 10] \n",
    "r3 = random.randrange(0,200, 10) # generate a random integer value from the values produced by range(0,200,10)\n",
    "print (\"r1 =\", r1, \"\\nr2 =\", r2, \"\\nr3 =\", r3 )"
   ]
  },
  {
   "cell_type": "markdown",
   "metadata": {
    "slideshow": {
     "slide_type": "slide"
    }
   },
   "source": [
    "# Pseudo-Random Numbers\n",
    "\n",
    "`random.random()`<br>\n",
    "Return the next random floating point number in the range [0.0, 1.0).\n",
    "\n",
    "`random.randint(a, b)` <br>\n",
    "Return a random integer N such that a <= N <= b.\n",
    "\n",
    "`random.randrange(stop)`<br>\n",
    "`random.randrange(start, stop)`<br>\n",
    "`random.randrange(start, stop, step)`<br>\n",
    "Return a randomly selected element from `range(start, stop, step)`.  The default value for `step` is 1. The default value for start is 0. "
   ]
  },
  {
   "cell_type": "markdown",
   "metadata": {
    "slideshow": {
     "slide_type": "slide"
    }
   },
   "source": [
    "# Random Numbers that Are Always the Same \n"
   ]
  },
  {
   "cell_type": "markdown",
   "metadata": {
    "slideshow": {
     "slide_type": "fragment"
    }
   },
   "source": [
    "- Sometimes we want the _random_ sequence of values to be alwyas the same. \n",
    "    - Why do you think this may be useful? \n",
    "       \n",
    "- To do that, we can use \n",
    "\n",
    "        random.seed(value)\n",
    "\n",
    "    - when `value` is None, then the sequence is different every time\n",
    "    - when `value` is set to a number, than the sequence will stay the same "
   ]
  },
  {
   "cell_type": "code",
   "execution_count": 20,
   "metadata": {
    "slideshow": {
     "slide_type": "fragment"
    }
   },
   "outputs": [
    {
     "name": "stdout",
     "output_type": "stream",
     "text": [
      "5\t4\t10\t10\n",
      "9\t4\t5\t10\n",
      "3\t4\t1\t6\n",
      "0\t2\t10\t1\n"
     ]
    }
   ],
   "source": [
    "random.seed(None)\n",
    "print(random.randint(0,10),random.randint(0,10),random.randint(0,10),random.randint(0,10), sep='\\t')\n",
    "random.seed(5)\n",
    "print(random.randint(0,10),random.randint(0,10),random.randint(0,10),random.randint(0,10), sep='\\t')\n",
    "random.seed(4)\n",
    "print(random.randint(0,10),random.randint(0,10),random.randint(0,10),random.randint(0,10), sep='\\t')\n",
    "random.seed(None)\n",
    "print(random.randint(0,10),random.randint(0,10),random.randint(0,10),random.randint(0,10), sep='\\t')\n"
   ]
  },
  {
   "cell_type": "markdown",
   "metadata": {
    "slideshow": {
     "slide_type": "slide"
    }
   },
   "source": [
    "# Programming Challenge: Rolling Dice\n",
    "\n",
    "\n",
    "  <img src=\"https://upload.wikimedia.org/wikipedia/commons/a/a5/6sided_dice.jpg\" alt=\"dice\" style=\"width:25%\" >\n",
    "  <small>Diacritica, [CC BY-SA 3.0, https://commons.wikimedia.org/wiki/File:6sided_dice.jpg</small>\n",
    "\n",
    "\n",
    "Write a program that simulates rolling two dice.\n",
    "- If the player rolls the _snake eyes_ (i.e., two ones), they get the grand prize of \\\\$500.00  \n",
    "- If the sum of the values is 11 or 12, the player gets a prize of \\\\$100.00. \n",
    "- If the sum of the values is even, the player gets a prize of \\\\$10.00."
   ]
  },
  {
   "cell_type": "code",
   "execution_count": null,
   "metadata": {},
   "outputs": [],
   "source": [
    "import random \n",
    "\n",
    "d1 = random.randint(1,6)\n",
    "d2 = random.randint(1,6)\n",
    "\n",
    "sum = d1 + d2 \n",
    "\n",
    "if sum == 2 :\n",
    "    prize = 500\n",
    "elif sum == 11 or sum ==12:\n",
    "    prize = 100\n",
    "elif sum%2 == 0 :\n",
    "    prize = 10\n",
    "else prize = 0 \n",
    "\n"
   ]
  },
  {
   "cell_type": "markdown",
   "metadata": {
    "slideshow": {
     "slide_type": "slide"
    }
   },
   "source": [
    "# Programming Challenge: How Many Snake Eyes?\n",
    "\n",
    "Write a program that rolls two dice 100,000 times and counts the number of times that _snake eyes_ appear. Print the result as a total number and as a fraction of 100,000. \n"
   ]
  },
  {
   "cell_type": "code",
   "execution_count": 28,
   "metadata": {
    "slideshow": {
     "slide_type": "fragment"
    }
   },
   "outputs": [
    {
     "name": "stdout",
     "output_type": "stream",
     "text": [
      "2665\n",
      "0.02665\n"
     ]
    }
   ],
   "source": [
    "count = 0\n",
    "for repeat in range (0,100000):\n",
    "    die1 = random.randint(1,6)\n",
    "    die2 = random.randint(1,6)\n",
    "    if die1 == 1 and die2 == 1:\n",
    "        count = count+1\n",
    "print (count)\n",
    "print (count/100000)"
   ]
  },
  {
   "cell_type": "markdown",
   "metadata": {
    "slideshow": {
     "slide_type": "fragment"
    }
   },
   "source": [
    "- Do you think the number of times that two fives are rolled is going to be approximately the same? \n",
    "- Do you think the number of timesthat sume of two dice is 2 is going to be approixmately the same? \n",
    "- How about the sum of 10? "
   ]
  },
  {
   "cell_type": "markdown",
   "metadata": {
    "slideshow": {
     "slide_type": "slide"
    }
   },
   "source": [
    "# Probability\n",
    "\n",
    "__Probability__ is a measure quantifying the likelihood that events will occur. \n",
    "\n",
    "- probability is measured by a number between 0 and 1, where, \n",
    "    - 0 indicates impossibility and \n",
    "    - 1 indicates certainty \n",
    "    - the higher the probability of an event, the more likely it is that the event will occur. \n",
    "    \n",
    "__Example__: Tossing of a fair (unbiased) coin. \n",
    "- the two outcomes (\"heads\" and \"tails\") are both equally probable (since the coin is fair)\n",
    "- the probability of \"heads\" equals the probability of \"tails\"; and since no other outcomes are possible, the probability of either \"heads\" or \"tails\" is 1/2 (which could also be written as 0.5 or 50%). "
   ]
  },
  {
   "cell_type": "markdown",
   "metadata": {
    "slideshow": {
     "slide_type": "slide"
    }
   },
   "source": [
    "# Probability of a result when rolling a single die\n",
    "\n",
    "- there are six possible outcomes\n",
    "- assuming the die is fair, all of them are equally likely, so the probability of any of the outcomes is 1/6. "
   ]
  },
  {
   "cell_type": "code",
   "execution_count": 32,
   "metadata": {
    "slideshow": {
     "slide_type": "fragment"
    }
   },
   "outputs": [
    {
     "name": "stdout",
     "output_type": "stream",
     "text": [
      "1:  0.16559\n",
      "2:  0.16747\n",
      "3:  0.16702\n",
      "4:  0.16681\n",
      "5:  0.16792\n",
      "6:  0.16519\n",
      "    0.16666666666666666\n"
     ]
    }
   ],
   "source": [
    "count1 = 0\n",
    "count2 = 0\n",
    "count3 = 0\n",
    "count4 = 0\n",
    "count5 = 0\n",
    "count6 = 0\n",
    "for repeat in range(100000):\n",
    "    die = random.randint(1,6) \n",
    "    if die == 1:\n",
    "        count1 += 1\n",
    "    elif die == 2:\n",
    "        count2 += 1\n",
    "    elif die == 3:\n",
    "        count3 += 1\n",
    "    elif die == 4:\n",
    "        count4 += 1\n",
    "    elif die == 5:\n",
    "        count5 += 1\n",
    "    elif die == 6:\n",
    "        count6 += 1\n",
    "print(\"1: \", count1/100000)\n",
    "print(\"2: \", count2/100000)\n",
    "print(\"3: \", count3/100000)\n",
    "print(\"4: \", count4/100000)\n",
    "print(\"5: \", count5/100000)\n",
    "print(\"6: \", count6/100000)\n",
    "print(\"   \", 1/6)"
   ]
  },
  {
   "cell_type": "markdown",
   "metadata": {
    "slideshow": {
     "slide_type": "slide"
    }
   },
   "source": [
    "## Can we rewrite the previous program so that it is shorter and less repetitive? \n",
    "### Using a list may come in handy. "
   ]
  },
  {
   "cell_type": "code",
   "execution_count": null,
   "metadata": {
    "slideshow": {
     "slide_type": "fragment"
    }
   },
   "outputs": [],
   "source": [
    "counts=[0,0,0,0,0,0] \n",
    "\n",
    "for repeat in range(100000):\n",
    "    die = random.randint(1,6) \n",
    "    counts[die-1] += 1\n",
    "\n",
    "for index in range(len(counts)):\n",
    "    print(index+1,\": \", counts[index]/100000, sep=\"\")\n",
    "print(\"  \", 1/6)"
   ]
  },
  {
   "cell_type": "markdown",
   "metadata": {
    "slideshow": {
     "slide_type": "slide"
    }
   },
   "source": [
    "# Probability of a result when rolling two dice\n",
    "\n",
    "What is the probability of getting a particular sum when rolling two fair dice? \n",
    "\n",
    "- how many possible outcomes are there? \n",
    "- are they all equally likely? "
   ]
  },
  {
   "cell_type": "markdown",
   "metadata": {
    "slideshow": {
     "slide_type": "fragment"
    }
   },
   "source": [
    "\n",
    "    \n",
    "<img width=\"512\" alt=\"Dice Probability\" src=\"https://upload.wikimedia.org/wikipedia/commons/thumb/e/ef/Dice_Probability.png/512px-Dice_Probability.png\">\n",
    "\n",
    "<small>Doomdorm64, CC BY-SA 4.0, via Wikimedia Commons: https://commons.wikimedia.org/wiki/File:Dice_Probability.png </small>"
   ]
  },
  {
   "cell_type": "markdown",
   "metadata": {
    "slideshow": {
     "slide_type": "slide"
    }
   },
   "source": [
    "# Programming Challenge: Verify Probabilities for Two Dice\n",
    "\n",
    "Write a program than empirally verifies the probabilities shown on the previous slide.\n",
    "\n",
    "- Roll the two dice 100,000 times. For each possible sum, count how many times the sum occurs. \n",
    "- Printe the results like we did in the case of a single die (but now, there will be more outcomes). "
   ]
  },
  {
   "cell_type": "markdown",
   "metadata": {
    "slideshow": {
     "slide_type": "slide"
    }
   },
   "source": [
    "\n",
    "# NYU id numbers\n",
    "\n",
    "\n",
    "<img src=\"https://lh5.googleusercontent.com/IyJCzvWW3TVjqOPah7dvtL1f9Scj6Vx3yktwQI_z1nc0VSA9LzM_jMHY2xNk5Pw2chGubkH9E20GoWnsPZvgMRlCxTWPmdqeJ-1iDp1E-OaDk0faVPmnCwzUoA\" width=30% alt=\"NYU id\" align=\"right\"> \n",
    "\n",
    "NYU assigns unique id numbers to all of its students and employees. \n",
    "\n",
    "Each id starts with a letter 'N' and is followed by 8 digits.\n",
    "\n",
    "- How many different unique id numbers can be generated using this model? \n"
   ]
  },
  {
   "cell_type": "markdown",
   "metadata": {
    "slideshow": {
     "slide_type": "fragment"
    }
   },
   "source": [
    "\n",
    "- for each of the 8 digit positions, there are 10 different possibilities:\n",
    "0, 1, 2, ..., 9 \n",
    "\n",
    "- since there is only one possibility for the letter, there are no choices there\n",
    "\n",
    "- this means there are <br>\n",
    "\n",
    "    1 `*` 10 `*` 10 `*` 10 `*` 10 `*` 10 `*` 10 `*` 10 `*` 10 = 10^8 = 100,000,000 <br>\n",
    "\n",
    "    possible unique id numbers  "
   ]
  },
  {
   "cell_type": "markdown",
   "metadata": {
    "slideshow": {
     "slide_type": "slide"
    }
   },
   "source": [
    "# lucky id numbers \n",
    "\n",
    "What is the chance that a person is assigned an NYU id number that \n",
    "consists of all of the digits that are the same? <br>\n",
    "\n",
    "For example, N11111111 or N44444444. "
   ]
  },
  {
   "cell_type": "markdown",
   "metadata": {
    "slideshow": {
     "slide_type": "fragment"
    }
   },
   "source": [
    "- there are total of 100,000,000 possible id numbers\n",
    "\n",
    "- how many id numbers have all the same digits?"
   ]
  },
  {
   "cell_type": "markdown",
   "metadata": {
    "slideshow": {
     "slide_type": "fragment"
    }
   },
   "source": [
    "- 10 (the one with all 1's, the one with all 2's, ...) \n",
    "\n",
    "\n",
    "- so the chance of getting a number that has all the same digits (assuming all numbers are equally likely is: 10 / 100,000,000 which is one\n",
    "in ten million \n",
    "\n",
    "__Dsiclaimer: NYU probably does not assign the id numbers randomly; there are\n",
    "are also other rules for what a valid id can be.__"
   ]
  },
  {
   "cell_type": "markdown",
   "metadata": {
    "slideshow": {
     "slide_type": "slide"
    }
   },
   "source": [
    "\n",
    "# license plates\n",
    "\n",
    "\n",
    "Automobile license plates typically have a combination of letters ( 26 ) and numbers ( 10 ). Over time, the state of New\n",
    "York has used different criteria to assign vehicle license plate numbers.\n",
    "\n",
    "\n",
    "<img src=\"https://dmv.ny.gov/sites/default/files/styles/panopoly_image_original/public/Plates_2.png?itok=-1gvx8I1\" width=80% alt=\"NYS license plate\"> \n",
    "\n",
    "\n",
    "- From 1973 to 1986, the state used a 3-letter and 4-number code where the three letters indicated the county where the vehicle was registered. \n",
    "Essex County had 13 different 3-letter codes in use. How many cars could be\n",
    "registered in Essex? \n",
    "\n",
    "- Since 2001, the state has used a 3-letter and 4-number code but no longer assigns letters by county. \n",
    "As of [2016 report](https://dmv.ny.gov/statistic/2016reginforce-web.pdf) New\n",
    "York state had 11,256,778 vehicles registered. \n",
    "\n",
    "\n",
    "- Is this coding scheme enough to register all of the vehicles in New York state?\n",
    "\n"
   ]
  },
  {
   "cell_type": "code",
   "execution_count": 1,
   "metadata": {},
   "outputs": [
    {
     "data": {
      "text/plain": [
       "175760000"
      ]
     },
     "execution_count": 1,
     "metadata": {},
     "output_type": "execute_result"
    }
   ],
   "source": [
    "26**3*10**4"
   ]
  },
  {
   "cell_type": "markdown",
   "metadata": {
    "slideshow": {
     "slide_type": "slide"
    }
   },
   "source": [
    "# Pulling a Name Out of a Hat\n",
    "\n",
    "Could we simulate a process or randomly selecting a name out of a hat that contains names of several people written on a piece of paper? <br>\n",
    "For example, to select a volunteer to answer the next question? "
   ]
  },
  {
   "cell_type": "code",
   "execution_count": 33,
   "metadata": {
    "slideshow": {
     "slide_type": "fragment"
    }
   },
   "outputs": [
    {
     "name": "stdout",
     "output_type": "stream",
     "text": [
      "19 Nate Keilly Johana\n"
     ]
    }
   ],
   "source": [
    "import random\n",
    "hat = [\"Amr\", \"Axel Christian\", \"Alex\", \"Andrey\", \"Blake\", \"Chelsea\", \n",
    "       \"Garrett Royce\", \"Isaac\", \"James Arthur\", \"Justin\", \"Junjie\", \n",
    "       \"Justin\", \"Jordanna Micole\", \"John\", \"Jason\", \"Keilly Johana\", \n",
    "       \"Kyara\", \"Lea\", \"Natalie\", \"Nate\", \"Sol Cabrini\", \"Brian\", \n",
    "       \"Sitong\", \"Sam\", \"Samantha\", \"Tyler Samuel\", \"Bailey\"]\n",
    "v = hat[ random.randint(0,len(hat)-1) ]\n",
    "volunteer = random.randint(0,len(hat)-1) \n",
    "print(volunteer, hat[volunteer],v)"
   ]
  },
  {
   "cell_type": "markdown",
   "metadata": {
    "slideshow": {
     "slide_type": "slide"
    }
   },
   "source": [
    "# Creating _Random_ Names \n",
    "\n",
    "Given a list of first names and last names, we want to create a random name composed of exactly one first name and one last name.\n",
    "\n",
    "Can you think of a way to complete this progam to accompish that task? "
   ]
  },
  {
   "cell_type": "code",
   "execution_count": null,
   "metadata": {
    "slideshow": {
     "slide_type": "fragment"
    }
   },
   "outputs": [],
   "source": [
    "first = [\"Joanna\",\"Alice\",\"Jason\",\"Kate\",\"Andrew\",\"Seth\"]\n",
    "last = [\"Smith\",\"Brooks\",\"White\",\"Green\",\"Smith\",\"Ziminski\",\"Argh\",\"Xu\",\"Gonzalez\"]"
   ]
  },
  {
   "cell_type": "code",
   "execution_count": 40,
   "metadata": {
    "slideshow": {
     "slide_type": "fragment"
    }
   },
   "outputs": [
    {
     "name": "stdout",
     "output_type": "stream",
     "text": [
      "Andrew Smith\n"
     ]
    }
   ],
   "source": [
    "first = [\"Joanna\",\"Alice\",\"Jason\",\"Kate\",\"Andrew\",\"Seth\"]\n",
    "last = [\"Smith\",\"Brooks\",\"White\",\"Green\",\"James\",\"Ziminski\",\"Argh\",\"Xu\",\"Gonzalez\"]\n",
    "\n",
    "name = first[ random.randint(0,len(first)-1)  ] + \" \" + last [ random.randint(0,len(last)-1)  ]\n",
    "print(name)\n"
   ]
  },
  {
   "cell_type": "markdown",
   "metadata": {
    "slideshow": {
     "slide_type": "slide"
    }
   },
   "source": [
    "# Probability of a Given Name\n",
    "\n",
    "- What is the probability that the name we generate has the first name \"Andrew\"?\n",
    "- What is the probability that the name we generate has the last name \"Green\"?\n",
    "- What is the probability that the name we generate is \"Alice Xu\"? "
   ]
  },
  {
   "cell_type": "code",
   "execution_count": 43,
   "metadata": {
    "slideshow": {
     "slide_type": "fragment"
    }
   },
   "outputs": [
    {
     "name": "stdout",
     "output_type": "stream",
     "text": [
      "Alice Xu:  0.18473\n",
      "0.018518518518518517\n",
      "Andrew:  1.66739\n",
      "0.16666666666666666\n",
      "Green:  1.11625\n",
      "0.1111111111111111\n"
     ]
    }
   ],
   "source": [
    "countAndrew = 0\n",
    "countGreen = 0\n",
    "countAliceXu = 0\n",
    "for repeat in range(1000000) :\n",
    "    name = first[ random.randint(0,len(first)-1)  ] + \" \" + last [ random.randint(0,len(last)-1)  ]\n",
    "    if name == \"Alice Xu\" :\n",
    "        countAliceXu += 1\n",
    "    if \"Andrew\" in name:\n",
    "        countAndrew += 1\n",
    "    if \"Green\" in name:\n",
    "        countGreen += 1\n",
    "    \n",
    "print(\"Alice Xu: \", countAliceXu/100000)\n",
    "print(1/54)\n",
    "print(\"Andrew: \", countAndrew/100000)\n",
    "print(1/6)\n",
    "print(\"Green: \", countGreen/100000)\n",
    "print(1/9)"
   ]
  },
  {
   "cell_type": "markdown",
   "metadata": {
    "slideshow": {
     "slide_type": "slide"
    }
   },
   "source": [
    "# Create a _Random_ Personel Record  "
   ]
  },
  {
   "cell_type": "code",
   "execution_count": 53,
   "metadata": {
    "slideshow": {
     "slide_type": "fragment"
    }
   },
   "outputs": [
    {
     "name": "stdout",
     "output_type": "stream",
     "text": [
      "['Alice', 'Brooks', 20000]\n"
     ]
    }
   ],
   "source": [
    "first = [\"Joanna\",\"Alice\",\"Jason\",\"Kate\",\"Andrew\",\"Seth\"]\n",
    "last = [\"Smith\",\"Brooks\",\"White\",\"Green\",\"James\",\"Ziminski\",\"Argh\"]\n",
    "salaries = [20000, 45000, 50000, 75000,90000, 100000, 125000, 170000]\n",
    "\n",
    "personel_record = [first[ random.randint(0,len(first)-1)  ],  \n",
    "                   last[ random.randint(0,len(last)-1)  ],  \n",
    "                   salaries[ random.randint(0,len(salaries)-1)  ] \n",
    "                  ]\n",
    "print(personel_record)"
   ]
  },
  {
   "cell_type": "markdown",
   "metadata": {
    "slideshow": {
     "slide_type": "fragment"
    }
   },
   "source": [
    "- What is the probability that a random person has first name that is \"Kate\"?\n",
    "- What is teh probability that a random person has salary equal to \\\\$90,000?\n",
    "- What is the probability that a random person makes \\\\$50,000 or more? \n",
    "- What is the probability that a random person has first name \"Alice\" and salary less than or equal \\\\$100,000? "
   ]
  },
  {
   "cell_type": "markdown",
   "metadata": {
    "slideshow": {
     "slide_type": "slide"
    }
   },
   "source": [
    "# Create a List of Random Personel Records"
   ]
  },
  {
   "cell_type": "code",
   "execution_count": 61,
   "metadata": {
    "slideshow": {
     "slide_type": "fragment"
    }
   },
   "outputs": [],
   "source": [
    "dataset = []\n",
    "for i in range(0,10):\n",
    "    personel_record = [first[ random.randint(0,len(first)-1)  ],  \n",
    "                   last[ random.randint(0,len(last)-1)  ],  \n",
    "                   salaries[ random.randint(0,len(salaries)-1)  ] \n",
    "                  ]\n",
    "    dataset.append(  personel_record  ) "
   ]
  },
  {
   "cell_type": "code",
   "execution_count": 62,
   "metadata": {
    "slideshow": {
     "slide_type": "fragment"
    }
   },
   "outputs": [
    {
     "name": "stdout",
     "output_type": "stream",
     "text": [
      "[['Seth', 'Argh', 90000], ['Alice', 'James', 100000], ['Seth', 'White', 100000], ['Andrew', 'Argh', 125000], ['Kate', 'Smith', 90000], ['Joanna', 'White', 100000], ['Kate', 'James', 125000], ['Seth', 'White', 45000], ['Andrew', 'Green', 125000], ['Jason', 'Brooks', 20000]]\n"
     ]
    }
   ],
   "source": [
    "print(dataset)"
   ]
  },
  {
   "cell_type": "code",
   "execution_count": 65,
   "metadata": {
    "slideshow": {
     "slide_type": "fragment"
    }
   },
   "outputs": [
    {
     "name": "stdout",
     "output_type": "stream",
     "text": [
      "Seth                Argh                 90,000.00\n",
      "Alice               James               100,000.00\n",
      "Seth                White               100,000.00\n",
      "Andrew              Argh                125,000.00\n",
      "Kate                Smith                90,000.00\n",
      "Joanna              White               100,000.00\n",
      "Kate                James               125,000.00\n",
      "Seth                White                45,000.00\n",
      "Andrew              Green               125,000.00\n",
      "Jason               Brooks               20,000.00\n"
     ]
    }
   ],
   "source": [
    "for i in range(0,10):\n",
    "    person = dataset[i]\n",
    "    print(format(person[0],'20s'), \n",
    "          format(person[1],'20s'),\n",
    "          format(person[2],'10,.2f'), \n",
    "          sep='')"
   ]
  },
  {
   "cell_type": "markdown",
   "metadata": {
    "slideshow": {
     "slide_type": "slide"
    }
   },
   "source": [
    "# Challenge: Lunch\n",
    "\n",
    "The office cafeteria offers several choices for lunch:\n",
    "- main course:  chicken stew,  pasta,  fish tacos \n",
    "- drink:\n",
    "    - water,  milk,  soda, coffee\n",
    "- dessert:\n",
    "    - cheesecase,  fruit cup\n",
    "\n",
    "You randomly decide to have fish tacos, water and cheesecake. \n",
    "- What is the probability that your office mate, who is also randomly selecting the options, ends up with exactly same lunch?\n",
    "- What is the probability that your office mate has fish tacos as the main course?\n",
    "- What is the probability that your office mate has coffee and chesecase as part of their meal? "
   ]
  },
  {
   "cell_type": "markdown",
   "metadata": {
    "slideshow": {
     "slide_type": "slide"
    }
   },
   "source": [
    "# Programming Challenge:  Lunch\n",
    "\n",
    "\n",
    "Write a program that provides a simulation of the lunch selection described on the previous slide. \n",
    "\n",
    "Emptirically verify the answers that you provided for the questions."
   ]
  },
  {
   "cell_type": "markdown",
   "metadata": {
    "slideshow": {
     "slide_type": "slide"
    }
   },
   "source": [
    "# coin toss\n",
    "\n",
    "\n",
    "\n",
    "Suppose you are tossing 3 coins and want  2 heads.\n",
    "\n",
    "- list all of the possible outcomes for tossing three coins (this is called a sample space)\n",
    "\n",
    "- list all of the possible outcomes for getting exactly two heads (this is called the event)\n",
    "\n",
    "- what is the probability of tossing 3 coins and getting exactly two heads? \n",
    "\n",
    "- what is the probability of tossing 3 coins and getting at least two heads? \n",
    "\n",
    "\n",
    "\n"
   ]
  },
  {
   "cell_type": "markdown",
   "metadata": {
    "slideshow": {
     "slide_type": "slide"
    }
   },
   "source": [
    "\n",
    "# marbles\n",
    "\n",
    "\n",
    "<img src=\"http://etc.usf.edu/clipart/41400/41420/b4s2w4_41420_md.gif  \" width=15% alt=\"coin toss\" align=\"right\"> \n",
    "\n",
    "Suppose you have a jar with 5 white marbles and 8 black marbles.\n",
    "\n",
    "- what is the probability of drawing a black marble?\n",
    "\n",
    "- what is the probability of drawing a white marble?\n",
    "\n",
    "- add the two values from the previous questions? what value did you get?\n",
    "is that reasonable?\n",
    "\n",
    "- suppose you draw one marble, put it back in the jar and then draw another \n",
    "marble\n",
    "    - what is the probability that both are black?\n",
    "    - what is the probability that both are white?\n",
    "    - what is the probability that the first is white and the second is black?\n",
    "    \n"
   ]
  },
  {
   "cell_type": "code",
   "execution_count": null,
   "metadata": {},
   "outputs": [],
   "source": []
  }
 ],
 "metadata": {
  "celltoolbar": "Slideshow",
  "kernelspec": {
   "display_name": "Python 3",
   "language": "python",
   "name": "python3"
  },
  "language_info": {
   "codemirror_mode": {
    "name": "ipython",
    "version": 3
   },
   "file_extension": ".py",
   "mimetype": "text/x-python",
   "name": "python",
   "nbconvert_exporter": "python",
   "pygments_lexer": "ipython3",
   "version": "3.7.0"
  }
 },
 "nbformat": 4,
 "nbformat_minor": 2
}
