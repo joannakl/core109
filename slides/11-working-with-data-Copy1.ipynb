{
 "cells": [
  {
   "cell_type": "markdown",
   "metadata": {
    "slideshow": {
     "slide_type": "slide"
    }
   },
   "source": [
    "# Working  Data\n",
    "\n",
    "## CORE-UA 109.01, Joanna Klukowska <br>"
   ]
  },
  {
   "cell_type": "code",
   "execution_count": 9,
   "metadata": {},
   "outputs": [
    {
     "name": "stdout",
     "output_type": "stream",
     "text": [
      "[65399, 16834, 145514, 149660, 11768, 63552, 27891, 199478, 51053, 96237]\n"
     ]
    }
   ],
   "source": [
    "first = [\"Joanna\",\"Alice\",\"Jason\",\"Kate\",\"Andrew\",\"Seth\"]\n",
    "last = [\"Smith\",\"Brooks\",\"White\",\"Green\",\"James\",\"Ziminski\",\"Argh\"]\n",
    "salaries = []\n",
    "for i in range(0,10):\n",
    "    x = random.randint(10000,200000)\n",
    "    salaries.append(x)\n",
    "print (salaries)    "
   ]
  },
  {
   "cell_type": "code",
   "execution_count": 3,
   "metadata": {},
   "outputs": [],
   "source": [
    "def create_person(first, last, salaries):\n",
    "    return {'first':first[random.randint(0,len(first)-1)], \n",
    "            'last':last[random.randint(0,len(last)-1)],\n",
    "            'salary':salaries[random.randint(0,len(salaries)-1)] \n",
    "           }"
   ]
  },
  {
   "cell_type": "code",
   "execution_count": 4,
   "metadata": {},
   "outputs": [
    {
     "data": {
      "text/plain": [
       "{'first': 'Andrew', 'last': 'Brooks', 'salary': 134937}"
      ]
     },
     "execution_count": 4,
     "metadata": {},
     "output_type": "execute_result"
    }
   ],
   "source": [
    "create_person(first, last, salaries)"
   ]
  },
  {
   "cell_type": "code",
   "execution_count": 10,
   "metadata": {},
   "outputs": [],
   "source": [
    "dataset = []\n",
    "for i in range(0,10):\n",
    "    dataset.append(create_person(first, last, salaries)) "
   ]
  },
  {
   "cell_type": "code",
   "execution_count": 11,
   "metadata": {},
   "outputs": [
    {
     "name": "stdout",
     "output_type": "stream",
     "text": [
      "[{'first': 'Andrew', 'last': 'Smith', 'salary': 120250}, {'first': 'Seth', 'last': 'Argh', 'salary': 116151}, {'first': 'Seth', 'last': 'Argh', 'salary': 110989}, {'first': 'Andrew', 'last': 'Green', 'salary': 137383}, {'first': 'Alice', 'last': 'Ziminski', 'salary': 137383}, {'first': 'Seth', 'last': 'Argh', 'salary': 120250}, {'first': 'Alice', 'last': 'James', 'salary': 77873}, {'first': 'Alice', 'last': 'Argh', 'salary': 20612}, {'first': 'Andrew', 'last': 'Green', 'salary': 120250}, {'first': 'Joanna', 'last': 'White', 'salary': 134937}]\n"
     ]
    }
   ],
   "source": [
    "print(dataset)"
   ]
  },
  {
   "cell_type": "code",
   "execution_count": 12,
   "metadata": {},
   "outputs": [
    {
     "name": "stdout",
     "output_type": "stream",
     "text": [
      "Smith               Andrew              120,250.00\n",
      "Argh                Seth                116,151.00\n",
      "Argh                Seth                110,989.00\n",
      "Green               Andrew              137,383.00\n",
      "Ziminski            Alice               137,383.00\n",
      "Argh                Seth                120,250.00\n",
      "James               Alice                77,873.00\n",
      "Argh                Alice                20,612.00\n",
      "Green               Andrew              120,250.00\n",
      "White               Joanna              134,937.00\n"
     ]
    }
   ],
   "source": [
    "for i in range(0,10):\n",
    "    person = dataset[i]\n",
    "    person['first']\n",
    "    print(format(person['last'],'20s'), \n",
    "          format(person['first'],'20s'),\n",
    "          format(person['salary'],'10,.2f'), \n",
    "          sep='')"
   ]
  },
  {
   "cell_type": "code",
   "execution_count": null,
   "metadata": {},
   "outputs": [],
   "source": [
    "\n",
    "import pandas as pd"
   ]
  },
  {
   "cell_type": "code",
   "execution_count": 15,
   "metadata": {},
   "outputs": [],
   "source": [
    "data_frame = pd.DataFrame(dataset,columns=[\"first\",\"last\",\"salary\"])"
   ]
  },
  {
   "cell_type": "code",
   "execution_count": 17,
   "metadata": {},
   "outputs": [
    {
     "data": {
      "text/html": [
       "<div>\n",
       "<style scoped>\n",
       "    .dataframe tbody tr th:only-of-type {\n",
       "        vertical-align: middle;\n",
       "    }\n",
       "\n",
       "    .dataframe tbody tr th {\n",
       "        vertical-align: top;\n",
       "    }\n",
       "\n",
       "    .dataframe thead th {\n",
       "        text-align: right;\n",
       "    }\n",
       "</style>\n",
       "<table border=\"1\" class=\"dataframe\">\n",
       "  <thead>\n",
       "    <tr style=\"text-align: right;\">\n",
       "      <th></th>\n",
       "      <th>first</th>\n",
       "      <th>last</th>\n",
       "      <th>salary</th>\n",
       "    </tr>\n",
       "  </thead>\n",
       "  <tbody>\n",
       "    <tr>\n",
       "      <th>0</th>\n",
       "      <td>Andrew</td>\n",
       "      <td>Smith</td>\n",
       "      <td>120250</td>\n",
       "    </tr>\n",
       "    <tr>\n",
       "      <th>1</th>\n",
       "      <td>Seth</td>\n",
       "      <td>Argh</td>\n",
       "      <td>116151</td>\n",
       "    </tr>\n",
       "    <tr>\n",
       "      <th>2</th>\n",
       "      <td>Seth</td>\n",
       "      <td>Argh</td>\n",
       "      <td>110989</td>\n",
       "    </tr>\n",
       "    <tr>\n",
       "      <th>3</th>\n",
       "      <td>Andrew</td>\n",
       "      <td>Green</td>\n",
       "      <td>137383</td>\n",
       "    </tr>\n",
       "    <tr>\n",
       "      <th>4</th>\n",
       "      <td>Alice</td>\n",
       "      <td>Ziminski</td>\n",
       "      <td>137383</td>\n",
       "    </tr>\n",
       "    <tr>\n",
       "      <th>5</th>\n",
       "      <td>Seth</td>\n",
       "      <td>Argh</td>\n",
       "      <td>120250</td>\n",
       "    </tr>\n",
       "    <tr>\n",
       "      <th>6</th>\n",
       "      <td>Alice</td>\n",
       "      <td>James</td>\n",
       "      <td>77873</td>\n",
       "    </tr>\n",
       "    <tr>\n",
       "      <th>7</th>\n",
       "      <td>Alice</td>\n",
       "      <td>Argh</td>\n",
       "      <td>20612</td>\n",
       "    </tr>\n",
       "    <tr>\n",
       "      <th>8</th>\n",
       "      <td>Andrew</td>\n",
       "      <td>Green</td>\n",
       "      <td>120250</td>\n",
       "    </tr>\n",
       "    <tr>\n",
       "      <th>9</th>\n",
       "      <td>Joanna</td>\n",
       "      <td>White</td>\n",
       "      <td>134937</td>\n",
       "    </tr>\n",
       "  </tbody>\n",
       "</table>\n",
       "</div>"
      ],
      "text/plain": [
       "    first      last  salary\n",
       "0  Andrew     Smith  120250\n",
       "1    Seth      Argh  116151\n",
       "2    Seth      Argh  110989\n",
       "3  Andrew     Green  137383\n",
       "4   Alice  Ziminski  137383\n",
       "5    Seth      Argh  120250\n",
       "6   Alice     James   77873\n",
       "7   Alice      Argh   20612\n",
       "8  Andrew     Green  120250\n",
       "9  Joanna     White  134937"
      ]
     },
     "execution_count": 17,
     "metadata": {},
     "output_type": "execute_result"
    }
   ],
   "source": [
    "data_frame"
   ]
  },
  {
   "cell_type": "code",
   "execution_count": 21,
   "metadata": {},
   "outputs": [
    {
     "data": {
      "text/plain": [
       "0    120250\n",
       "1    116151\n",
       "2    110989\n",
       "3    137383\n",
       "4    137383\n",
       "5    120250\n",
       "6     77873\n",
       "7     20612\n",
       "8    120250\n",
       "9    134937\n",
       "Name: salary, dtype: int64"
      ]
     },
     "execution_count": 21,
     "metadata": {},
     "output_type": "execute_result"
    }
   ],
   "source": [
    "data_frame[\"salary\"]"
   ]
  },
  {
   "cell_type": "code",
   "execution_count": 23,
   "metadata": {},
   "outputs": [
    {
     "data": {
      "text/plain": [
       "'Green'"
      ]
     },
     "execution_count": 23,
     "metadata": {},
     "output_type": "execute_result"
    }
   ],
   "source": [
    "data_frame[\"last\"][3]"
   ]
  },
  {
   "cell_type": "code",
   "execution_count": 29,
   "metadata": {},
   "outputs": [
    {
     "name": "stdout",
     "output_type": "stream",
     "text": [
      "109607.8\n",
      "120250.0\n",
      "0    120250\n",
      "dtype: int64\n"
     ]
    }
   ],
   "source": [
    "print(data_frame['salary'].mean())\n",
    "print(data_frame['salary'].median())\n",
    "print(data_frame['salary'].mode())"
   ]
  },
  {
   "cell_type": "code",
   "execution_count": null,
   "metadata": {},
   "outputs": [],
   "source": []
  }
 ],
 "metadata": {
  "celltoolbar": "Slideshow",
  "kernelspec": {
   "display_name": "Python 3",
   "language": "python",
   "name": "python3"
  },
  "language_info": {
   "codemirror_mode": {
    "name": "ipython",
    "version": 3
   },
   "file_extension": ".py",
   "mimetype": "text/x-python",
   "name": "python",
   "nbconvert_exporter": "python",
   "pygments_lexer": "ipython3",
   "version": "3.7.0"
  }
 },
 "nbformat": 4,
 "nbformat_minor": 2
}
