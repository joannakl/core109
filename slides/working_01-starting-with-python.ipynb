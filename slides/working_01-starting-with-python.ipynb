{
 "cells": [
  {
   "cell_type": "markdown",
   "metadata": {
    "slideshow": {
     "slide_type": "slide"
    }
   },
   "source": [
    "# Starting with Python\n",
    "\n",
    "## CORE-UA 109.01, Joanna Klukowska \n",
    "(adapted from slides for CSCI-UA.002 by D. Engle, C. Kapp and J. Versoza)\n",
    "\n",
    "---"
   ]
  },
  {
   "cell_type": "markdown",
   "metadata": {
    "slideshow": {
     "slide_type": "slide"
    }
   },
   "source": [
    "<img src=\"img/metro.jpg\" width=10% align=\"right\"  style=\"margin:20px 40px 20px 20px\">\n",
    "\n",
    "## Metro Card\n",
    "\n",
    "Your roommate is new to New York City. She has a metro card with \\\\$ 17.38 on it. Knowing that you are good at math, she is asking you to help her figure out how many rides she has on the card. Once you figure it out, other friends come with similar questions: one of them has \\\\$23.95, the other has \\\\$32.78, yet another has \\\\$15.50, ... \n"
   ]
  },
  {
   "cell_type": "markdown",
   "metadata": {
    "slideshow": {
     "slide_type": "fragment"
    }
   },
   "source": [
    "**This task ...**\n",
    "- has some calculations that may be hard to do in your head (calculator would help)\n",
    "- is repetitive\n"
   ]
  },
  {
   "cell_type": "markdown",
   "metadata": {
    "slideshow": {
     "slide_type": "slide"
    }
   },
   "source": [
    "<img src=\"img/arithmetic.png\" width=10% align=\"left\"  style=\"margin:20px 40px 20px 20px\">\n",
    "\n",
    "## Math practice\n",
    "\n",
    "You go home for the fall recess and you discover that your younger sibling just learned basic arithmetic in school: addition, subtraction, multiplication, division. She is going to take a test in school next week and she wants to practice her skills. Your job is to come up with more and more examples for her and then tell her if she got a correct answer or not. \n",
    "\n"
   ]
  },
  {
   "cell_type": "markdown",
   "metadata": {
    "slideshow": {
     "slide_type": "fragment"
    }
   },
   "source": [
    "**This task ...**\n",
    "- is repetitive\n",
    "- is tedious for a person to do over and over again \n"
   ]
  },
  {
   "cell_type": "markdown",
   "metadata": {
    "slideshow": {
     "slide_type": "slide"
    }
   },
   "source": [
    "# printing or showing information on the screen \n",
    "---"
   ]
  },
  {
   "cell_type": "markdown",
   "metadata": {
    "slideshow": {
     "slide_type": "slide"
    }
   },
   "source": [
    "# `print` function"
   ]
  },
  {
   "cell_type": "code",
   "execution_count": 1,
   "metadata": {
    "slideshow": {
     "slide_type": "fragment"
    }
   },
   "outputs": [
    {
     "name": "stdout",
     "output_type": "stream",
     "text": [
      "hello core109 - congratulations on running your first program\n",
      "24.0\n"
     ]
    }
   ],
   "source": [
    "print ('hello core109 - congratulations on running your first program' )\n",
    "print ( 3 * 17 - 102/3 + 7 )"
   ]
  },
  {
   "cell_type": "markdown",
   "metadata": {
    "slideshow": {
     "slide_type": "fragment"
    }
   },
   "source": [
    "* `print` does what you might expect it to do: it prints some content to the screen/console\n",
    "\n",
    "* `print` takes either a string (first case above) or a numerical value (second case above) as its arguments \n",
    "    * _strigs_ are sequences of characters that start and end eihter with a single quote `'` or \n",
    "    with a double quote `\"` \n",
    "    * when the numerical value given to the `print` function is a more complicated expression,\n",
    "    the `print` function evaluates it first before the value is printed (so the `print` function first figures out what the value of `3 * 17 - 102/3 + 7` is and then prints `24`)\n",
    "    "
   ]
  },
  {
   "cell_type": "markdown",
   "metadata": {
    "slideshow": {
     "slide_type": "slide"
    }
   },
   "source": [
    "# more on `print()` function\n",
    "\n",
    "__Can I print more than one _thing_ using `print()`?__ \n",
    "\n",
    "Sure ... just concatenate your _things_ with a comma, like this: "
   ]
  },
  {
   "cell_type": "code",
   "execution_count": null,
   "metadata": {
    "slideshow": {
     "slide_type": "fragment"
    }
   },
   "outputs": [],
   "source": [
    "# This will concatenate the two strings first and then print the resulting string. \n",
    "print (\"my name is\", \"Joanna\") "
   ]
  },
  {
   "cell_type": "code",
   "execution_count": 2,
   "metadata": {
    "slideshow": {
     "slide_type": "fragment"
    }
   },
   "outputs": [
    {
     "name": "stdout",
     "output_type": "stream",
     "text": [
      "The value of  3 * 17 - 102/3 + 7  is  24.0\n"
     ]
    }
   ],
   "source": [
    "# This will concatenate the first string that contains a mathematical \n",
    "# expression with the value of 24.0 that results from calculating expression \n",
    "# after the comma.\n",
    "\n",
    "print (\"The value of  3 * 17 - 102/3 + 7  is \",  3 * 17 - 102/3 + 7) "
   ]
  },
  {
   "cell_type": "markdown",
   "metadata": {
    "slideshow": {
     "slide_type": "slide"
    }
   },
   "source": [
    "__Can I concatenate more than two _things_?__\n",
    "\n",
    "Absolutely!\n",
    "\n",
    "... just don't overdo it, otherwise your code becomes harder to read.  \n",
    "    "
   ]
  },
  {
   "cell_type": "markdown",
   "metadata": {
    "slideshow": {
     "slide_type": "slide"
    }
   },
   "source": [
    "# `print()` examples"
   ]
  },
  {
   "cell_type": "markdown",
   "metadata": {
    "slideshow": {
     "slide_type": "fragment"
    }
   },
   "source": [
    "This is just a regular print statement and its output. "
   ]
  },
  {
   "cell_type": "code",
   "execution_count": null,
   "metadata": {
    "slideshow": {
     "slide_type": "fragment"
    }
   },
   "outputs": [],
   "source": [
    "print(\"Line 1\")"
   ]
  },
  {
   "cell_type": "markdown",
   "metadata": {
    "slideshow": {
     "slide_type": "slide"
    }
   },
   "source": [
    "# `print()` examples: `end=`"
   ]
  },
  {
   "cell_type": "code",
   "execution_count": 3,
   "metadata": {
    "slideshow": {
     "slide_type": "fragment"
    }
   },
   "outputs": [
    {
     "name": "stdout",
     "output_type": "stream",
     "text": [
      "Line 2, part 1\n",
      "Line 2, part 2\n"
     ]
    }
   ],
   "source": [
    "# I want these two strings to be printed on a single line! But this does not happen. \n",
    "\n",
    "print('Line 2, part 1') \n",
    "print('Line 2, part 2') \n",
    "  "
   ]
  },
  {
   "cell_type": "markdown",
   "metadata": {
    "slideshow": {
     "slide_type": "fragment"
    }
   },
   "source": [
    "* `print` function automatically adds a newline character at the end of the printed text \n",
    "* we can change that by telling it to use a different end of line character(s)"
   ]
  },
  {
   "cell_type": "code",
   "execution_count": 4,
   "metadata": {
    "slideshow": {
     "slide_type": "fragment"
    }
   },
   "outputs": [
    {
     "name": "stdout",
     "output_type": "stream",
     "text": [
      "Line 2, part 1 Line 2, part 2\n"
     ]
    }
   ],
   "source": [
    "print('Line 2, part 1', end=' ')   # use a space instead of a newline\n",
    "print('Line 2, part 2') "
   ]
  },
  {
   "cell_type": "code",
   "execution_count": 5,
   "metadata": {
    "slideshow": {
     "slide_type": "fragment"
    }
   },
   "outputs": [
    {
     "name": "stdout",
     "output_type": "stream",
     "text": [
      "Line 2, part 1***Line 2, part 2\n"
     ]
    }
   ],
   "source": [
    "print('Line 2, part 1', end='***')     # use three stars instead of a newline\n",
    "print('Line 2, part 2') "
   ]
  },
  {
   "cell_type": "markdown",
   "metadata": {
    "slideshow": {
     "slide_type": "slide"
    }
   },
   "source": [
    "\n",
    "# `print()` examples: `sep=` "
   ]
  },
  {
   "cell_type": "code",
   "execution_count": 6,
   "metadata": {
    "slideshow": {
     "slide_type": "fragment"
    }
   },
   "outputs": [
    {
     "name": "stdout",
     "output_type": "stream",
     "text": [
      "My name is  Joanna.\n",
      "I am learning Python.\n"
     ]
    }
   ],
   "source": [
    "print(\"My name is \", \"Joanna.\") \n",
    "print(\"I am learning\", \"Python.\")   "
   ]
  },
  {
   "cell_type": "markdown",
   "metadata": {
    "slideshow": {
     "slide_type": "fragment"
    }
   },
   "source": [
    "How do these two statements differ? \n",
    "\n",
    "* the first one has an extra space between \"is\" and \"Joanna\"\n",
    "* `print` adds spaces between the elements of the comma-separated lists of its arguments automatically\n",
    "\n",
    "We can change this behavior by specifying a different separator: "
   ]
  },
  {
   "cell_type": "code",
   "execution_count": 7,
   "metadata": {
    "slideshow": {
     "slide_type": "fragment"
    }
   },
   "outputs": [
    {
     "name": "stdout",
     "output_type": "stream",
     "text": [
      "My name is Joanna.\n",
      "My name is***Joanna.\n",
      "I am learning  !  Python.\n"
     ]
    }
   ],
   "source": [
    "print(\"My name is \", \"Joanna.\", sep=\"\")    # do not use any separator \n",
    "print(\"My name is\", \"Joanna.\", sep=\"***\")  # use three stars as a separator \n",
    "print(\"I am learning\", \"Python.\", sep=\"  !  \")  # use spaces and a ! as a separator"
   ]
  },
  {
   "cell_type": "markdown",
   "metadata": {
    "slideshow": {
     "slide_type": "slide"
    }
   },
   "source": [
    "# variables "
   ]
  },
  {
   "cell_type": "markdown",
   "metadata": {
    "slideshow": {
     "slide_type": "slide"
    }
   },
   "source": [
    "# variables\n",
    "\n",
    "\n",
    "<img src=\"img/variable.png\" width=40% align=\"right\">\n",
    "\n",
    "Variables are like little \"buckets\" or \"containers\" that can store information.\n",
    "\n",
    "You can create a variable by using the following syntax:\n",
    "\n",
    "__`variablename = somedata`__\n",
    "\n",
    "**Examples:**\n"
   ]
  },
  {
   "cell_type": "code",
   "execution_count": null,
   "metadata": {},
   "outputs": [],
   "source": [
    "\n",
    "speed = 5  # we set speed to be equal to 5\n",
    "myname = 'Kate'  # we set name to be equal to Kate"
   ]
  },
  {
   "cell_type": "markdown",
   "metadata": {
    "slideshow": {
     "slide_type": "slide"
    }
   },
   "source": [
    "# variables - example"
   ]
  },
  {
   "cell_type": "code",
   "execution_count": 11,
   "metadata": {
    "slideshow": {
     "slide_type": "fragment"
    }
   },
   "outputs": [
    {
     "name": "stdout",
     "output_type": "stream",
     "text": [
      "156\n"
     ]
    }
   ],
   "source": [
    "num1 = 67   # assign a value of 57 to variable named num1\n",
    "num2 = 89   # assign a value of 89 to variable named num2\n",
    "\n",
    "#calculate the sum of the values stored in num1 and num2\n",
    "sum_of_nums = num1 + num2\n",
    "print(sum_of_nums)"
   ]
  },
  {
   "cell_type": "markdown",
   "metadata": {
    "slideshow": {
     "slide_type": "fragment"
    }
   },
   "source": [
    "* first the values are saved in variables called `num1` and `num2` and then the sum of those values is saved in another variable called `sum_of_nums` "
   ]
  },
  {
   "cell_type": "markdown",
   "metadata": {
    "slideshow": {
     "slide_type": "fragment"
    }
   },
   "source": [
    "* but wait! this program does not have any output (why?)"
   ]
  },
  {
   "cell_type": "markdown",
   "metadata": {
    "slideshow": {
     "slide_type": "fragment"
    }
   },
   "source": [
    "* what can we do to make the program print the result?"
   ]
  },
  {
   "cell_type": "markdown",
   "metadata": {
    "slideshow": {
     "slide_type": "slide"
    }
   },
   "source": [
    "# why variables?"
   ]
  },
  {
   "cell_type": "code",
   "execution_count": null,
   "metadata": {
    "slideshow": {
     "slide_type": "fragment"
    }
   },
   "outputs": [],
   "source": [
    "num1 = 57   #assign a value of 57 to variable named num1\n",
    "num2 = 89   #assign a value of 89 to variable named num2\n",
    "\n",
    "#calculate the sum of the values stored in num1 and num2\n",
    "sum_of_nums = num1 + num2   "
   ]
  },
  {
   "cell_type": "markdown",
   "metadata": {
    "slideshow": {
     "slide_type": "fragment"
    }
   },
   "source": [
    "Why do we need those variables instead of just using the numbers themselves \n",
    "to calculate the sum? "
   ]
  },
  {
   "cell_type": "markdown",
   "metadata": {
    "slideshow": {
     "slide_type": "fragment"
    }
   },
   "source": [
    "* we might want to perform other operations on the same numbers, like subtraction or multiplication"
   ]
  },
  {
   "cell_type": "code",
   "execution_count": null,
   "metadata": {
    "slideshow": {
     "slide_type": "fragment"
    }
   },
   "outputs": [],
   "source": [
    "diff_of_nums = num1 - num2 \n",
    "product_of_nums = num1 * num2 "
   ]
  },
  {
   "cell_type": "markdown",
   "metadata": {
    "slideshow": {
     "slide_type": "fragment"
    }
   },
   "source": [
    "* we might want to change the value of the number that we are working with, for example, \n",
    "    * after we wrote the entire program using 57 in thirteen different places, we realized that \n",
    "    we really wanted to use 58\n",
    "    * if the value is stored in a variable, we only need to change one line of code; if not, we \n",
    "    have to search for all different locations of 57 and replace them with 58 "
   ]
  },
  {
   "cell_type": "code",
   "execution_count": null,
   "metadata": {
    "slideshow": {
     "slide_type": "fragment"
    }
   },
   "outputs": [],
   "source": [
    "num1 = 57   #assign a value of 57 to variable named num1\n",
    "num2 = 89   #assign a value of 89 to variable named num2\n",
    "\n",
    "#calculate the sum of the values stored in num1 and num2\n",
    "sum_of_nums = num1 + num2  \n",
    "diff_of_nums = num1 - num2 \n",
    "product_of_nums = num1 * num2 "
   ]
  },
  {
   "cell_type": "markdown",
   "metadata": {
    "slideshow": {
     "slide_type": "slide"
    }
   },
   "source": [
    "# Variable naming rules \n",
    "\n",
    "* You can't use one of Python's __reserved words__ \n",
    "    \n",
    "    `False`, `None`, `True`, `and`, `as`, `assert`, `break`, `class`, \n",
    "    `continue`, `def`, `del`, `elif`, `else`, `except`, `finally`, `for`, `from`, \n",
    "    `global`, `if`, `import`, `in`, `is`, `lambda`, `nonlocal`, `not`, `or`, \n",
    "    `pass`, `raise`, `return`, `try`, `while`, `with`, `yield`\n",
    "\n",
    "* Variables can't contain spaces (though you can use the underscore character (\"_\") in place of a space)\n",
    "\n",
    "* The first character of a variable name must be a letter or the underscore character.  Any character after the first can be any valid alphanumeric character (or the underscore character)\n",
    "\n",
    "* Python is case sensitive, so `num` and `Num` are two different variable names "
   ]
  },
  {
   "cell_type": "markdown",
   "metadata": {
    "slideshow": {
     "slide_type": "slide"
    }
   },
   "source": [
    "# getting information from the user "
   ]
  },
  {
   "cell_type": "markdown",
   "metadata": {
    "slideshow": {
     "slide_type": "slide"
    }
   },
   "source": [
    "# `input()` function"
   ]
  },
  {
   "cell_type": "code",
   "execution_count": 18,
   "metadata": {
    "slideshow": {
     "slide_type": "fragment"
    }
   },
   "outputs": [
    {
     "name": "stdout",
     "output_type": "stream",
     "text": [
      "Hello! What is your name? joanna\n",
      "How many programs have you written in your life? joanna9\n"
     ]
    }
   ],
   "source": [
    "name=input(\"Hello! What is your name? \")\n",
    "print (\"Hi \" + name + \"! It 'is' lovely to meet you!\\n\")\n",
    "\n",
    "num_of_programs_written = input (\"How many programs have you written \" + \n",
    "        \"in your life? \" + name)\n",
    "print (\"Wow \" + num_of_programs_written + \n",
    "        \"!!! That's a good number.\")"
   ]
  },
  {
   "cell_type": "markdown",
   "metadata": {
    "slideshow": {
     "slide_type": "fragment"
    }
   },
   "source": [
    "* the `input()` function takes __a prompt__ as its argument - it is simply used to tell the \n",
    "user what it is that the program wants \n",
    "\n",
    "* the `input()` function __returns__ (or gives back to the program) __the sequence of characters__ \n",
    "(also known as __a string__) that the user typed in response to the prompt  \n",
    "\n",
    "* the value returned by the `input()` function can be saved in __a variable__: `name` and `num_of_programs_written` in the example above \n",
    "\n",
    "* this is another reason why we use variables - they store the values returned by functions "
   ]
  },
  {
   "cell_type": "markdown",
   "metadata": {
    "slideshow": {
     "slide_type": "slide"
    }
   },
   "source": [
    "# `input()` function with numbers \n",
    "## challenge 1: what is the output"
   ]
  },
  {
   "cell_type": "markdown",
   "metadata": {
    "slideshow": {
     "slide_type": "fragment"
    }
   },
   "source": [
    "What happens when the below program runs and the user enters 7? "
   ]
  },
  {
   "cell_type": "code",
   "execution_count": 1,
   "metadata": {
    "slideshow": {
     "slide_type": "fragment"
    }
   },
   "outputs": [
    {
     "name": "stdout",
     "output_type": "stream",
     "text": [
      "What is your favority number? 7\n",
      "Cool, I like  7  as well.\n",
      "I also like twice that value: 77\n",
      "I also like three times that value: 777\n"
     ]
    }
   ],
   "source": [
    "fav_num = input(\"What is your favority number? \")\n",
    "\n",
    "print(\"Cool, I like \", fav_num, \" as well.\")\n",
    "print(\"I also like twice that value:\", 2 * fav_num)\n",
    "print(\"I also like three times that value:\", fav_num + fav_num + fav_num) "
   ]
  },
  {
   "cell_type": "markdown",
   "metadata": {
    "slideshow": {
     "slide_type": "slide"
    }
   },
   "source": [
    "# `input()` function with numbers \n",
    "## challenge 2: what is the output "
   ]
  },
  {
   "cell_type": "code",
   "execution_count": 2,
   "metadata": {
    "slideshow": {
     "slide_type": "fragment"
    }
   },
   "outputs": [
    {
     "name": "stdout",
     "output_type": "stream",
     "text": [
      "What is your favority number? 7\n",
      "Cool, I like  7  as well.\n",
      "I also like twice that value: 77\n"
     ]
    },
    {
     "ename": "TypeError",
     "evalue": "unsupported operand type(s) for +: 'int' and 'str'",
     "output_type": "error",
     "traceback": [
      "\u001b[0;31m---------------------------------------------------------------------------\u001b[0m",
      "\u001b[0;31mTypeError\u001b[0m                                 Traceback (most recent call last)",
      "\u001b[0;32m<ipython-input-2-dd50895b50ff>\u001b[0m in \u001b[0;36m<module>\u001b[0;34m()\u001b[0m\n\u001b[1;32m      3\u001b[0m \u001b[0mprint\u001b[0m\u001b[0;34m(\u001b[0m\u001b[0;34m\"Cool, I like \"\u001b[0m\u001b[0;34m,\u001b[0m \u001b[0mfav_num\u001b[0m\u001b[0;34m,\u001b[0m \u001b[0;34m\" as well.\"\u001b[0m\u001b[0;34m)\u001b[0m\u001b[0;34m\u001b[0m\u001b[0m\n\u001b[1;32m      4\u001b[0m \u001b[0mprint\u001b[0m\u001b[0;34m(\u001b[0m\u001b[0;34m\"I also like twice that value:\"\u001b[0m\u001b[0;34m,\u001b[0m \u001b[0;36m2\u001b[0m \u001b[0;34m*\u001b[0m \u001b[0mfav_num\u001b[0m\u001b[0;34m)\u001b[0m\u001b[0;34m\u001b[0m\u001b[0m\n\u001b[0;32m----> 5\u001b[0;31m \u001b[0mprint\u001b[0m\u001b[0;34m(\u001b[0m\u001b[0;34m\"and I really like one more than that number:\"\u001b[0m\u001b[0;34m,\u001b[0m \u001b[0;36m1\u001b[0m \u001b[0;34m+\u001b[0m \u001b[0mfav_num\u001b[0m\u001b[0;34m)\u001b[0m\u001b[0;34m\u001b[0m\u001b[0m\n\u001b[0m",
      "\u001b[0;31mTypeError\u001b[0m: unsupported operand type(s) for +: 'int' and 'str'"
     ]
    }
   ],
   "source": [
    "fav_num = input(\"What is your favority number? \")\n",
    "\n",
    "print(\"Cool, I like \", fav_num, \" as well.\")\n",
    "print(\"I also like twice that value:\", 2 * fav_num) \n",
    "print(\"and I really like one more than that number:\", 1 + fav_num) "
   ]
  },
  {
   "cell_type": "markdown",
   "metadata": {
    "slideshow": {
     "slide_type": "slide"
    }
   },
   "source": [
    "# `input()` function with numbers"
   ]
  },
  {
   "cell_type": "code",
   "execution_count": null,
   "metadata": {
    "slideshow": {
     "slide_type": "fragment"
    }
   },
   "outputs": [],
   "source": [
    "fav_num = input(\"What is your favority number?\")\n",
    "\n",
    "print(\"Cool, I like \", fav_num, \" as well.\")\n",
    "print(\"I also like twice that value:\", 2 * fav_num) \n",
    "print(\"and I really like one more than that number:\", 1 + fav_num) "
   ]
  },
  {
   "cell_type": "markdown",
   "metadata": {
    "slideshow": {
     "slide_type": "fragment"
    }
   },
   "source": [
    "What is the value returned by the `input()` function?\n",
    "\n",
    "* you may think that it is `7` - the number that the user entered\n",
    "\n",
    "* ... but, remember that this function returns a sequence of characters that the user\n",
    "entered, not a number\n",
    "\n",
    "* the actual return value is `\"7\"` - a string containing the character 7 \n",
    "\n",
    "* __we cannot do arithmetic on strings__ - at least not the kind of arithmetic that\n",
    "we had in mind"
   ]
  },
  {
   "cell_type": "markdown",
   "metadata": {
    "slideshow": {
     "slide_type": "slide"
    }
   },
   "source": [
    "# `input()` function with numbers"
   ]
  },
  {
   "cell_type": "markdown",
   "metadata": {
    "slideshow": {
     "slide_type": "fragment"
    }
   },
   "source": [
    "How do we tell the program that we want to use the value entered by the user\n",
    "as a number, not as a string? \n",
    "\n",
    "* we use `int()` function to convert a value to an integer (__integers__ are positive\n",
    "and negative whole numbers)"
   ]
  },
  {
   "cell_type": "code",
   "execution_count": 9,
   "metadata": {
    "slideshow": {
     "slide_type": "fragment"
    }
   },
   "outputs": [
    {
     "name": "stdout",
     "output_type": "stream",
     "text": [
      "What is your favority number?        87\n",
      "Cool, I like  87  as well.\n",
      "I also like twice that value: 174\n",
      "and I really like one more than that number: 88\n"
     ]
    }
   ],
   "source": [
    "fav_num_str =   input(\"What is your favority number? \") \n",
    "fav_num = int ( fav_num_str)\n",
    " \n",
    "print(\"Cool, I like \", fav_num, \" as well.\")\n",
    "print(\"I also like twice that value:\", 2 * fav_num) \n",
    "print(\"and I really like one more than that number:\", 1 + fav_num) "
   ]
  },
  {
   "cell_type": "markdown",
   "metadata": {
    "slideshow": {
     "slide_type": "slide"
    }
   },
   "source": [
    "\n",
    "\n",
    "Here is what happens when you put `input` inside `int` as in the previous slide. \n",
    "<center>\n",
    "<img src=\"img/input_text_to_num.jpg\" width=40% style=\"margin:20px 20px 20px 20px\">\n",
    "</center>"
   ]
  },
  {
   "cell_type": "markdown",
   "metadata": {
    "slideshow": {
     "slide_type": "slide"
    }
   },
   "source": [
    "# conversion functions"
   ]
  },
  {
   "cell_type": "markdown",
   "metadata": {
    "slideshow": {
     "slide_type": "slide"
    }
   },
   "source": [
    "# `int()`, `str()`, `float()`\n",
    "\n",
    "* these functions all return a value or cause an error (if `x` cannot be converted to a requested kind of value)\n",
    "\n",
    "* `int( x )` - converts a string or a number to an integer \n",
    "\n",
    "* `str ( x )` - converts the argument to a string \n",
    "\n",
    "* `float ( x )` - converts a string or a number to a floating point number "
   ]
  },
  {
   "cell_type": "markdown",
   "metadata": {
    "slideshow": {
     "slide_type": "slide"
    }
   },
   "source": [
    "# Using conversion functions "
   ]
  },
  {
   "cell_type": "code",
   "execution_count": 12,
   "metadata": {
    "slideshow": {
     "slide_type": "fragment"
    }
   },
   "outputs": [
    {
     "name": "stdout",
     "output_type": "stream",
     "text": [
      "45\n",
      "78\n"
     ]
    },
    {
     "ename": "ValueError",
     "evalue": "invalid literal for int() with base 10: 'thirteen'",
     "output_type": "error",
     "traceback": [
      "\u001b[0;31m---------------------------------------------------------------------------\u001b[0m",
      "\u001b[0;31mValueError\u001b[0m                                Traceback (most recent call last)",
      "\u001b[0;32m<ipython-input-12-d80019c765f3>\u001b[0m in \u001b[0;36m<module>\u001b[0;34m()\u001b[0m\n\u001b[1;32m      3\u001b[0m \u001b[0mn2\u001b[0m \u001b[0;34m=\u001b[0m \u001b[0mint\u001b[0m\u001b[0;34m(\u001b[0m\u001b[0;36m78.999999999999\u001b[0m\u001b[0;34m)\u001b[0m       \u001b[0;31m# returns a number -78\u001b[0m\u001b[0;34m\u001b[0m\u001b[0m\n\u001b[1;32m      4\u001b[0m \u001b[0mprint\u001b[0m\u001b[0;34m(\u001b[0m\u001b[0mn2\u001b[0m\u001b[0;34m)\u001b[0m\u001b[0;34m\u001b[0m\u001b[0m\n\u001b[0;32m----> 5\u001b[0;31m \u001b[0mn3\u001b[0m \u001b[0;34m=\u001b[0m \u001b[0mint\u001b[0m\u001b[0;34m(\u001b[0m\u001b[0;34m\"thirteen\"\u001b[0m\u001b[0;34m)\u001b[0m    \u001b[0;31m# causes an error !!!\u001b[0m\u001b[0;34m\u001b[0m\u001b[0m\n\u001b[0m\u001b[1;32m      6\u001b[0m \u001b[0mprint\u001b[0m\u001b[0;34m(\u001b[0m\u001b[0mn3\u001b[0m\u001b[0;34m)\u001b[0m\u001b[0;34m\u001b[0m\u001b[0m\n",
      "\u001b[0;31mValueError\u001b[0m: invalid literal for int() with base 10: 'thirteen'"
     ]
    }
   ],
   "source": [
    "n1 = int(\"45\")          # returns a number 45\n",
    "print(n1)\n",
    "n2 = int(78.999999999999)       # returns a number -78\n",
    "print(n2)\n",
    "n3 = int(\"thirteen\")    # causes an error !!!\n",
    "print(n3)"
   ]
  },
  {
   "cell_type": "code",
   "execution_count": 13,
   "metadata": {
    "slideshow": {
     "slide_type": "fragment"
    }
   },
   "outputs": [
    {
     "name": "stdout",
     "output_type": "stream",
     "text": [
      "-56.90876\n",
      "39.0\n"
     ]
    },
    {
     "ename": "ValueError",
     "evalue": "could not convert string to float: '4.0 GPA'",
     "output_type": "error",
     "traceback": [
      "\u001b[0;31m---------------------------------------------------------------------------\u001b[0m",
      "\u001b[0;31mValueError\u001b[0m                                Traceback (most recent call last)",
      "\u001b[0;32m<ipython-input-13-341e42891197>\u001b[0m in \u001b[0;36m<module>\u001b[0;34m()\u001b[0m\n\u001b[1;32m      3\u001b[0m \u001b[0mf2\u001b[0m \u001b[0;34m=\u001b[0m \u001b[0mfloat\u001b[0m\u001b[0;34m(\u001b[0m \u001b[0;36m39\u001b[0m \u001b[0;34m)\u001b[0m        \u001b[0;31m# returns a floating point number 39.0\u001b[0m\u001b[0;34m\u001b[0m\u001b[0m\n\u001b[1;32m      4\u001b[0m \u001b[0mprint\u001b[0m\u001b[0;34m(\u001b[0m\u001b[0mf2\u001b[0m\u001b[0;34m)\u001b[0m\u001b[0;34m\u001b[0m\u001b[0m\n\u001b[0;32m----> 5\u001b[0;31m \u001b[0mf3\u001b[0m \u001b[0;34m=\u001b[0m \u001b[0mfloat\u001b[0m\u001b[0;34m(\u001b[0m\u001b[0;34m\"4.0 GPA\"\u001b[0m\u001b[0;34m)\u001b[0m   \u001b[0;31m# causes an error\u001b[0m\u001b[0;34m\u001b[0m\u001b[0m\n\u001b[0m\u001b[1;32m      6\u001b[0m \u001b[0mprint\u001b[0m\u001b[0;34m(\u001b[0m\u001b[0mf3\u001b[0m\u001b[0;34m)\u001b[0m\u001b[0;34m\u001b[0m\u001b[0m\n",
      "\u001b[0;31mValueError\u001b[0m: could not convert string to float: '4.0 GPA'"
     ]
    }
   ],
   "source": [
    "f1 = float(\"-56.90876\") # returns a floating point number -56.90876\n",
    "print(f1)\n",
    "f2 = float( 39 )        # returns a floating point number 39.0 \n",
    "print(f2)\n",
    "f3 = float(\"4.0 GPA\")   # causes an error \n",
    "print(f3)"
   ]
  },
  {
   "cell_type": "markdown",
   "metadata": {
    "slideshow": {
     "slide_type": "slide"
    }
   },
   "source": [
    "# operators: <br>`+`, `-`, `*`, `/`, `**` "
   ]
  },
  {
   "cell_type": "markdown",
   "metadata": {
    "slideshow": {
     "slide_type": "slide"
    }
   },
   "source": [
    "# arithmetic operators: `+`, `-`, `*`, `/`, `**` \n",
    "\n",
    "with numbers (whole numbers and decimal numbers) the above operators are\n",
    "used to perform standard mathematical operations:\n",
    "* `+  ` addition, for example `5.6 + 19` \n",
    "* `-  ` subtraction, for example `5.6 - 19`  \n",
    "* `*` multiplication, for example `5.6 * 19`  \n",
    "* `/` division, for example `5.6 / 19` \n",
    "* `**` exponentiation, for example `5.6 ** 19`"
   ]
  },
  {
   "cell_type": "code",
   "execution_count": 14,
   "metadata": {
    "slideshow": {
     "slide_type": "fragment"
    }
   },
   "outputs": [
    {
     "name": "stdout",
     "output_type": "stream",
     "text": [
      "5.6  +  19  =  24.6\n",
      "5.6  -  19  =  -13.4\n",
      "5.6  *  19  =  106.39999999999999\n",
      "5.6  /  19  =  0.29473684210526313\n",
      "5.6  **  19  =  164275392349701.66\n"
     ]
    }
   ],
   "source": [
    "n1 = 5.6\n",
    "n2 = 19 \n",
    "\n",
    "print (n1, \" + \", n2, \" = \", n1 + n2 )\n",
    "print (n1, \" - \", n2, \" = \", n1 - n2 )\n",
    "print (n1, \" * \", n2, \" = \", n1 * n2 )\n",
    "print (n1, \" / \", n2, \" = \", n1 / n2 )\n",
    "print (n1, \" ** \", n2, \" = \", n1 ** n2 )"
   ]
  },
  {
   "cell_type": "markdown",
   "metadata": {
    "slideshow": {
     "slide_type": "slide"
    }
   },
   "source": [
    "# string operators: `+`, `*`  \n",
    "\n",
    "with string the above operators are\n",
    "used to perform concatenation and replication:\n",
    "* `+  ` concatenation \n",
    "    * combine two strings into a single one\n",
    "    * both of the sides of the `+` operators need to be strings \n",
    "* `*  ` replication \n",
    "    * one operand is a string, the other is a positive integer\n",
    "    * the string is repeated as many times as the number suggests"
   ]
  },
  {
   "cell_type": "code",
   "execution_count": 18,
   "metadata": {
    "slideshow": {
     "slide_type": "fragment"
    }
   },
   "outputs": [
    {
     "name": "stdout",
     "output_type": "stream",
     "text": [
      "**************************************************\n",
      "crazy crazy crazy crazy \n",
      "hatshatshats\n"
     ]
    }
   ],
   "source": [
    "str1 = \"crazy \"\n",
    "str2 = \"hats\"\n",
    "str3 = str1 + str2 + 3*str1\n",
    "str4 = 4 * str1\n",
    "str5 = str2 * 3\n",
    "\n",
    "print ( 50 * \"*\" )\n",
    "print (str4 ) \n",
    "print (str5 ) "
   ]
  },
  {
   "cell_type": "markdown",
   "metadata": {
    "slideshow": {
     "slide_type": "slide"
    }
   },
   "source": [
    "# summary"
   ]
  },
  {
   "cell_type": "markdown",
   "metadata": {
    "slideshow": {
     "slide_type": "slide"
    }
   },
   "source": [
    "# string - summary \n",
    "\n",
    "* Data that is textual in nature (i.e. \"Hello, World!\") is called a \"String\"\n",
    "\n",
    "* Strings can contain 0 or more printed characters\n",
    "\n",
    "* __String Literals__ are strings that you define inside your program. They are \"hard coded\" values and must be __delimited__ using a special character so that Python knows that the text you've typed in should be treated as printed text (and not a function call, variable name, etc.)<br>\n",
    "    Ex:  `print ('hello, world!')`\n",
    "    \n",
    "* Python supports three different delimiters\n",
    "    * The single quote/\"tick\" ( `'` )\n",
    "    * The double quote ( `\"` )\n",
    "    * The triple quote ( `\"\"\"` )"
   ]
  },
  {
   "cell_type": "markdown",
   "metadata": {
    "slideshow": {
     "slide_type": "slide"
    }
   },
   "source": [
    "# functions - summary \n",
    "\n",
    "* A \"function\" is __a pre-written piece of computer code__ that will perform a specific action or set of actions\n",
    "\n",
    "* Python comes with a number of __built-in functions__, and you can also write your own (more on that later in the semester) \n",
    "\n",
    "* Functions always begin with a keyword (the __name of the function__) followed by a pair of parenthesis.\n",
    "    Ex:  `print()`, `input()`, `int()`, ...\n",
    "    \n",
    "* You can __pass one or more arguments__ into a function by placing data inside the parenthesis\n",
    "    Ex:  `print('Hello, World!')`\n",
    "\n",
    "* Different functions \"expect\" different arguments.  The print function, for example, expects the values that we want to be printed as its arguments\n",
    "\n",
    "* Functions may or may not __return a value__.\n",
    "\n",
    "    * Some functions simply perform some action. Ex. `print()` \n",
    "    * Other functions perform a computation and return its result to the user. Ex. `input()` \n"
   ]
  },
  {
   "cell_type": "markdown",
   "metadata": {
    "slideshow": {
     "slide_type": "slide"
    }
   },
   "source": [
    "# variables - summary \n",
    "\n",
    "* Variables are like little \"buckets\" that can store information in your computer's memory\n",
    "\n",
    "* You will be using variables constantly when writing your programs in order to keep track of various pieces of information\n",
    "\n",
    "* You can create a variable by using the following syntax:\n",
    "\n",
    "    __`variablename = somedata`__\n",
    "\n",
    "    Examples:\n",
    "\n",
    "    `speed = 5`\n",
    "\n",
    "    `myname = 'Craig'`\n"
   ]
  },
  {
   "cell_type": "markdown",
   "metadata": {
    "slideshow": {
     "slide_type": "slide"
    }
   },
   "source": [
    "# programming challenges"
   ]
  },
  {
   "cell_type": "markdown",
   "metadata": {
    "slideshow": {
     "slide_type": "slide"
    }
   },
   "source": [
    "<img src=\"img/arithmetic.png\" width=5% align=\"right\" > \n",
    "\n",
    "# Mini-calculator\n",
    "\n",
    "* Ask the user for two numbers.  You can assume they will be floating point numbers.\n",
    "* Compute the following and print it out to the user:\n",
    "\n",
    "* The sum of the numbers\n",
    "* The product of the numbers\n",
    "* The difference between the numbers\n",
    "* The first number divided by the second number\n",
    "* The first number raised to the power of the second number\n",
    "* Display the mathematical expression and the result. For example, if the user enters\n",
    "35 and 7, the first line of output for your program should be\n",
    " \n",
    "    `  35 + 7 = 42`\n",
    "\n",
    "\n"
   ]
  },
  {
   "cell_type": "markdown",
   "metadata": {
    "slideshow": {
     "slide_type": "slide"
    }
   },
   "source": [
    "<img src=\"img/metro.jpg\" width=10% align=\"right\"  style=\"margin:20px 40px 20px 20px\">\n",
    "\n",
    "# Subway ride calculator\n",
    "\n",
    "\n",
    "- Write a program that asks the user for the value of their current Metro card\n",
    "\n",
    "- Compute how many rides they have left on their card.  Only provide whole number results (i.e. you cannot have 3.5 rides left on a card)\n",
    "\n",
    "Hints:\n",
    "- A single ride costs $2.75 these days. \n",
    "- Conversion functions will be useful here. Remember that \n",
    "\n",
    "    - `float(\"25.75\")` function will return the numberic value of `25.75`,\n",
    "    - `int(3.5)` will return the integer part of its argument, i.e., `3`.  \n",
    "\n"
   ]
  },
  {
   "cell_type": "code",
   "execution_count": 27,
   "metadata": {},
   "outputs": [
    {
     "ename": "KeyboardInterrupt",
     "evalue": "",
     "output_type": "error",
     "traceback": [
      "\u001b[0;31m---------------------------------------------------------------------------\u001b[0m",
      "\u001b[0;31mKeyboardInterrupt\u001b[0m                         Traceback (most recent call last)",
      "\u001b[0;32m/share/apps/jupyterhub/2019-FA-CORE-UA-109-001/lib/python3.7/site-packages/ipykernel/kernelbase.py\u001b[0m in \u001b[0;36m_input_request\u001b[0;34m(self, prompt, ident, parent, password)\u001b[0m\n\u001b[1;32m    884\u001b[0m             \u001b[0;32mtry\u001b[0m\u001b[0;34m:\u001b[0m\u001b[0;34m\u001b[0m\u001b[0m\n\u001b[0;32m--> 885\u001b[0;31m                 \u001b[0mident\u001b[0m\u001b[0;34m,\u001b[0m \u001b[0mreply\u001b[0m \u001b[0;34m=\u001b[0m \u001b[0mself\u001b[0m\u001b[0;34m.\u001b[0m\u001b[0msession\u001b[0m\u001b[0;34m.\u001b[0m\u001b[0mrecv\u001b[0m\u001b[0;34m(\u001b[0m\u001b[0mself\u001b[0m\u001b[0;34m.\u001b[0m\u001b[0mstdin_socket\u001b[0m\u001b[0;34m,\u001b[0m \u001b[0;36m0\u001b[0m\u001b[0;34m)\u001b[0m\u001b[0;34m\u001b[0m\u001b[0m\n\u001b[0m\u001b[1;32m    886\u001b[0m             \u001b[0;32mexcept\u001b[0m \u001b[0mException\u001b[0m\u001b[0;34m:\u001b[0m\u001b[0;34m\u001b[0m\u001b[0m\n",
      "\u001b[0;32m/share/apps/jupyterhub/2019-FA-CORE-UA-109-001/lib/python3.7/site-packages/jupyter_client/session.py\u001b[0m in \u001b[0;36mrecv\u001b[0;34m(self, socket, mode, content, copy)\u001b[0m\n\u001b[1;32m    802\u001b[0m         \u001b[0;32mtry\u001b[0m\u001b[0;34m:\u001b[0m\u001b[0;34m\u001b[0m\u001b[0m\n\u001b[0;32m--> 803\u001b[0;31m             \u001b[0mmsg_list\u001b[0m \u001b[0;34m=\u001b[0m \u001b[0msocket\u001b[0m\u001b[0;34m.\u001b[0m\u001b[0mrecv_multipart\u001b[0m\u001b[0;34m(\u001b[0m\u001b[0mmode\u001b[0m\u001b[0;34m,\u001b[0m \u001b[0mcopy\u001b[0m\u001b[0;34m=\u001b[0m\u001b[0mcopy\u001b[0m\u001b[0;34m)\u001b[0m\u001b[0;34m\u001b[0m\u001b[0m\n\u001b[0m\u001b[1;32m    804\u001b[0m         \u001b[0;32mexcept\u001b[0m \u001b[0mzmq\u001b[0m\u001b[0;34m.\u001b[0m\u001b[0mZMQError\u001b[0m \u001b[0;32mas\u001b[0m \u001b[0me\u001b[0m\u001b[0;34m:\u001b[0m\u001b[0;34m\u001b[0m\u001b[0m\n",
      "\u001b[0;32m/share/apps/jupyterhub/2019-FA-CORE-UA-109-001/lib/python3.7/site-packages/zmq/sugar/socket.py\u001b[0m in \u001b[0;36mrecv_multipart\u001b[0;34m(self, flags, copy, track)\u001b[0m\n\u001b[1;32m    469\u001b[0m         \"\"\"\n\u001b[0;32m--> 470\u001b[0;31m         \u001b[0mparts\u001b[0m \u001b[0;34m=\u001b[0m \u001b[0;34m[\u001b[0m\u001b[0mself\u001b[0m\u001b[0;34m.\u001b[0m\u001b[0mrecv\u001b[0m\u001b[0;34m(\u001b[0m\u001b[0mflags\u001b[0m\u001b[0;34m,\u001b[0m \u001b[0mcopy\u001b[0m\u001b[0;34m=\u001b[0m\u001b[0mcopy\u001b[0m\u001b[0;34m,\u001b[0m \u001b[0mtrack\u001b[0m\u001b[0;34m=\u001b[0m\u001b[0mtrack\u001b[0m\u001b[0;34m)\u001b[0m\u001b[0;34m]\u001b[0m\u001b[0;34m\u001b[0m\u001b[0m\n\u001b[0m\u001b[1;32m    471\u001b[0m         \u001b[0;31m# have first part already, only loop while more to receive\u001b[0m\u001b[0;34m\u001b[0m\u001b[0;34m\u001b[0m\u001b[0m\n",
      "\u001b[0;32mzmq/backend/cython/socket.pyx\u001b[0m in \u001b[0;36mzmq.backend.cython.socket.Socket.recv\u001b[0;34m()\u001b[0m\n",
      "\u001b[0;32mzmq/backend/cython/socket.pyx\u001b[0m in \u001b[0;36mzmq.backend.cython.socket.Socket.recv\u001b[0;34m()\u001b[0m\n",
      "\u001b[0;32mzmq/backend/cython/socket.pyx\u001b[0m in \u001b[0;36mzmq.backend.cython.socket._recv_copy\u001b[0;34m()\u001b[0m\n",
      "\u001b[0;32m/share/apps/jupyterhub/2019-FA-CORE-UA-109-001/lib/python3.7/site-packages/zmq/backend/cython/checkrc.pxd\u001b[0m in \u001b[0;36mzmq.backend.cython.checkrc._check_rc\u001b[0;34m()\u001b[0m\n",
      "\u001b[0;31mKeyboardInterrupt\u001b[0m: ",
      "\nDuring handling of the above exception, another exception occurred:\n",
      "\u001b[0;31mKeyboardInterrupt\u001b[0m                         Traceback (most recent call last)",
      "\u001b[0;32m<ipython-input-27-16f5e9ad1595>\u001b[0m in \u001b[0;36m<module>\u001b[0;34m()\u001b[0m\n\u001b[1;32m      1\u001b[0m \u001b[0;31m# get the value of the metro card from the user\u001b[0m\u001b[0;34m\u001b[0m\u001b[0;34m\u001b[0m\u001b[0m\n\u001b[0;32m----> 2\u001b[0;31m \u001b[0mvalue\u001b[0m \u001b[0;34m=\u001b[0m \u001b[0mfloat\u001b[0m\u001b[0;34m(\u001b[0m\u001b[0minput\u001b[0m\u001b[0;34m(\u001b[0m\u001b[0;34m\"How much money do you have on your metro card? $\"\u001b[0m\u001b[0;34m)\u001b[0m\u001b[0;34m)\u001b[0m\u001b[0;34m\u001b[0m\u001b[0m\n\u001b[0m\u001b[1;32m      3\u001b[0m \u001b[0;34m\u001b[0m\u001b[0m\n\u001b[1;32m      4\u001b[0m \u001b[0;31m# figure out how many rides at $2.75 there are\u001b[0m\u001b[0;34m\u001b[0m\u001b[0;34m\u001b[0m\u001b[0m\n\u001b[1;32m      5\u001b[0m \u001b[0mrides\u001b[0m \u001b[0;34m=\u001b[0m \u001b[0mint\u001b[0m\u001b[0;34m(\u001b[0m\u001b[0mvalue\u001b[0m \u001b[0;34m/\u001b[0m \u001b[0;36m2.75\u001b[0m\u001b[0;34m)\u001b[0m\u001b[0;34m\u001b[0m\u001b[0m\n",
      "\u001b[0;32m/share/apps/jupyterhub/2019-FA-CORE-UA-109-001/lib/python3.7/site-packages/ipykernel/kernelbase.py\u001b[0m in \u001b[0;36mraw_input\u001b[0;34m(self, prompt)\u001b[0m\n\u001b[1;32m    858\u001b[0m             \u001b[0mself\u001b[0m\u001b[0;34m.\u001b[0m\u001b[0m_parent_ident\u001b[0m\u001b[0;34m,\u001b[0m\u001b[0;34m\u001b[0m\u001b[0m\n\u001b[1;32m    859\u001b[0m             \u001b[0mself\u001b[0m\u001b[0;34m.\u001b[0m\u001b[0m_parent_header\u001b[0m\u001b[0;34m,\u001b[0m\u001b[0;34m\u001b[0m\u001b[0m\n\u001b[0;32m--> 860\u001b[0;31m             \u001b[0mpassword\u001b[0m\u001b[0;34m=\u001b[0m\u001b[0;32mFalse\u001b[0m\u001b[0;34m,\u001b[0m\u001b[0;34m\u001b[0m\u001b[0m\n\u001b[0m\u001b[1;32m    861\u001b[0m         )\n\u001b[1;32m    862\u001b[0m \u001b[0;34m\u001b[0m\u001b[0m\n",
      "\u001b[0;32m/share/apps/jupyterhub/2019-FA-CORE-UA-109-001/lib/python3.7/site-packages/ipykernel/kernelbase.py\u001b[0m in \u001b[0;36m_input_request\u001b[0;34m(self, prompt, ident, parent, password)\u001b[0m\n\u001b[1;32m    888\u001b[0m             \u001b[0;32mexcept\u001b[0m \u001b[0mKeyboardInterrupt\u001b[0m\u001b[0;34m:\u001b[0m\u001b[0;34m\u001b[0m\u001b[0m\n\u001b[1;32m    889\u001b[0m                 \u001b[0;31m# re-raise KeyboardInterrupt, to truncate traceback\u001b[0m\u001b[0;34m\u001b[0m\u001b[0;34m\u001b[0m\u001b[0m\n\u001b[0;32m--> 890\u001b[0;31m                 \u001b[0;32mraise\u001b[0m \u001b[0mKeyboardInterrupt\u001b[0m\u001b[0;34m\u001b[0m\u001b[0m\n\u001b[0m\u001b[1;32m    891\u001b[0m             \u001b[0;32melse\u001b[0m\u001b[0;34m:\u001b[0m\u001b[0;34m\u001b[0m\u001b[0m\n\u001b[1;32m    892\u001b[0m                 \u001b[0;32mbreak\u001b[0m\u001b[0;34m\u001b[0m\u001b[0m\n",
      "\u001b[0;31mKeyboardInterrupt\u001b[0m: "
     ]
    }
   ],
   "source": [
    "# get the value of the metro card from the user \n",
    "value = float(input(\"How much money do you have on your metro card? $\"))\n",
    "\n",
    "# figure out how many rides at $2.75 there are\n",
    "rides = int(value / 2.75)  \n",
    "\n",
    "# tell the user the calculated answer \n",
    "\n",
    "print (\"You have\", rides, \"rides on your card. \") \n",
    "\n"
   ]
  },
  {
   "cell_type": "markdown",
   "metadata": {
    "slideshow": {
     "slide_type": "slide"
    }
   },
   "source": [
    "# Coins\n",
    "\n",
    "* Write a program that asks the user for a number of pennies, nickels, \n",
    "dimes and quarters (that is four separate questions of which the results should be stored)\n",
    "\n",
    "* Calculate the total amount of money that the user has and print it out\n",
    "\n",
    "For this program, you can assume that the user will always enter a valid \n",
    "answer (i.e. non-negative integer). \n"
   ]
  },
  {
   "cell_type": "code",
   "execution_count": null,
   "metadata": {},
   "outputs": [],
   "source": []
  }
 ],
 "metadata": {
  "celltoolbar": "Slideshow",
  "kernelspec": {
   "display_name": "Python 3",
   "language": "python",
   "name": "python3"
  }
 },
 "nbformat": 4,
 "nbformat_minor": 2
}
