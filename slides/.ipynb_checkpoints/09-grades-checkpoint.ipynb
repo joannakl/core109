{
 "cells": [
  {
   "cell_type": "markdown",
   "metadata": {},
   "source": [
    "# Grades\n",
    "## average, median, min, max, standard deviation\n",
    "<br>\n",
    "<br>\n",
    "## CORE-UA 109.01, Joanna Klukowska "
   ]
  },
  {
   "cell_type": "markdown",
   "metadata": {},
   "source": [
    "# program to get the exam scores from the user\n",
    "\n",
    "\n",
    "Let's write a program to obtain the exam scores from the user.\n",
    "\n",
    "- the user should be prompted for a next score until they enter -1\n",
    "\n",
    "- the program should validate that the number entered is between zero and 100\n",
    "(inclusive)"
   ]
  },
  {
   "cell_type": "markdown",
   "metadata": {},
   "source": [
    "# calculating average score\n",
    "\n",
    "- how do you calculate the average score?"
   ]
  },
  {
   "cell_type": "code",
   "execution_count": null,
   "metadata": {},
   "outputs": [],
   "source": [
    "$$average = \\frac{grade_1 + grade_2 + ... + grade_n }{n}$$\n"
   ]
  },
  {
   "cell_type": "markdown",
   "metadata": {},
   "source": [
    "- __mean__ is another word used to describe the average\n",
    "\n",
    "- __mean__ is a measure of central tendency"
   ]
  },
  {
   "cell_type": "markdown",
   "metadata": {},
   "source": [
    "- what does the __mean__ of exam grades tell us?\n",
    "\n",
    "- how can this be used?\n",
    "\n",
    "- what are the possible issues?"
   ]
  },
  {
   "cell_type": "markdown",
   "metadata": {},
   "source": [
    "- what letter grade should be associated with a score that is equal to the average grade?"
   ]
  },
  {
   "cell_type": "markdown",
   "metadata": {},
   "source": [
    "# median\n",
    "\n",
    "- __median__ is the middle score\n",
    "\n",
    "- algorithm for finding the median:\n",
    "\n",
    "    - sort all grades from smallest to largest\n",
    "\n",
    "    - find the middle score\n",
    "        - if the number of grades is odd, the median is equal to the middle score\n",
    "        - if the number of grades is even, the median is the average of the two middle\n",
    "        scores\n",
    "\n",
    "- __median__ is a measure of central tendency"
   ]
  },
  {
   "cell_type": "markdown",
   "metadata": {},
   "source": [
    "- what does the __median__ of exam grades tell us?\n",
    "\n",
    "- how can this be used?\n",
    "\n",
    "- what are the possible issues?"
   ]
  },
  {
   "cell_type": "markdown",
   "metadata": {},
   "source": [
    "- what letter grade should be associated with a score that is equal to the median grade?"
   ]
  },
  {
   "cell_type": "markdown",
   "metadata": {},
   "source": [
    "# range of values\n",
    "\n",
    "- __smallest__ value in the range of grades\n",
    "\n",
    "- __largest__ value in the range of grades\n",
    "\n",
    "\n",
    "- __range__ (__smallest__, __largest__) is a measure of dispersion"
   ]
  },
  {
   "cell_type": "markdown",
   "metadata": {},
   "source": [
    "- what do the  __smallest__ and __largest__ values of exam grades tell us?\n",
    "\n",
    "- how can this be used?\n",
    "\n",
    "- what are the possible issues?"
   ]
  },
  {
   "cell_type": "markdown",
   "metadata": {},
   "source": [
    "- what letter grade should be associated with a score that is smallest / largest?"
   ]
  },
  {
   "cell_type": "markdown",
   "metadata": {},
   "source": [
    "# standard deviation\n",
    "\n",
    "- __standard deviation__ is ...\n",
    "\n",
    "- algorithm for finding the standard deviation:\n",
    "\n",
    "    - calculate the mean\n",
    "\n",
    "    - find the difference between each score and the mean and square that difference\n",
    "\n",
    "    - add all of the squares of differences together and divide the sum by the\n",
    "    total number of grades\n",
    "\n",
    "    - take a square root of the value in the previous step"
   ]
  },
  {
   "cell_type": "markdown",
   "metadata": {},
   "source": [
    "- __standard deviation__  is a measure of dispersion"
   ]
  },
  {
   "cell_type": "markdown",
   "metadata": {},
   "source": [
    "- what do the  __standard deviation__ value of exam grades tell us?\n",
    "\n",
    "- how can this be used?\n",
    "\n",
    "- what are the possible issues?"
   ]
  },
  {
   "cell_type": "markdown",
   "metadata": {},
   "source": [
    "# four different exams\n"
   ]
  },
  {
   "cell_type": "code",
   "execution_count": 8,
   "metadata": {},
   "outputs": [
    {
     "data": {
      "image/png": "[encoded data removed]",
      "text/plain": [
       "<Figure size 432x288 with 1 Axes>"
      ]
     },
     "metadata": {},
     "output_type": "display_data"
    }
   ],
   "source": [
    "import matplotlib.pyplot as plt\n",
    "rng = np.random.RandomState(10)  # deterministic random data\n",
    "a = np.hstack((rng.normal(size=1000), rng.normal(loc=5, scale=2, size=1000)))\n",
    "plt.hist(a, bins='auto')  # arguments are passed to np.histogram\n",
    "plt.title(\"Histogram with 'auto' bins\")\n",
    "plt.show()"
   ]
  },
  {
   "cell_type": "code",
   "execution_count": 29,
   "metadata": {
    "scrolled": true
   },
   "outputs": [
    {
     "name": "stdout",
     "output_type": "stream",
     "text": [
      "mean:  75.36842105263158\n",
      "median:  72.0\n",
      "std:  14.012064449555753\n"
     ]
    },
    {
     "data": {
      "image/png": "[encoded data removed]",
      "text/plain": [
       "<Figure size 432x288 with 1 Axes>"
      ]
     },
     "metadata": {},
     "output_type": "display_data"
    }
   ],
   "source": [
    "import numpy as np\n",
    "import matplotlib.pyplot as plt\n",
    "from scipy.stats.kde import gaussian_kde\n",
    "from numpy import linspace\n",
    "\n",
    "# grades = [65, 70, 75, 80, 85, 90, 69, 95, 88, 92, 75, 78 , 80, 80, 85, 81]  \n",
    "grades = [73, 69, 97, 98, 88, 92, 72, 87, 69, 83, 62, 60, 60, 90, 59, 65, 63, 55, 90]  \n",
    "#grades = [10, 20, 25, 30, 33, 37, 40, 41, 42, 45, 48, 50, 51, 52, 53, 54, 55,55,57,58,59, 60, 62, 64, 66, 68, 70, 72, 78, 80, 85, 90, 100]  \n",
    "#grades = [73, 76, 89, 99, 89, 73, 51, 28, 89, 90, 62, 52, 92, 81, 86, 97, 93, 84, 48, 88, 91, 89, 51, 61, 89, 95, 56, 92, 86]\n",
    "grades.sort() \n",
    "\n",
    "#plot the histogram of the grades \n",
    "plt.hist(grades, range=(0,105), bins=20,color='pink' , edgecolor='black', linewidth=0.5) \n",
    "\n",
    "plt.xticks(np.arange(0,101,5))\n",
    "plt.grid(color='gray', which='both', linestyle=':', linewidth=0.25)\n",
    "\n",
    "mean = np.mean(grades) \n",
    "median = np.median(grades)\n",
    "std = np.std(grades) \n",
    "\n",
    "print(\"mean: \", mean)\n",
    "print(\"median: \", median)\n",
    "print(\"std: \", std)\n",
    "\n",
    "plt.show() "
   ]
  },
  {
   "cell_type": "code",
   "execution_count": null,
   "metadata": {},
   "outputs": [],
   "source": []
  },
  {
   "cell_type": "markdown",
   "metadata": {},
   "source": [
    "###### exam 1 grades\n",
    "\n",
    ".center[\n",
    "<img src=\"img/figure_2.png\" width=100% alt=\"exam grades data\">\n",
    "]\n",
    "\n",
    "# exam 2 grades\n",
    "<br>\n",
    "<br>\n",
    "\n",
    ".center[\n",
    "<img src=\"img/figure_1.png\" width=100% alt=\"exam grades data\">\n",
    "]\n",
    "\n",
    "\n",
    "# exam 3 grades\n",
    "<br>\n",
    "<br>\n",
    "\n",
    ".center[\n",
    "<img src=\"img/figure_3.png\" width=100% alt=\"exam grades data\">\n",
    "]\n",
    "\n",
    "\n",
    "# exam 4 grades\n",
    "<br>\n",
    "<br>\n",
    ".center[\n",
    "<img src=\"img/figure_4.png\" width=100% alt=\"exam grades data\">\n",
    "]"
   ]
  }
 ],
 "metadata": {
  "kernelspec": {
   "display_name": "Python 3",
   "language": "python",
   "name": "python3"
  },
  "language_info": {
   "codemirror_mode": {
    "name": "ipython",
    "version": 3
   },
   "file_extension": ".py",
   "mimetype": "text/x-python",
   "name": "python",
   "nbconvert_exporter": "python",
   "pygments_lexer": "ipython3",
   "version": "3.6.5"
  }
 },
 "nbformat": 4,
 "nbformat_minor": 2
}
