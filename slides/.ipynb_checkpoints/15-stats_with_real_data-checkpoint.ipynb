{
 "cells": [
  {
   "cell_type": "markdown",
   "metadata": {
    "slideshow": {
     "slide_type": "slide"
    }
   },
   "source": [
    "# Real Data\n",
    "\n",
    "## CORE-UA 109.01, Joanna Klukowska <br>"
   ]
  },
  {
   "cell_type": "code",
   "execution_count": null,
   "metadata": {
    "slideshow": {
     "slide_type": "skip"
    }
   },
   "outputs": [],
   "source": [
    "# This cell needs to be executed only once. \n",
    "# It downloads the data sets that the rest of the\n",
    "# programs in this file will work with. \n",
    "\n",
    "!rm rows.csv\n",
    "\n",
    "# Citywide Payroll Data (Fiscal Year) (WARNING - this file is HUGE. \n",
    "# It will take your program a lot of time to download it.)\n",
    "#!wget https://data.cityofnewyork.us/api/views/k397-673e/rows.csv\n",
    "\n",
    "# 2012 SAT scores, by school\n",
    "!wget https://data.cityofnewyork.us/api/views/f9bf-2cp4/rows.csv\n",
    "!mv rows.csv SAT_2012.csv\n",
    "    \n",
    "    \n",
    "# NYC population by borough\n",
    "!wget https://data.cityofnewyork.us/api/views/xywu-7bv9/rows.csv \n",
    "!mv rows.csv NYC_pop.csv"
   ]
  },
  {
   "cell_type": "markdown",
   "metadata": {
    "slideshow": {
     "slide_type": "slide"
    }
   },
   "source": [
    "# Working with Real Data\n",
    "## NYC Open Data\n",
    "\n",
    "https://opendata.cityofnewyork.us/ "
   ]
  },
  {
   "cell_type": "markdown",
   "metadata": {
    "slideshow": {
     "slide_type": "slide"
    }
   },
   "source": [
    "# SAT Scores from NYC highschools, 2012\n",
    "\n",
    "https://data.cityofnewyork.us/Education/2012-AP-Results/9ct9-prf9 "
   ]
  },
  {
   "cell_type": "markdown",
   "metadata": {
    "slideshow": {
     "slide_type": "subslide"
    }
   },
   "source": [
    "# Raw Data\n",
    "\n",
    "The following program displays the entire data set row by row.\n",
    "\n",
    "Notice that each row is a list of strings!\n"
   ]
  },
  {
   "cell_type": "code",
   "execution_count": null,
   "metadata": {
    "slideshow": {
     "slide_type": "fragment"
    }
   },
   "outputs": [],
   "source": [
    "import csv\n",
    " \n",
    "file = open('SAT_2012.csv', \"r\")\n",
    "reader = csv.reader(file)\n",
    " \n",
    "rownum = 0\n",
    "for row in  reader:\n",
    "    print (row)\n",
    "\n",
    "    rownum += 1\n",
    " "
   ]
  },
  {
   "cell_type": "markdown",
   "metadata": {
    "slideshow": {
     "slide_type": "subslide"
    }
   },
   "source": [
    "# Extracting data from the header and each row\n",
    "\n",
    "The following program extracts information from each row and presents data in a manner specific to each school with _headers_ from the zeroth row. "
   ]
  },
  {
   "cell_type": "code",
   "execution_count": null,
   "metadata": {
    "slideshow": {
     "slide_type": "fragment"
    }
   },
   "outputs": [],
   "source": [
    "file.seek(0,0)\n",
    "reader = csv.reader(file)\n",
    "\n",
    "rownum = 0\n",
    "for row in reader:\n",
    "    # Save header row.\n",
    "    if rownum ==0:\n",
    "        header = row\n",
    "    else:\n",
    "        colnum = 0\n",
    "        for col in row:\n",
    "            print( colnum, header[colnum]+\":\", col )\n",
    "            colnum += 1\n",
    "        print()\n",
    "    rownum += 1"
   ]
  },
  {
   "cell_type": "markdown",
   "metadata": {
    "slideshow": {
     "slide_type": "subslide"
    }
   },
   "source": [
    "# SAT scores challenge\n",
    "\n",
    "- find the school with the highest/lowest average math schores\n",
    "- find the school with the largest/smallest number of tests taken \n",
    "- find all schools with at least 100 test takers and an average writing score of 500 or more "
   ]
  },
  {
   "cell_type": "markdown",
   "metadata": {
    "slideshow": {
     "slide_type": "subslide"
    }
   },
   "source": [
    "# Highest Average Math Score\n",
    "\n",
    "The following program finds the school with the highest overall math average score. "
   ]
  },
  {
   "cell_type": "code",
   "execution_count": null,
   "metadata": {
    "slideshow": {
     "slide_type": "fragment"
    }
   },
   "outputs": [],
   "source": [
    "file.seek(0,0)\n",
    "reader = csv.reader(file)\n",
    "\n",
    "MATH_AVERAGE = 4 \n",
    "max_score = 0\n",
    "rownum = 0\n",
    "for row in reader:\n",
    "    #print (row)\n",
    "    \n",
    "    if rownum ==0:\n",
    "        header = row\n",
    "    if rownum != 0  and row[MATH_AVERAGE].isdigit() :\n",
    "        \n",
    "        if (max_score < int(row[4]) ) :\n",
    "            max_score = int(row[4]) \n",
    "            max_row = row \n",
    "    rownum += 1\n",
    " \n",
    "print (\"Best average math scores: \\n\")\n",
    "colnum = 0\n",
    "for col in max_row :\n",
    "    print( header[colnum]+\":\", col )\n",
    "    colnum += 1\n",
    "print()\n"
   ]
  },
  {
   "cell_type": "markdown",
   "metadata": {
    "slideshow": {
     "slide_type": "subslide"
    }
   },
   "source": [
    "# Closing files\n",
    "\n",
    "Once we are done working with a particular file, that file should be closed. "
   ]
  },
  {
   "cell_type": "code",
   "execution_count": null,
   "metadata": {
    "slideshow": {
     "slide_type": "fragment"
    }
   },
   "outputs": [],
   "source": [
    "file.close() "
   ]
  },
  {
   "cell_type": "markdown",
   "metadata": {
    "slideshow": {
     "slide_type": "slide"
    }
   },
   "source": [
    "# New York City Population by Borough 1950 - 2040\n",
    "\n",
    "https://data.cityofnewyork.us/City-Government/New-York-City-Population-by-Borough-1950-2040/xywu-7bv9 "
   ]
  },
  {
   "cell_type": "markdown",
   "metadata": {
    "slideshow": {
     "slide_type": "subslide"
    }
   },
   "source": [
    "# Raw Data\n",
    "\n",
    "The following program displays the entire data set row by row.\n",
    "\n",
    "Notice that each row is a list of strings!\n"
   ]
  },
  {
   "cell_type": "code",
   "execution_count": null,
   "metadata": {
    "slideshow": {
     "slide_type": "fragment"
    }
   },
   "outputs": [],
   "source": [
    "import csv\n",
    " \n",
    "file = open('NYC_pop.csv', \"r\")\n",
    "reader = csv.reader(file)\n",
    " \n",
    "rownum = 0\n",
    "for row in reader:\n",
    "    print (rownum, \"\\n\", row, \"\\n\")\n",
    "\n",
    "    rownum += 1\n",
    " "
   ]
  },
  {
   "cell_type": "markdown",
   "metadata": {
    "slideshow": {
     "slide_type": "subslide"
    }
   },
   "source": [
    "# NYC population challenge\n",
    "\n",
    "- plot the population of each borough for each of the years 1950 to 2040\n",
    "- find the largest increase in the population of Manhattan from one data point to the next\n",
    "- find the lastest decrease in the population of Brooklyn from one data point to the next "
   ]
  },
  {
   "cell_type": "code",
   "execution_count": null,
   "metadata": {
    "slideshow": {
     "slide_type": "fragment"
    }
   },
   "outputs": [],
   "source": [
    "file.seek(0,0)\n",
    "reader = csv.reader(file)\n",
    "\n",
    "NYC = 1\n",
    "BRONX = 2\n",
    "BROOKLYN = 3\n",
    "MANHATTAN = 4\n",
    "QUEENS = 5\n",
    "STATEN_ISLAND = 6\n",
    "\n",
    "bronx=[]\n",
    "brooklyn=[]\n",
    "manhattan=[]\n",
    "queens=[]\n",
    "staten_island=[]\n",
    "nyc = []\n",
    "\n",
    "years = range(1950,2041, 10)\n",
    "\n",
    "rownum = 0\n",
    "for row in reader:\n",
    "    \n",
    "    if rownum == 0 :\n",
    "        header = row\n",
    "    colnum = 0\n",
    "    for col in row : \n",
    "        if header[colnum].isdigit() and  int(header[colnum]) in years :\n",
    "            if rownum == BRONX:\n",
    "                bronx.append(int(col)) \n",
    "            elif rownum == BROOKLYN:\n",
    "                brooklyn.append(int(col))\n",
    "            elif rownum == MANHATTAN:\n",
    "                manhattan.append(int(col))\n",
    "            elif rownum == QUEENS:\n",
    "                queens.append(int(col))\n",
    "            elif rownum == STATEN_ISLAND:\n",
    "                staten_island.append(int(col))\n",
    "            elif rownum == 1: \n",
    "                nyc.append(int(col))\n",
    "        colnum += 1\n",
    "    \n",
    "    rownum += 1\n",
    " \n",
    "\n",
    "\n",
    "import numpy as np\n",
    "import matplotlib.pyplot as plt\n",
    "\n",
    "\n",
    "#finally, plot the graph and show it \n",
    "plt.figure(figsize=(9,6), dpi=150)\n",
    "plt.plot(years, nyc, 'm-', label=\"NYC\")  \n",
    "plt.plot(years, bronx, 'g-.', label=\"Bronx\")    \n",
    "plt.plot(years, brooklyn, 'b--', label=\"Brooklyn\")\n",
    "plt.plot(years, manhattan, 'y.-.', label=\"Manhattan\")\n",
    "plt.plot(years, queens, 'r-..', label=\"Queens\")\n",
    "plt.plot(years, staten_island, 'k.-.', label=\"Staten Island\")\n",
    "plt.xlabel('Years')        # add title to the x-axis\n",
    "plt.ylabel('Population')    # add title to the y-axis \n",
    "plt.legend(loc='best')   # create the legend with plot descriptions \n",
    "\n",
    "plt.show()\n"
   ]
  },
  {
   "cell_type": "code",
   "execution_count": null,
   "metadata": {},
   "outputs": [],
   "source": []
  }
 ],
 "metadata": {
  "celltoolbar": "Slideshow",
  "kernelspec": {
   "display_name": "Python 3",
   "language": "python",
   "name": "python3"
  },
  "language_info": {
   "codemirror_mode": {
    "name": "ipython",
    "version": 3
   },
   "file_extension": ".py",
   "mimetype": "text/x-python",
   "name": "python",
   "nbconvert_exporter": "python",
   "pygments_lexer": "ipython3",
   "version": "3.6.5"
  }
 },
 "nbformat": 4,
 "nbformat_minor": 2
}
