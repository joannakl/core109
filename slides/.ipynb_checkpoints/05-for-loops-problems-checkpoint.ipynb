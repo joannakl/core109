{
 "cells": [
  {
   "cell_type": "markdown",
   "metadata": {},
   "source": [
    "# Problem Solving - Part 2\n",
    "\n",
    "## CORE-UA 109.01, Joanna Klukowska"
   ]
  },
  {
   "cell_type": "markdown",
   "metadata": {},
   "source": [
    "# your paycheck after graduation\n",
    "\n",
    "\n",
    "__NACE__ (National Association of Colleges and Employers) keeps track of average starting salaries of  college graduates (BA/BS degrees) in US.\n",
    "\n",
    "The overall __starting salary__ for a Class of 2017 bachelor’s\n",
    "degree graduate stands at __$50,516__. (Source: http://www.naceweb.org/job-market/graduate-outcomes/first-destinations-class-of-2017-outcomes-mirror-2016-results/ ) \n",
    "\n",
    "\n",
    "\n",
    "\n",
    "__Work with a partner (or two)__\n",
    "\n",
    "-  Let's assume that these graduates will receive (on average)\n",
    "a 2% pay increase at the end of their first year and at the\n",
    "end of their second year.\n",
    "\n",
    "- Calculate their average salaries after each of those years. Assume that the starting salary is \\$50,000 (it is easier to work with than \\$50,516)."
   ]
  },
  {
   "cell_type": "markdown",
   "metadata": {},
   "source": [
    "# your paycheck after graduation\n",
    "\n",
    "- Year one:\n",
    "    - Calculating 2% of \\$50,000:\n",
    "    \n",
    "    $$0.02 \\times 50,000 = \\frac{2}{100} \\times 50,000 = \\frac{2}{1} \\times 500 = 1,000$$\n",
    "\n",
    "    - salary increase: \\$1,000\n",
    "    - new salary: \\$51,000"
   ]
  },
  {
   "cell_type": "markdown",
   "metadata": {},
   "source": [
    "- **Is the salary increase at the end of the second year also \\$1,000?**"
   ]
  },
  {
   "cell_type": "markdown",
   "metadata": {},
   "source": [
    "- No, because we are no longer computing 2% of \\$50,000, but rather 2% of \\$51,000!\n",
    "\n",
    "- Year two:\n",
    "    - Calculating 2% of $51,000:\n",
    "    $$0.02 \\\\times 51,000 = \\\\frac{2}{100} \\\\times 51,000 = \\\\frac{2}{1} \\\\times 510 = 1,020$$\n",
    "    - salary increase: $1,020\n",
    "    - new salary: $52,020"
   ]
  },
  {
   "cell_type": "markdown",
   "metadata": {},
   "source": [
    "# your paycheck after graduation\n",
    "\n",
    "__Can we make this calculation more general?__\n",
    "\n",
    "To simplify our notation, let’s establish some conventions:\n",
    "\n",
    "-   *p* is the percentage increase applied once a year\n",
    "\n",
    "-   *S*<sub>0</sub> is the initial salary\n",
    "\n",
    "-   *S*<sub>1</sub> is the salary at the end of year one,\n",
    "    *S*<sub>2</sub> is the salary at the end of year two,\n",
    "    etc.\n",
    "\n",
    "-   *I*<sub>1</sub> is the increase at the end of year one,\n",
    "    *I*<sub>2</sub> is the increase at the end of year to,\n",
    "    etc."
   ]
  },
  {
   "cell_type": "markdown",
   "metadata": {},
   "source": [
    "# your paycheck after graduation\n",
    "\n",
    "-   *p* is the percentage increase applied once a year\n",
    "-   *S*<sub>0</sub> is the initial salary\n",
    "-   *S*<sub>1</sub>, *S*<sub>2</sub>, ... salaries at the end of year one, two, ...\n",
    "-   *I*<sub>1</sub>, *I*<sub>2</sub>, ... increases at the end of year one, two, ...\n",
    "\n",
    "So far we know that the increase at the end of year 1 is\n",
    "\n",
    " $$I_1 = S_0 \\times p$$\n",
    "\n",
    " and that the salary at the end of year 1 is\n",
    "\n",
    " $$S_1 = S_0 + I_1$$\n",
    "\n",
    "Can we rewrite the expression for *S*<sub>1</sub>?\n",
    "\n",
    " $$S_1 = S_0 + I_1 = S_0 + S_0 \\times p = S_0 \\times ( 1 + p ) $$"
   ]
  },
  {
   "cell_type": "markdown",
   "metadata": {},
   "source": [
    "# your paycheck after graduation\n",
    "\n",
    "-   *p* is the percentage increase applied once a year\n",
    "-   *S*<sub>0</sub> is the initial salary\n",
    "-   *S*<sub>1</sub>, *S*<sub>2</sub>, ... salaries at the end of year one, two, ...\n",
    "-   *I*<sub>1</sub>, *I*<sub>2</sub>, ... increases at the end of year one, two, ...\n",
    "\n",
    "How about the salary at the end of year two?\n",
    "\n",
    "$$\\\\begin{aligned}\n",
    "       S\\_2 &= S\\_1 + I\\_2 \\\\\\\\\n",
    "        &=  S\\_1 +  S\\_1 \\\\times p\\\\\\\\\n",
    "        &=  S\\_1 \\\\times ( 1 + p ) \\\\\\\\\n",
    "        &=  S\\_0 \\\\times ( 1 + p )\\\\times ( 1 + p ) \\\\\\\\\n",
    "        &=  S\\_0 \\\\times ( 1 + p )^2 \\\\\\\\\n",
    "    \\\\end{aligned}$$\n",
    "\n",
    "And using our numbers we have:\n",
    "\n",
    "$$S_2 = 50,000 \\\\times 1.02 \\\\times 1.02 = 52,020$$"
   ]
  },
  {
   "cell_type": "markdown",
   "metadata": {},
   "source": [
    "# your paycheck after graduation\n",
    "\n",
    "$$S_1 = S_0 \\times ( 1 + p ) $$\n",
    "\n",
    "\n",
    "$$S_2 = S_0 \\times ( 1 + p ) \\times ( 1 + p ) $$\n",
    "\n",
    "What do you think the formula for *S*<sub>3</sub> might be?\n",
    "\n",
    "\n",
    "\n",
    "$$S_3 = S_0 \\times ( 1 + p ) \\times ( 1 + p ) \\times ( 1 + p ) $$\n",
    "\n",
    "\n",
    "How about *S*<sub>10</sub>?\n",
    "\n",
    "\n",
    "\n",
    "$$S_{10} = S_0 \\times ( 1 + p )^{10} $$\n",
    "\n",
    "<br><br><br>\n",
    "__Now, how do we write a program that performs this computation?__"
   ]
  },
  {
   "cell_type": "markdown",
   "metadata": {},
   "source": [
    "# Programming challenge\n",
    "\n",
    "Write a program that prompts the user for\n",
    "\n",
    " - their expected salary after graduation\n",
    "\n",
    " - their expected yearly percentage increase\n",
    "\n",
    "The program should produce a table showing the expected salary\n",
    "at the end of years 1, 2, 3, 4, 5, 10, 15, 20 (assuming that the\n",
    "percentage increase remains the same and that the user stays at\n",
    "the same job)."
   ]
  },
  {
   "cell_type": "markdown",
   "metadata": {},
   "source": [
    "# discounts and sales\n",
    "\n",
    "- You have a preferred customer discount coupon from your favorite\n",
    "clothing store that gives you a 50% discount off of any item in the\n",
    "store.\n",
    "\n",
    "- The store happens to also have an end of season sale and all items are\n",
    "being sold at a 50% discount.\n",
    "\n",
    "- You decided to get a new shirt that was originally priced at $60.00.\n",
    "\n",
    "- Do you get it for free after combining your discount coupon with the store sale?\n",
    "\n",
    "\n",
    "**Why not?**"
   ]
  },
  {
   "cell_type": "markdown",
   "metadata": {},
   "source": [
    "# discounts and sales\n",
    "\n",
    "- What is the discount due to the store’s end of season sale?<br>\n",
    " 50% of 60.00 = 0.5 × 60.00 = 30.00\n",
    "\n",
    "- What is the price of the shirt after the store’s end of season sale discount is applied? <br>\n",
    "60.00 -  discount = 30.00\n",
    "\n",
    "- What is the discount due to your coupon?<br>\n",
    "50% of the price after the previous discount  = 0.5 × 30.00 = 15.00\n",
    "\n",
    "- What is the price you pay? <br>\n",
    "60.00 − 30.00 − 15.00 = 15.00"
   ]
  },
  {
   "cell_type": "markdown",
   "metadata": {},
   "source": [
    "# discounts and sales\n",
    "\n",
    "- Can we calculate the final price without computing the two discounts\n",
    "separately?\n",
    "\n",
    "- Sure: we can use calculation similar to the one from pay raise calculations\n",
    "\n",
    "- just remember that for discounts we are going to be removing something\n",
    "\n",
    "- instead multiply by (1+p) for each year, we will multiply by (1-d) for each\n",
    "discount wher d is the discount percentage\n",
    "\n",
    "- Since we have two discounts, we need to apply them both:\n",
    "\n",
    "   ***original_price*  × (1 - *d*<sub>1</sub>)×(1 - *d*<sub>2</sub>) = *final_discounted_price***\n",
    "\n",
    "   where *d*<sub>1</sub> and *d*<sub>2</sub> are the two discounts"
   ]
  },
  {
   "cell_type": "markdown",
   "metadata": {},
   "source": [
    "# Programming challenge\n",
    "\n",
    "Write a program that prompts the user for an initial price and\n",
    "three discount amounts\n",
    "\n",
    "- if there are fewer discounts the user should enter 0.0 as the discount amount,\n",
    "\n",
    "- if the discount is 30%, the user should enter 0.3 as the discount amount.\n",
    "\n",
    "The program should then compute the final price after the three discounts are applied.s\n",
    "\n",
    "_Something to consider_: does it matter in what order the discounts are applied?"
   ]
  }
 ],
 "metadata": {
  "kernelspec": {
   "display_name": "Python 3",
   "language": "python",
   "name": "python3"
  },
  "language_info": {
   "codemirror_mode": {
    "name": "ipython",
    "version": 3
   },
   "file_extension": ".py",
   "mimetype": "text/x-python",
   "name": "python",
   "nbconvert_exporter": "python",
   "pygments_lexer": "ipython3",
   "version": "3.6.5"
  }
 },
 "nbformat": 4,
 "nbformat_minor": 2
}
