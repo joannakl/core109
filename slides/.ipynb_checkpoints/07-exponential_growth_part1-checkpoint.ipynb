{
 "cells": [
  {
   "cell_type": "markdown",
   "metadata": {
    "slideshow": {
     "slide_type": "slide"
    }
   },
   "source": [
    "# Linear and Exponential Growth\n",
    "## (bill payments, bank savings, population growth, retirement savings, credit card payments)\n",
    "\n",
    "\n",
    "\n",
    "\n",
    "## CORE-UA 109.01, Joanna Klukowska"
   ]
  },
  {
   "cell_type": "markdown",
   "metadata": {},
   "source": [
    "#  Linear growth problems from previous slides \n",
    "\n",
    "-   electricity bills $$b(k) = p \\times k + base$$ where $k$ is the\n",
    "    number of kWh used, $p$ is the price per one kWh and $base$ is the\n",
    "    base payment when the client does not use any electricity\n",
    "\n",
    "-   car rental companies\n",
    "\n",
    "    -   Watertown:      $$w(m) = 79.00$$\n",
    "        \n",
    "    -   U-Hal $$u(m) = 1.39 \\times m + 29.95$$\n",
    "\n",
    "    -   Budget $$u(m) = 0.99 \\times m + 29.95$$\n",
    "\n",
    "    -   Enterprise\n",
    "        $$e(m) = 59.95\\text{ for } m <= 100$$ \n",
    "        and\n",
    "        $$e(m) = 0.59\\times m + 59.95\\text{ for }m >100$$"
   ]
  },
  {
   "cell_type": "markdown",
   "metadata": {},
   "source": [
    "# Simple vs. Compound Interest or Linear vs. Exponential Growth "
   ]
  },
  {
   "cell_type": "markdown",
   "metadata": {},
   "source": [
    "#  Which bank would you use? \n",
    "\n",
    "-   You have \\$1,000.00 to invest.\n",
    "\n",
    "-   __SaveWithUs__ offers you a savings account that pays \\$100.00 flat\n",
    "    bonus at the end of every year for which you keep the money in their\n",
    "    account.\n",
    "\n",
    "-   __BetterSavings__ offers you a savings account that pays 8% interest\n",
    "    at the end of each year for which you keep the money in their\n",
    "    account. (It is 8% of the account balance, so the actual amount\n",
    "    varies from year to year.)\n",
    "\n",
    "-   Which option would you select?"
   ]
  },
  {
   "cell_type": "markdown",
   "metadata": {},
   "source": [
    "#  Which bank would you use? \n",
    "\n",
    "\n",
    "**year** |  **SaveWithUs ($100.00)** |  **BetterSavings (8%)**\n",
    "----------|---------------------------|------------------------\n",
    "   0  |  1,000.00     |  1,000.00\n",
    "   1  |  1,100.00     |  1,080.00\n",
    "   2  |  1,200.00     |  1,166.40\n",
    "   3  |  1,300.00     |  1,259.71\n",
    "   4  |  1,400.00     |  1,360.49\n",
    "   5  |  1,500.00     |  1,469.33\n",
    "   6  |  1,600.00     |  1,586.87\n",
    "   7  |  1,700.00     |  1,713.82\n",
    "   8  |  1,800.00     |  1,850.93\n",
    "   9  |  1,900.00     |  1,999.00\n",
    "   10 |2,000.00     |  2,158.92\n",
    "   "
   ]
  },
  {
   "cell_type": "markdown",
   "metadata": {},
   "source": [
    "#  Which bank would you use? \n",
    "\n",
    "-   What are the functions that represent both investments?\n",
    "\n",
    "-   SaveWithUs: $$b(y) = 1000.00 + 100y$$ it is a linear function\n",
    "\n",
    "-   BetterSavings: $$b(y) = 1000.00 \\times (1+0.08)^y$$ it is an\n",
    "    **exponential function**\n",
    "\n",
    "-   The first model is called **simple interest** - the bank is paying a\n",
    "    10% interest, but it is always 10% of the original investment (so it\n",
    "    is really a fixed amount).\n",
    "\n",
    "-   The second model is called **compound interest** - the bank is\n",
    "    paying a 8% interest of whatever the balance of the account is (so\n",
    "    it is changing over time)."
   ]
  },
  {
   "cell_type": "markdown",
   "metadata": {},
   "source": [
    "#  Which bank would you use? "
   ]
  },
  {
   "cell_type": "code",
   "execution_count": null,
   "metadata": {},
   "outputs": [],
   "source": [
    "# bank accounts\n",
    "\n",
    "import numpy as np\n",
    "import matplotlib.pyplot as plt\n",
    "\n",
    "# we want the plot the value of the account during the first ten years\n",
    "# from year 0 (initial investment) to year 10 \n",
    "\n",
    "num_of_points = 11\n",
    "year = np.linspace(0, 10, num_of_points )\n",
    "\n",
    "# we calculate the corresponding prices for each company \n",
    "save_with_us = 1000 + 100.0 * year\n",
    "better_savings = 1000 * (1 + 0.08)** year\n",
    "\n",
    "\n",
    "#finally, plot the graph and show it \n",
    "plt.plot(year, save_with_us, 'g.', label=\"Save with Us\")    \n",
    "plt.plot(year, better_savings, 'b.', label=\"Better Savings\")\n",
    "plt.xlabel('Years')        # add title to the x-axis\n",
    "plt.ylabel('Value in the Account')    # add title to the y-axis \n",
    "plt.legend(loc='upper left')   # create the legend with plot descriptions \n",
    "\n",
    "plt.show()\n"
   ]
  },
  {
   "cell_type": "markdown",
   "metadata": {},
   "source": [
    "#  Which bank would you use? \n",
    "\n",
    "How big would the difference be after 20 years?"
   ]
  },
  {
   "cell_type": "markdown",
   "metadata": {},
   "source": [
    "# Significance of Doubling"
   ]
  },
  {
   "cell_type": "markdown",
   "metadata": {},
   "source": [
    "#  Rice and the Chessboard Story \n",
    "\n",
    "-   The creator of the game of chess showed his invention to the ruler,\n",
    "    the ruler was highly impressed.\n",
    "\n",
    "-   He was so impressed, in fact, that he told the inventor to name a\n",
    "    prize of his choice.\n",
    "\n",
    "-   The inventor, being rather clever, said he would take a grain of\n",
    "    rice on the first square of the chessboard, two grains of rice on\n",
    "    the second square of the chessboard, four on the third square, eight\n",
    "    on the fourth square, and so on, doubling the number of grains of\n",
    "    rice for each successive square.\n",
    "\n",
    "-   The ruler laughed at such a modest prize, but he ordered his\n",
    "    treasurer to count out the rice."
   ]
  },
  {
   "cell_type": "markdown",
   "metadata": {},
   "source": [
    "#  Rice and the Chessboard Story \n",
    "\n",
    "-   What do you think about the prize that the creator of chess asked\n",
    "    for?\n",
    "\n",
    "-   Can you guess how many grains of rice will he receive?"
   ]
  },
  {
   "cell_type": "markdown",
   "metadata": {},
   "source": [
    "#  Rice and the Chessboard Story \n",
    "\n",
    "-   ...\n",
    "\n",
    "-   The treasurer took more than a week to count the rice in the ruler’s\n",
    "    store, only to notify the ruler that it would take more rice than\n",
    "    was available in the entire kingdom.\n",
    "\n",
    "-   (Shortly thereafter, as the story goes, the inventor became the new\n",
    "    king.)"
   ]
  },
  {
   "cell_type": "markdown",
   "metadata": {},
   "source": [
    "###  Rice and the Chessboard Story \n",
    "\n",
    "How many grains?\n",
    "\n",
    "-   square 1: 1 grain\n",
    "\n",
    "-   square 2: 2 grains\n",
    "\n",
    "-   square 3: 4 grains\n",
    "\n",
    "-   square 4: 8 grains\n",
    "\n",
    "-   square 5: 16 grains\n",
    "\n",
    "-   square 6: 32 grains\n",
    "\n",
    "-   square 7: 64 grains\n",
    "\n",
    "Can you see the pattern? What would the number of grains be for a square\n",
    "$s$? \n",
    "\n",
    "Each square has $2^{s-1}$ grains of rice.  "
   ]
  },
  {
   "cell_type": "markdown",
   "metadata": {},
   "source": [
    "#  Rice and the Chessboard Story \n",
    "\n",
    "How big is $2^{s-1}$ ?\n",
    "\n",
    "-   square 5: so $s=5$ and $2^{5-1} = 16$ grains\n",
    "\n",
    "-   ...\n",
    "\n",
    "-   square 10: so $s=10$ and $2^{10-1} = 512$ grains\n",
    "\n",
    "-   ...\n",
    "\n",
    "-   square 16: so $s=16$ and $2^{16-1} = 32,768 $ grains\n",
    "\n",
    "-   ...\n",
    "\n",
    "-   square 32: so $s=16$ and $2^{32-1} = 2,147,483,648 $ grains\n",
    "\n",
    "-   ...\n",
    "\n",
    "-   square 64: so $s=16$ and $2^{32-1} = 9,223,372,036,854,775,808 $\n",
    "    grains \n",
    "    \n",
    "    by some estimates, there are 36,590,000 grains of rice in a ton, so on the square number 64, there would be \n",
    "    2.52073573e11 (or 252,073,573,000 tons of rice)\n",
    "    "
   ]
  },
  {
   "cell_type": "markdown",
   "metadata": {},
   "source": [
    "# Borrowing and Saving"
   ]
  },
  {
   "cell_type": "markdown",
   "metadata": {},
   "source": [
    "#  Credit Cards \n",
    "\n",
    "-   John Doe charged \\$125.24 to his credit card during the last\n",
    "    statement period.\n",
    "\n",
    "-   His minimum payment due is \\$20.00.\n",
    "\n",
    "-   He decides to settle his debt with the credit card company by making\n",
    "    the \\$20.00 monthly payments.\n",
    "    \n",
    "    He is not going to be using this credit card anymore until it is completely paid off. \n",
    "\n",
    "-   The credit card company charges 1.65% montly interest rate on the\n",
    "    unpaid amount.\n",
    "\n",
    "-   How many months will it take him to be debt free?\n",
    "\n",
    "    How much extra is he going to pay the bank?\n",
    "    "
   ]
  },
  {
   "cell_type": "markdown",
   "metadata": {},
   "source": [
    "![image](img/credit_card.png)"
   ]
  },
  {
   "cell_type": "markdown",
   "metadata": {},
   "source": [
    "#  Credit Cards "
   ]
  },
  {
   "cell_type": "markdown",
   "metadata": {},
   "source": [
    "#  Credit Cards \n",
    "\n",
    "-   Think about:\n",
    "\n",
    "    -   How is the value of interest paid affected by the interest rate?\n",
    "\n",
    "    -   How is the value of interest paid affected by the initial\n",
    "        balance?\n",
    "\n",
    "    -   How is the value of interest paid affected by the amount of\n",
    "        monthly payments?\n",
    "\n",
    "    -   What is the function that calculates the total amount that will\n",
    "        be paid with the fixed monthly payments and fixed interest rate?\n",
    "\n",
    "    -   What is the function that calculated the payment balance after\n",
    "        each month with the fixed monthly payments and fixed interest\n",
    "        rate?"
   ]
  },
  {
   "cell_type": "markdown",
   "metadata": {
    "slideshow": {
     "slide_type": "subslide"
    }
   },
   "source": [
    "#  Saving For Retirement \n",
    "\n",
    "Simplified model:\n",
    "\n",
    "-   At the end of each year (till your retirement) you deposit \\$1000.00\n",
    "    in your retirement account.\n",
    "\n",
    "-   The brokerage managing your money, guarantees that they can make 5%\n",
    "    interest on the balance of the account each year.\n",
    "\n",
    "-   How much money will there be in the account in 1 year, 2 years, 10\n",
    "    years, 20 years?"
   ]
  },
  {
   "cell_type": "markdown",
   "metadata": {
    "slideshow": {
     "slide_type": "fragment"
    }
   },
   "source": [
    "    -   year 0: deposit \\$1000.00, no interest yet\n",
    "\n",
    "    -   year 1: balance plus interest \\$1000.00 ( 1 + 0.05) = \\$1050.00\\\n",
    "        new deposit: \\$1000.00, total: \\$2050.00\n",
    "\n",
    "    -   year 2: balance plus interest \\$2050.00 ( 1 + 0.05) = \\$2152.50\\\n",
    "        new deposit: \\$1000.00, total: \\$3152.50\n",
    "\n",
    "    -   ..."
   ]
  },
  {
   "cell_type": "markdown",
   "metadata": {
    "slideshow": {
     "slide_type": "fragment"
    }
   },
   "source": [
    "__Challenge:__ try to write a program that calculates the value for the next 30 years, then write a program that plots the graph of those values (optional). "
   ]
  },
  {
   "cell_type": "markdown",
   "metadata": {},
   "source": [
    "#  Try it Yourself \n",
    "\n",
    "-   A rare coin appreciates at a rate of 5.2% a year. If the initial\n",
    "    value of the coin is \\$500, after how many years will its value\n",
    "    cross the \\$3,000 mark? Show the formula that models the value of\n",
    "    the coin after $t$ years.\n",
    "\n",
    "-   A local college has increased its number of graduates by a factor of\n",
    "    1.045 over the previous year for every year since 1999. In 1999, 924\n",
    "    students graduated. What explicit formula models this situation?\n",
    "    Approximately how many students will graduate in 2014?\n",
    "\n",
    "-   A three-bedroom house in Burbville sold for \\$190,000. If housing\n",
    "    prices are expected to increase 1.8% annually in that town, write an\n",
    "    explicit formula that models the price of the house in $t$ years. Find\n",
    "    the price of the house in 5 years.\n",
    "\n",
    "Additional challenge: write programs that provide answers to the above problems. "
   ]
  },
  {
   "cell_type": "markdown",
   "metadata": {},
   "source": [
    "#  Think about\n",
    "\n",
    "Retirement savings\n",
    "\n",
    "-   What is the function that would calculate the value of your\n",
    "    retirement assuming a fixed interest rate and fixed yearly deposit?\n",
    "\n",
    "-   How does this formula compare to the credit card payment formula?\n",
    "\n",
    "-   How would the value of your retirement account change if the\n",
    "    payments were made monthly and interest compounded monthly?\n",
    "\n",
    "-   How much would be in your retirement account if you were earning\n",
    "    interest equal to the interest rate charged by the banks on your\n",
    "    credit card balance?\n",
    "    \n"
   ]
  },
  {
   "cell_type": "code",
   "execution_count": null,
   "metadata": {},
   "outputs": [],
   "source": []
  }
 ],
 "metadata": {
  "celltoolbar": "Slideshow",
  "kernelspec": {
   "display_name": "Python 3",
   "language": "python",
   "name": "python3"
  },
  "language_info": {
   "codemirror_mode": {
    "name": "ipython",
    "version": 3
   },
   "file_extension": ".py",
   "mimetype": "text/x-python",
   "name": "python",
   "nbconvert_exporter": "python",
   "pygments_lexer": "ipython3",
   "version": "3.6.5"
  }
 },
 "nbformat": 4,
 "nbformat_minor": 2
}
