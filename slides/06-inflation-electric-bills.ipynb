{
 "cells": [
  {
   "cell_type": "code",
   "execution_count": null,
   "metadata": {
    "slideshow": {
     "slide_type": "skip"
    }
   },
   "outputs": [],
   "source": [
    "%%html\n",
    "<!-- Not content, but for better presentation styles -->\n",
    "<style>\n",
    "\n",
    ".rendered_html {\n",
    "  font-size:1em;\n",
    "}\n",
    "\n",
    ".rendered_html table, .rendered_html th, .rendered_html tr, .rendered_html td {\n",
    "    font-size: 100%; \n",
    "}\n",
    "\n",
    ".rendered_html td,  tr, th {\n",
    "    text-align:left;\n",
    "    border: 1pt gray; \n",
    "}\n",
    "\n",
    ".rendered_html table {\n",
    "    /*float:center;  */\n",
    "    margin: 20pt;\n",
    "    \n",
    "}\n",
    "\n",
    "\n",
    "\n",
    "</style>"
   ]
  },
  {
   "cell_type": "markdown",
   "metadata": {
    "slideshow": {
     "slide_type": "slide"
    }
   },
   "source": [
    "# Inflation and Electric Bills \n",
    "\n",
    "## CORE-UA 109.01, Joanna Klukowska"
   ]
  },
  {
   "cell_type": "markdown",
   "metadata": {
    "slideshow": {
     "slide_type": "slide"
    }
   },
   "source": [
    "# inflation"
   ]
  },
  {
   "cell_type": "markdown",
   "metadata": {
    "slideshow": {
     "slide_type": "slide"
    }
   },
   "source": [
    "# inflation\n",
    "## or what is your money going to be worth tomorrow?\n",
    "\n",
    "- Each year things cost more than a year before.\n",
    "\n",
    "- This is called __inflation__.\n",
    "\n",
    "- U.S. Bureau of Labor Statistics provides the inflation calculator\n",
    "[http://www.bls.gov/data/inflation_calculator.htm](http://www.bls.gov/data/inflation_calculator.htm)\n",
    "\n",
    "-  Using the inflation calculator we can find out what $100 of some past year is worth these days.\n",
    "\n",
    "- For the inflation rate data see _Current US Inflation Rates: 2008-2018_ at\n",
    "[http://www.usinflationcalculator.com/inflation/current-inflation-rates/](http://www.usinflationcalculator.com/inflation/current-inflation-rates/)"
   ]
  },
  {
   "cell_type": "markdown",
   "metadata": {
    "slideshow": {
     "slide_type": "slide"
    }
   },
   "source": [
    "# inflation\n",
    "\n",
    "- If you bought an item that cost \\$100.00 ten years ago, how much would you need to spend today for\n",
    "an equivalent item? (or what amount of money has the same __buying power__ as the \\$100.00 from a\n",
    "a decade ago)\n",
    "\n",
    "\n",
    "- Guess:\n",
    "\n",
    "    - Can you guess what \\$100 from 2008 would be _equivalent to_ in 2017?\n",
    "\n",
    "    - How about \\$100 from 2000 (this is roughly when you were born, isn't it)?\n",
    "\n",
    "    - How about 1913 (the earliest year in the calculator)?\n",
    "\n"
   ]
  },
  {
   "cell_type": "markdown",
   "metadata": {
    "slideshow": {
     "slide_type": "slide"
    }
   },
   "source": [
    "#  why do we care about inflation?\n",
    "\n",
    "- Say you are one of the college graduates of 2018 and you get a job\n",
    "paying \\\\$50,000 a year with the guaranteed annual increase of 2%.\n",
    "\n",
    "- Are you really making \\\\$51,000 the following year?\n",
    "\n",
    "- Nominally yes, but it is not worth the same as \\\\$51,000 in the year that you were hired."
   ]
  },
  {
   "cell_type": "markdown",
   "metadata": {
    "slideshow": {
     "slide_type": "slide"
    }
   },
   "source": [
    "#  correcting for inflation\n",
    "\n",
    "**(this is a simple approximation; for a more complete analysis we would need to use the\n",
    "consumer price index)**\n",
    "\n",
    "What is the inflation rate?\n",
    "\n",
    "- If the \\\\$100 in June of 2018 is equivalent to \\\\$101.65 in June of 2019 (according to the\n",
    "inflation calculator), then how can we figure out the inflation rate\n",
    "from 2018 to 2019?\n",
    "\n",
    "$$\\frac{ \\$101.65 - \\$100.00}{\\$100.00} = \\frac{\\$1.65}{\\$100} = 0.0165$$"
   ]
  },
  {
   "cell_type": "markdown",
   "metadata": {
    "slideshow": {
     "slide_type": "fragment"
    }
   },
   "source": [
    "inflation rate: 1.65%\n",
    "\n",
    "Inflation is a negative rate, it decreases the value of money."
   ]
  },
  {
   "cell_type": "markdown",
   "metadata": {
    "slideshow": {
     "slide_type": "slide"
    }
   },
   "source": [
    "# actual increase in the salary \n",
    "\n",
    "\n",
    "The [real interest rate](https://en.wikipedia.org/wiki/Real_interest_rate) is the _advertised_ interest rate reduced by the inflation: \n",
    "\n",
    "$$\\text{real interest rate} = \\text{interest rate} - \\text{inflation} $$ \n",
    "\n",
    "The actual increse in the buying power is then:\n",
    "\n",
    "$$\\text{salary in 2018} \\times \\text{real interest rate}$$\n",
    "\n",
    "And the actual salary would be worth siginificantly less that \\$51,000: \n",
    "\n",
    "$$\\$50,000 \\times (1 + 0.02 - 0.0165)=\\$50,175.00$$\n",
    "\n",
    "(if we think of 2018 as a baseline for the buying power of money).\n",
    "\n",
    "Not a true 2% increase!"
   ]
  },
  {
   "cell_type": "markdown",
   "metadata": {
    "slideshow": {
     "slide_type": "subslide"
    }
   },
   "source": [
    "# inflation summary\n",
    "\n",
    "If the annual increase in one's salary is\n",
    "\n",
    "- less than the inflation rate, the income effectively decreases\n",
    "\n",
    "- more than the inflation rate, the income effectively increases\n",
    "\n",
    "\n",
    "If an interest rate offered by a bank is\n",
    "\n",
    "- below the inflation rate, the bank account is effectively losing value\n",
    "\n",
    "- above the inflation rate, the bank account is effectively gaining value"
   ]
  },
  {
   "cell_type": "markdown",
   "metadata": {
    "slideshow": {
     "slide_type": "slide"
    }
   },
   "source": [
    "# electricity bills"
   ]
  },
  {
   "cell_type": "markdown",
   "metadata": {
    "slideshow": {
     "slide_type": "slide"
    }
   },
   "source": [
    "#  electricity bills\n",
    "\n",
    "- You may or may not be paying electricity bills, but one day you will\n",
    "and it is interesting to know how they work.\n",
    "\n",
    "- If you use twice as much electricity in June as you did in February\n",
    "is your bill twice as big (assume that the price is still the same)?"
   ]
  },
  {
   "cell_type": "markdown",
   "metadata": {
    "slideshow": {
     "slide_type": "fragment"
    }
   },
   "source": [
    "- If so, we could calculate the amount of the bill as follows (note\n",
    "that electricity consumption is calculated in kilo-watt-hours, kwh):\n",
    "\n",
    "    $$\\text{cost in a given month} = \\text{price per one kwh} × \\text{number of kwh used}$$\n",
    "\n",
    "    or\n",
    "\n",
    "    $$b( k ) = price × k$$\n",
    "\n",
    "- (Note that the above formula will need to be adjusted to really\n",
    "    represent the function that models electricity bills.)"
   ]
  },
  {
   "cell_type": "markdown",
   "metadata": {
    "slideshow": {
     "slide_type": "slide"
    }
   },
   "source": [
    "#  electricity bills\n",
    "\n",
    "-   Lane Electric is a power supplier company. Their website has a nifty\n",
    "    calculator that allows one to estimate the amount of the monthly\n",
    "    bill (see <https://laneelectric.com/rates-fees/electric-bill-estimator/>. Let’s try\n",
    "    to figure out if we can actually come up with a pattern.\n",
    "\n",
    "<table>\n",
    "    <thead>\n",
    "    <tr class=\"header\">\n",
    "    <th align=\"center\">kWh used</th>\n",
    "    <th align=\"center\">monthly price</th>\n",
    "    </tr>\n",
    "    </thead>\n",
    "    <tbody>\n",
    "    <tr class=\"odd\">\n",
    "    <td align=\"center\">25</td>\n",
    "    <td align=\"center\">\\$14.05</td>\n",
    "    </tr>\n",
    "    <tr class=\"even\">\n",
    "    <td align=\"center\">50</td>\n",
    "    <td align=\"center\">\\$16.10</td>\n",
    "    </tr>\n",
    "    <tr class=\"odd\">\n",
    "    <td align=\"center\">75</td>\n",
    "    <td align=\"center\">\\$18.15</td>\n",
    "    </tr>\n",
    "    <tr class=\"even\">\n",
    "    <td align=\"center\">100</td>\n",
    "    <td align=\"center\">\\$20.20</td>\n",
    "    </tr>\n",
    "    </tbody>\n",
    "</table>\n",
    "\n",
    "-   Can you figure out how much a single kWh of electricity costs?\n",
    "\n",
    "    Work with a partner (or two) to see if you can come up with a formula."
   ]
  },
  {
   "cell_type": "markdown",
   "metadata": {
    "slideshow": {
     "slide_type": "fragment"
    }
   },
   "source": [
    "-   The answer does not seem to be straight forward, does it?\n",
    "\n",
    "    But what if you knew that the same company will issue a\n",
    "    bill for \\$12.00 per month even if you do not use any electricity?\n",
    "\n"
   ]
  },
  {
   "cell_type": "markdown",
   "metadata": {
    "slideshow": {
     "slide_type": "subslide"
    }
   },
   "source": [
    "#  electricity bills\n",
    "\n",
    "-   Here is the table again with the added column:\n",
    "\n",
    "<table>\n",
    "<thead>\n",
    "<tr class=\"header\">\n",
    "<th align=\"center\">kWh used</th>\n",
    "<th align=\"center\">monthly price</th>\n",
    "<th align=\"center\">monthly price - $12.00</th>\n",
    "</tr>\n",
    "</thead>\n",
    "<tbody>\n",
    "<tr class=\"odd\">\n",
    "<td align=\"center\">25</td>\n",
    "<td align=\"center\">\\$14.05</td>\n",
    "<td align=\"center\">\\$2.05</td>\n",
    "</tr>\n",
    "<tr class=\"even\">\n",
    "<td align=\"center\">50</td>\n",
    "<td align=\"center\">\\$16.20</td>\n",
    "<td align=\"center\">\\$4.10</td>\n",
    "</tr>\n",
    "<tr class=\"odd\">\n",
    "<td align=\"center\">75</td>\n",
    "<td align=\"center\">\\$18.15</td>\n",
    "<td align=\"center\">\\$6.15</td>\n",
    "</tr>\n",
    "<tr class=\"even\">\n",
    "<td align=\"center\">100</td>\n",
    "<td align=\"center\">\\$20.20</td>\n",
    "<td align=\"center\">\\$8.20</td>\n",
    "</tr>\n",
    "</tbody>\n",
    "</table>\n",
    "\n",
    "-   Can you figure out the pattern now?"
   ]
  },
  {
   "cell_type": "markdown",
   "metadata": {
    "slideshow": {
     "slide_type": "fragment"
    }
   },
   "source": [
    "\n",
    "\n",
    "-   It seems that each 25 kWh of electricity costs exactly \\$2.05.\n",
    "\n",
    "-   This means that 1 kW costs \\$2.05/25 or \\$0.082 or 8.2¢.\n",
    "\n",
    "-   And the bill can be calculated as\n",
    "    $$ b(k) = 0.082 × k + 12.00 $$\n",
    "\n",
    "\n",
    "What other bills _behave_ this way?"
   ]
  },
  {
   "cell_type": "markdown",
   "metadata": {
    "slideshow": {
     "slide_type": "subslide"
    }
   },
   "source": [
    "#  try it yourself: car rental\n",
    "\n",
    "- You are about to move and you need to rent a track to transfer all\n",
    "    your things from the old place to the new place. You did your\n",
    "    research regarding available rental places. Here is the information\n",
    "    you collected:\n",
    "\n",
    "<table>\n",
    "<thead>\n",
    "<tr class=\"header\">\n",
    "<th align=\"left\"> </th>\n",
    "<th align=\"center\">Watertown</th>\n",
    "<th align=\"center\">&nbsp;&nbsp;&nbsp;U-Haul&nbsp;&nbsp;&nbsp;</th>\n",
    "<th align=\"center\">&nbsp;&nbsp;&nbsp;Budget&nbsp;&nbsp;&nbsp;</th>\n",
    "<th align=\"center\">Enterprise</th>\n",
    "</tr>\n",
    "</thead>\n",
    "<tbody>\n",
    "<tr class=\"odd\">\n",
    "<td align=\"left\">fixed cost</td>\n",
    "<td align=\"center\">\\$79.00</td>\n",
    "<td align=\"center\">\\$29.95</td>\n",
    "<td align=\"center\">\\$29.95</td>\n",
    "<td align=\"center\">\\$59.95</td>\n",
    "</tr>\n",
    "<tr class=\"even\">\n",
    "<td align=\"left\">\\$ per mile</td>\n",
    "<td align=\"center\">0.00</td>\n",
    "<td align=\"center\">\\$1.39</td>\n",
    "<td align=\"center\">\\$0.99</td>\n",
    "<td align=\"center\">\\$0.59 <span>(after the first 100 miles)</span></td>\n",
    "</tr>\n",
    "</tbody>\n",
    "</table>\n",
    "\n",
    "- Which company should you use?\n",
    "\n",
    "    -   for a very short move (just couple of blocks)?\n",
    "\n",
    "    -   for a very long move (the East Coast to Alaska)?\n",
    "\n",
    "    -   what about a medium size move, let’s say 35 miles\n",
    "\n",
    "- What is the function/formula for price for each of those companies (this\n",
    "    should be a function of miles driven)."
   ]
  },
  {
   "cell_type": "markdown",
   "metadata": {
    "slideshow": {
     "slide_type": "slide"
    }
   },
   "source": [
    "# a picture is worth ..."
   ]
  },
  {
   "cell_type": "markdown",
   "metadata": {
    "slideshow": {
     "slide_type": "subslide"
    }
   },
   "source": [
    "# example 1 - a simple plot"
   ]
  },
  {
   "cell_type": "code",
   "execution_count": 8,
   "metadata": {
    "slideshow": {
     "slide_type": "fragment"
    }
   },
   "outputs": [
    {
     "data": {
      "image/png": "[encoded data removed]",
      "text/plain": [
       "<Figure size 432x288 with 1 Axes>"
      ]
     },
     "metadata": {
      "needs_background": "light"
     },
     "output_type": "display_data"
    }
   ],
   "source": [
    "# these lines import plotting tools that\n",
    "# we will need for this problem\n",
    "import numpy as np\n",
    "import matplotlib.pyplot as plt\n",
    "\n",
    "# think of plt as our drawing canvas\n",
    "# or a whiteboard\n",
    "\n",
    "# first draw the plot\n",
    "#plt.figure(figsize=(15,10), dpi=100, facecolor='gray')\n",
    "plt.plot([10,2,3,2,3,14,3,4,5])\n",
    "# then show it so the actual graph is displayed\n",
    "plt.show()"
   ]
  },
  {
   "cell_type": "markdown",
   "metadata": {
    "slideshow": {
     "slide_type": "subslide"
    }
   },
   "source": [
    "# example 2 - quadratic function"
   ]
  },
  {
   "cell_type": "code",
   "execution_count": 13,
   "metadata": {
    "slideshow": {
     "slide_type": "fragment"
    }
   },
   "outputs": [
    {
     "data": {
      "image/png": "[encoded data removed]",
      "text/plain": [
       "<Figure size 432x288 with 1 Axes>"
      ]
     },
     "metadata": {
      "needs_background": "light"
     },
     "output_type": "display_data"
    }
   ],
   "source": [
    "import numpy as np\n",
    "import matplotlib.pyplot as plt\n",
    "\n",
    "# let's try to plot a quadratic function y = (x-10)^2 - 25\n",
    "\n",
    "# first let's get some points for the x axis np.linspace works similar to the range()\n",
    "# function, but 1) both end points are included, 2) the last parameter states\n",
    "# how many values we want, not the interval\n",
    "x = np.linspace(-30, 40.0, 36)\n",
    "\n",
    "# now we calculate the corresponding y values\n",
    "y = (x-10)**2 - 25\n",
    "\n",
    "#finally, plot the graph and show it\n",
    "#plt.figure(figsize=(15,10), dpi=100, facecolor='gray')\n",
    "\n",
    "plt.plot(x, y, 'ro')\n",
    "plt.show()"
   ]
  },
  {
   "cell_type": "markdown",
   "metadata": {
    "slideshow": {
     "slide_type": "subslide"
    }
   },
   "source": [
    "# example 3 - electric bill"
   ]
  },
  {
   "cell_type": "code",
   "execution_count": 14,
   "metadata": {
    "slideshow": {
     "slide_type": "fragment"
    }
   },
   "outputs": [
    {
     "data": {
      "image/png": "[encoded data removed]",
      "text/plain": [
       "<Figure size 1200x800 with 1 Axes>"
      ]
     },
     "metadata": {
      "needs_background": "light"
     },
     "output_type": "display_data"
    }
   ],
   "source": [
    "import numpy as np\n",
    "import matplotlib.pyplot as plt\n",
    "\n",
    "# let's try to plot the values of our electric bill from Lane\n",
    "# Electric b(k)=0.082 * k + 12.00\n",
    "\n",
    "# we want the plot for number of kilo-watt-hours ranging from 0 to 1000,\n",
    "# in increments of 20 kilo-watt-hours (so we need 51 points between 0 and 1000)\n",
    "k = np.linspace(0, 1000.0, 51)\n",
    "\n",
    "# we calculate the corresponding bill amount\n",
    "b = 0.082 * k + 12\n",
    "\n",
    "#finally, plot the graph and show it\n",
    "plt.figure(figsize=(12,8), dpi=100)\n",
    "plt.plot(k, b, 'b')   # plot a blue line\n",
    "plt.plot(k, b, 'ro')  # mark each point with a red dot\n",
    "plt.show()"
   ]
  },
  {
   "cell_type": "markdown",
   "metadata": {
    "slideshow": {
     "slide_type": "subslide"
    }
   },
   "source": [
    "# example 4 - track rental  < 100 mi"
   ]
  },
  {
   "cell_type": "code",
   "execution_count": 31,
   "metadata": {
    "slideshow": {
     "slide_type": "fragment"
    }
   },
   "outputs": [
    {
     "data": {
      "image/png": "[encoded data removed]",
      "text/plain": [
       "<Figure size 1500x1000 with 1 Axes>"
      ]
     },
     "metadata": {},
     "output_type": "display_data"
    }
   ],
   "source": [
    "import numpy as np\n",
    "import matplotlib.pyplot as plt\n",
    "\n",
    "# let's try to plot the cost of renting a track from each of the four\n",
    "# companies - the price is a function of the milage driven\n",
    "\n",
    "# we want the plot for number of miles ranging from 0 to 100\n",
    "num_of_points = 101\n",
    "miles = np.linspace(0, 100, num_of_points )\n",
    "\n",
    "# we calculate the corresponding prices for each company\n",
    "watertown = 79.0 * np.ones(num_of_points)\n",
    "uhal = miles * 1.39 + 29.95\n",
    "budget = miles * 0.99 + 29.95\n",
    "enterprise100 = 59.95 * np.ones(num_of_points)\n",
    "\n",
    "\n",
    "#finally, plot the graph and show it\n",
    "plt.figure(figsize=(15,10), dpi=100, facecolor='gray')\n",
    "plt.plot(miles, watertown, 'y.')\n",
    "plt.plot(miles, uhal, 'b.')\n",
    "plt.plot(miles, budget, 'r.')\n",
    "plt.plot(miles, enterprise100, 'g.')\n",
    "plt.show()\n",
    "\n"
   ]
  },
  {
   "cell_type": "markdown",
   "metadata": {
    "slideshow": {
     "slide_type": "subslide"
    }
   },
   "source": [
    "# example 5 - track rental  "
   ]
  },
  {
   "cell_type": "code",
   "execution_count": 7,
   "metadata": {
    "slideshow": {
     "slide_type": "fragment"
    }
   },
   "outputs": [
    {
     "data": {
      "image/png": "[encoded data removed]",
      "text/plain": [
       "<Figure size 1500x1000 with 1 Axes>"
      ]
     },
     "metadata": {},
     "output_type": "display_data"
    }
   ],
   "source": [
    "# -*- coding: utf-8 -*-\n",
    "# track rentals - version 2\n",
    "\n",
    "import numpy as np\n",
    "import matplotlib.pyplot as plt\n",
    "\n",
    "# let's try to plot the cost of renting a track from each of the four\n",
    "# companies - the price is a function of the milage driven  \n",
    "\n",
    "##################\n",
    "# the rules change after the first 100 miles\n",
    "# so we will first do calculations for the \n",
    "# first 100 miles and then for the remaining miles\n",
    "##################\n",
    "\n",
    "# first 100 miles \n",
    "\n",
    "# we want the plot for number of miles ranging from 0 to 100 \n",
    "num_of_points1 = 101 \n",
    "miles1 = np.linspace(0, 100, num_of_points1 )\n",
    "\n",
    "# we calculate the corresponding prices for each company \n",
    "watertown1 = 79.0 * np.ones(num_of_points1)\n",
    "uhal1 = miles1 * 1.39 + 29.95\n",
    "budget1 = miles1 * 0.99 + 29.95\n",
    "enterprise1 = 59.95 * np.ones(num_of_points1)\n",
    "\n",
    "# remaining miles (up to 300)\n",
    "\n",
    "# we want the plot for number of miles ranging from 101 to 300 \n",
    "num_of_points2 = 200 \n",
    "miles2 = np.linspace(101, 300, num_of_points2 )\n",
    "\n",
    "# we calculate the corresponding prices for each company \n",
    "watertown2 = 79.0 * np.ones(num_of_points2)\n",
    "uhal2 = miles2 * 1.39 + 29.95\n",
    "budget2 = miles2 * 0.99 + 29.95\n",
    "enterprise2 = 59.95 + (miles2-100) * 0.59 \n",
    "\n",
    "\n",
    "# combine results for first 100 and the remaining miles \n",
    "\n",
    "miles = np.concatenate((miles1,miles2)) \n",
    "watertown = np.concatenate((watertown1, watertown2))\n",
    "uhal = np.concatenate((uhal1,uhal2))\n",
    "budget = np.concatenate((budget1,budget2))\n",
    "enterprise = np.concatenate((enterprise1,enterprise2) )\n",
    "\n",
    "#finally, plot the graph and show it \n",
    "plt.figure(figsize=(15,10), dpi=100, facecolor='gray')\n",
    "plt.plot(miles, watertown, 'y.', label=\"Watertown\")    \n",
    "plt.plot(miles, uhal, 'b.', label=\"U-Hal\")    \n",
    "plt.plot(miles, budget, 'r.', label=\"Budget\")  \n",
    "plt.plot(miles, enterprise, 'g.', label=\"Enterprise\")  \n",
    "plt.xlabel('Milage')        # add title to the x-axis\n",
    "plt.ylabel('Total Cost')    # add title to the y-axis \n",
    "plt.legend(loc='upper left')   # create the legend with plot descriptions \n",
    "\n",
    "plt.show()\n",
    "\n"
   ]
  },
  {
   "cell_type": "markdown",
   "metadata": {
    "slideshow": {
     "slide_type": "subslide"
    }
   },
   "source": [
    "# Programming challenge\n",
    "\n",
    "Go back in time to the year 2000. Assume that  a starting salary of a student graduating then \n",
    "was \\\\$40,000.00. They were given the annual increase of the 2%. Lookup the actual inflation values\n",
    "for years 2000-2019. For each year from 2001 to 20019 show the nominal value of their salary (just the 2% increase, without taking inflation into account) and their real salary (taking into account the 2% increase and reducing it by the inflation rate). \n",
    "\n",
    "Extra challenge: Plot both the nomianal salaries and  real value salary assuming the year 2000 buying power and the actual value of the salaries on their paycheck each year. "
   ]
  }
 ],
 "metadata": {
  "celltoolbar": "Slideshow",
  "kernelspec": {
   "display_name": "Python 3",
   "language": "python",
   "name": "python3"
  },
  "language_info": {
   "codemirror_mode": {
    "name": "ipython",
    "version": 3
   },
   "file_extension": ".py",
   "mimetype": "text/x-python",
   "name": "python",
   "nbconvert_exporter": "python",
   "pygments_lexer": "ipython3",
   "version": "3.7.0"
  }
 },
 "nbformat": 4,
 "nbformat_minor": 2
}
