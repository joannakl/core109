{
 "cells": [
  {
   "cell_type": "markdown",
   "metadata": {
    "colab_type": "text",
    "id": "64l90qJlp0j2"
   },
   "source": [
    "# Lab 8"
   ]
  },
  {
   "cell_type": "markdown",
   "metadata": {
    "colab_type": "text",
    "id": "_qhz2nF4oWN2"
   },
   "source": [
    "**Last, First**\n",
    "\n",
    "**NetID**\n",
    "\n",
    "Double click this text cell to edit it. Replace the lines above with your own name and netID.   \n",
    "\n",
    "Press `Shift` + `Enter` to exit editing mode. "
   ]
  },
  {
   "cell_type": "markdown",
   "metadata": {
    "colab_type": "text",
    "id": "A_knrGcWFlVf",
    "slideshow": {
     "slide_type": "slide"
    }
   },
   "source": [
    "## Problem 1: Lunch\n",
    "\n",
    "The office cafeteria offers several choices for lunch:\n",
    "- main course:  chicken stew,  pasta,  fish tacos \n",
    "- drink: water,  milk,  soda, coffee\n",
    "- dessert: cheesecase,  fruit cup\n",
    "\n",
    "\n",
    "\n",
    "__Part 1:__ \n",
    "\n",
    "You decide to have fish tacos, water and cheesecake.  \n",
    "Answer the questions below in a text cell below this problem. \n",
    "\n",
    "- What is the probability that your office mate has fish tacos as the main course?\n",
    "- What is the probability that your office mate has coffee and chesecase as part of their meal? \n",
    "- What is the probability that your office mate, who is also randomly selecting the options, ends up with exactly same lunch?\n",
    "\n",
    "__Part 2:__\n",
    "\n",
    "Write a program that provides a simulation of the lunch selection described on the previous slide. Use a loop that generates random lunches many many times (we used 100,000 in class) and count the number of times the three options from part 1 are generated.\n",
    "\n",
    "--- \n",
    "\n",
    "__The run of the program will depend on how you design your program and chose to present results.__\n"
   ]
  },
  {
   "cell_type": "markdown",
   "metadata": {},
   "source": [
    "__Part 1__\n",
    "\n",
    "There are three choices for the main course. So the probabilit of each course is 1/3. \n",
    "\n",
    "There are four choices of the drink. So the probability of getting coffee is 1/4. There are also two "
   ]
  },
  {
   "cell_type": "markdown",
   "metadata": {},
   "source": [
    "\n",
    "## Problem 2: Rolling Two Dice\n",
    "\n",
    "\n",
    "Write a program that _empirically_ verifies the probabilities of each of the 11 possible outcomes for the sum of numbers when two fair dice are rolled. \n",
    "\n",
    "    \n",
    "<img width=\"512\" alt=\"Dice Probability\" src=\"https://upload.wikimedia.org/wikipedia/commons/thumb/e/ef/Dice_Probability.png/512px-Dice_Probability.png\">\n",
    "\n",
    "<small>Doomdorm64, CC BY-SA 4.0, via Wikimedia Commons: https://commons.wikimedia.org/wiki/File:Dice_Probability.png </small>\n",
    "\n",
    "This means that you should write a program that simulates rolling two dice many many times (we used 100,000 times in class), count how many times each outcome occurs and report on the fraction of times that each outcome happens. You should print the results together with the above shown actual probabilities so they can be visually compared easily. \n",
    "\n",
    "\n",
    "Use `format(probability,'.5f')` to display the value of the probability with five decimal places. \n",
    "\n",
    "\n",
    "---\n",
    "\n",
    "__Here is a sample run of the program:__\n",
    "    \n",
    "     2: 0.02860\n",
    "        0.02778 \n",
    "\n",
    "     3: 0.05484\n",
    "        0.05556 \n",
    "\n",
    "     4: 0.08352\n",
    "        0.08333 \n",
    "\n",
    "     5: 0.11072\n",
    "        0.11111 \n",
    "\n",
    "     6: 0.13896\n",
    "        0.13889 \n",
    "\n",
    "     7: 0.16701\n",
    "        0.16667 \n",
    "\n",
    "     8: 0.13946\n",
    "        0.13889 \n",
    "\n",
    "     9: 0.11122\n",
    "        0.11111 \n",
    "\n",
    "    10: 0.08297\n",
    "        0.08333 \n",
    "\n",
    "    11: 0.05531\n",
    "        0.05556 \n",
    "\n",
    "    12: 0.02739\n",
    "        0.02778 \n",
    "\n",
    "\n",
    "(Keep in mind that your numbers will be different.)"
   ]
  },
  {
   "cell_type": "code",
   "execution_count": 10,
   "metadata": {},
   "outputs": [
    {
     "name": "stdout",
     "output_type": "stream",
     "text": [
      " 2: 0.02860\n",
      "    0.02778 \n",
      "\n",
      " 3: 0.05484\n",
      "    0.05556 \n",
      "\n",
      " 4: 0.08352\n",
      "    0.08333 \n",
      "\n",
      " 5: 0.11072\n",
      "    0.11111 \n",
      "\n",
      " 6: 0.13896\n",
      "    0.13889 \n",
      "\n",
      " 7: 0.16701\n",
      "    0.16667 \n",
      "\n",
      " 8: 0.13946\n",
      "    0.13889 \n",
      "\n",
      " 9: 0.11122\n",
      "    0.11111 \n",
      "\n",
      "10: 0.08297\n",
      "    0.08333 \n",
      "\n",
      "11: 0.05531\n",
      "    0.05556 \n",
      "\n",
      "12: 0.02739\n",
      "    0.02778 \n",
      "\n"
     ]
    }
   ],
   "source": [
    "import random\n",
    "\n",
    "counts=[0]*11\n",
    "probabilities=[1/36,2/36,3/36,4/36,5/36,6/36,5/36,4/36,3/36,2/36,1/36]\n",
    "\n",
    "for repeat in range(100000):\n",
    "    die1 = random.randint(1,6)\n",
    "    die2 = random.randint(1,6) \n",
    "    counts[die1 + die2 -2] += 1\n",
    "\n",
    "for index in range(len(counts)):\n",
    "    print(format(index+2,'2d'),\": \", format(counts[index]/100000,'.5f'), sep=\"\")\n",
    "    print(\"   \", format(probabilities[index],'.5f'), \"\\n\")"
   ]
  },
  {
   "cell_type": "markdown",
   "metadata": {},
   "source": [
    "## Problem 3: Highest/lowest Salaries \n",
    "\n",
    "\n",
    "NYC Open Data site provides a lot of data sets that are available for anybody who cares to look. One of those data sets is _Citywide Payroll Data_ that contains information about salaries of city empoyees from 2014 to 2018. \n",
    "The lists in the program that you will write contain just a small sample of that data. The three lists contain names, job titles and annual salaries.\n",
    "Write a program that prints the information about the person with the highest and lowest salary. Calculate and display the average salary.\n",
    "\n",
    "__Restrictions:__ Your program is not allowed to use any loops or if statements. All you need are the functions that operate on the list that we discussed in class. \n",
    "\n",
    "Your program should work correctly for a different set of three lists.\n",
    "\n",
    "--- \n",
    "Here is the output that should be generated by your program:\n",
    "```   \n",
    "lowest :  $119,959.00 ,  Margaret Abensur ,  Administrative Accountant\n",
    "highest:  $28,520.00 ,  Franck Buboulay ,  Custodial Supervisor\n",
    "average:  $69,508.60  \n",
    "```\n",
    "\n",
    "Use the code cell below to write your answer. \n",
    "<!--Create a new CODE cell below the instructions for problem 3 and above the instructions for problem 4 to write your program.--> "
   ]
  },
  {
   "cell_type": "code",
   "execution_count": 1,
   "metadata": {},
   "outputs": [],
   "source": [
    "names = [\"Susan Bassista\", \"Margaret Abensur\", \"Franck Buboulay\", \"Lisa Six\", \"Stephen Duncan\"]\n",
    "job_titles = [\"Teacher Special Education\", \"Administrative Accountant\", \"Custodial Supervisor\", \n",
    "              \"Senior Police Administrative Aide\", \"Assistant Professor\"]\n",
    "salaries = [98948.00, 119959.00, 28520.00, 47084.00, 53032.00]\n",
    "\n",
    "#names = [\"Hitesh Arora\", \"Evan Feliciano\", \"Kaitlin Zeno\", \"Kristina Finch\", \"Bose Kuruvilla\"]\n",
    "#job_titles = [\"Police Officer\", \"Computer Specialist\", \"Police Officer\", \n",
    "#              \"CUNY Office Assistant\", \"Associate Project Manager\"]\n",
    "#salaries = [63125.00, 106031.00, 42500.00, 28073.00, 105000.00]\n",
    "\n"
   ]
  },
  {
   "cell_type": "code",
   "execution_count": 4,
   "metadata": {},
   "outputs": [
    {
     "name": "stdout",
     "output_type": "stream",
     "text": [
      "highest:  $119,959.00 ,  Margaret Abensur ,  Administrative Accountant\n",
      "lowest:   $28,520.00 ,  Franck Buboulay ,  Custodial Supervisor\n",
      "average:  $69,508.60\n"
     ]
    }
   ],
   "source": [
    "\n",
    "max_salary = max(salaries)\n",
    "ind_max_sal = salaries.index(max_salary)\n",
    "\n",
    "min_salary = min(salaries)\n",
    "ind_min_sal = salaries.index(min_salary)\n",
    "\n",
    "average = sum(salaries)/len(salaries)\n",
    "\n",
    "print(\"highest: \", \"$\"+format(salaries[ind_max_sal], ',.2f'), \", \",\n",
    "      names[ind_max_sal], \", \", job_titles[ind_max_sal]) \n",
    "print(\"lowest:  \", \"$\"+format(salaries[ind_min_sal], ',.2f'), \", \",\n",
    "      names[ind_min_sal], \", \", job_titles[ind_min_sal]) \n",
    "print(\"average: \", \"$\"+format(average, ',.2f') )\n"
   ]
  },
  {
   "cell_type": "markdown",
   "metadata": {
    "slideshow": {
     "slide_type": "subslide"
    }
   },
   "source": [
    "## Problem 4: Lucky Numbers\n",
    "\n",
    "\n",
    "Write a program that plays a lottery. \n",
    "The user is asked to pick 4 numbers for the game. \n",
    "The numbers should be between 1 and 10 (your program should verify this). \n",
    "\n",
    "The program should generate its own list of 4 random lucky numbers and it\n",
    "should display the results that state how many out of the lucky numbers\n",
    "the user got. \n",
    "\n",
    "HINT: using lists in this problem might simplify things \n",
    "\n",
    "---\n",
    "\n",
    "__Here is a sample run of the program:__\n",
    "\n",
    "Pick four numbers from 1 to 10 as your lottery choices.\n",
    "\n",
    "Enter your number 1: 9\n",
    "\n",
    "Enter your number 2: 8\n",
    "\n",
    "Enter your number 3: 7\n",
    "\n",
    "Enter your number 4: 6\n",
    "\n",
    "CONGRATULATIONS: you picked 3 of the four lucky numbers: [9, 1, 7, 8]    \n",
    " "
   ]
  },
  {
   "cell_type": "code",
   "execution_count": 11,
   "metadata": {},
   "outputs": [
    {
     "name": "stdout",
     "output_type": "stream",
     "text": [
      "Pick four numbers from 1 to 10 as your lottery choices.\n",
      "Enter your number 1: 4\n",
      "Enter your number 2: 8\n",
      "Enter your number 3: 6\n",
      "Enter your number 4: 6\n",
      "\n",
      "CONGRATULATIONS: you picked 2 of the four lucky numbers: [4, 7, 8, 9]\n"
     ]
    }
   ],
   "source": [
    "import random\n",
    "# generate secret lucky numbers \n",
    "\n",
    "# this way may generate repeats, so we want ot avoid this\n",
    "# secret_list = [random.randint(1,10), random.randint(1,10), random.randint(1,10), random.randint(1,10)]\n",
    "\n",
    "# this way makes sure the lucky numbers are unique \n",
    "secret_list = [random.randint(1,10)]\n",
    "while len(secret_list) < 4 :\n",
    "    val = random.randint(1,10)\n",
    "    if val not in secret_list:\n",
    "        secret_list.append(val)\n",
    "secret_list.sort() \n",
    "\n",
    "# get values from the user \n",
    "user_list = []\n",
    "print(\"Pick four numbers from 1 to 10 as your lottery choices.\")\n",
    "for i in range (1,5): \n",
    "    num = int(input(\"Enter your number \"+str(i)+\": \"))\n",
    "    while num < 1 or num > 10 :\n",
    "        num=int(input(\"  invalid value, try again: \"))\n",
    "\n",
    "    user_list.append(num)\n",
    "    \n",
    "# check how many user numbers are in the lucky list\n",
    "lucky_count = 0\n",
    "for user_num in user_list:\n",
    "    if user_num in secret_list :\n",
    "        lucky_count+=1\n",
    "\n",
    "if lucky_count == 0 :\n",
    "    print (\"\\nSorry, you did not get any of the lucky numbers.\")\n",
    "else :\n",
    "    print (\"\\nCONGRATULATIONS: you picked\", lucky_count, \"of the four lucky numbers:\", secret_list)\n",
    "        \n",
    "    "
   ]
  }
 ],
 "metadata": {
  "kernelspec": {
   "display_name": "Python 3",
   "language": "python",
   "name": "python3"
  },
  "language_info": {
   "codemirror_mode": {
    "name": "ipython",
    "version": 3
   },
   "file_extension": ".py",
   "mimetype": "text/x-python",
   "name": "python",
   "nbconvert_exporter": "python",
   "pygments_lexer": "ipython3",
   "version": "3.7.0"
  }
 },
 "nbformat": 4,
 "nbformat_minor": 2
}
