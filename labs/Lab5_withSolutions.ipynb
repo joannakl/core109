{
 "cells": [
  {
   "cell_type": "markdown",
   "metadata": {
    "colab_type": "text",
    "id": "64l90qJlp0j2"
   },
   "source": [
    "# Lab 5"
   ]
  },
  {
   "cell_type": "markdown",
   "metadata": {
    "colab_type": "text",
    "id": "_qhz2nF4oWN2"
   },
   "source": [
    "**Last, First**\n",
    "\n",
    "**NetID**\n",
    "\n",
    "Double click this text cell to edit it. Replace the lines above with your own name and netID.   \n",
    "\n",
    "Press `Shift` + `Enter` to exit editing mode. "
   ]
  },
  {
   "cell_type": "markdown",
   "metadata": {
    "colab_type": "text",
    "id": "A_knrGcWFlVf",
    "slideshow": {
     "slide_type": "slide"
    }
   },
   "source": [
    "## Problem 1: Inflation  for the Last Ten Years\n",
    "\n",
    "Use the _Current US Inflation Rates: 2009-2019_ at http://www.usinflationcalculator.com/inflation/current-inflation-rates/ to determine the average inflation rates for years 2009 up to 2019 (scroll down to the table to see the averages). \n",
    "\n",
    "Create a python variables that store the list of the inflation rates for years from 2009 to 2018 (since the average inflation rate for year 2018 is not available yet. \n",
    "\n",
    "Remember that the list in python can be created using the square brackets notation. For example:\n",
    "\n",
    "```\n",
    "numbers = [1, 2, 3, 4, 5]\n",
    "```\n",
    "\n",
    "creates a list of the five numbers.\n",
    "\n",
    "\n",
    "Write a program that prompts the user for a dollar amount. Assume this amount corresponds to the value of the dollar in 2009. Display a table that shows what this value is equivalent to in each of the years 2010 to 2019. (If in 2009 you took that money under the proverbial mattress instead of an interest berring investment, the inflation rate how much that value depreciates each year. So you technically still have the same amount of money after 10 years, but it's buying power is less. Your table will show that byuing power. \n",
    " "
   ]
  },
  {
   "cell_type": "code",
   "execution_count": null,
   "metadata": {},
   "outputs": [],
   "source": [
    "inflation = [-0.4,1.6,3.2,2.1,1.5,1.6,0.1,1.3,2.1,2.4]\n",
    "years = [ 2010, 2011,2012,2013,2014,2015,2016,2017,2018,2019]\n",
    "value = float(input(\"Enter the value in 2009 dollars: $\"))\n",
    "\n",
    "print()\n",
    "\n",
    "print(\"year\\tinflation\\t  value\")\n",
    "print(\"~~~~~~~~~~~~~~~~~~~~~~~~~~~~~~~~~~~~\")\n",
    "for i in range(0,10):\n",
    "    value = value*(1-inflation[i]/100)\n",
    "    print (years[i], \"\\t\", format(inflation[i],'4.1f')+\"%\", \"\\t\\t\", format(value,'6.2f') )"
   ]
  },
  {
   "cell_type": "markdown",
   "metadata": {},
   "source": [
    "## Problem 2: Phone Bill\n",
    "\n",
    "Before the days of unlimited cellphone plans, the monthly bill for a cellphone was calculated based on the number of \n",
    "minutes used while talking.\n",
    "\n",
    "Assume that the base charge for a plan is \\$25.00 a month. The price per minute is 5¢\n",
    "\n",
    "__Part 1:__ \n",
    "What is a function that would allows us to calculate the monthly bill depending on the number of minutes the customer spent talking each month? \n",
    "\n",
    "Create a new TEXT cell below the this cell to answer this question. \n"
   ]
  },
  {
   "cell_type": "markdown",
   "metadata": {},
   "source": [
    "Answer\n",
    "\n",
    "The function has to add the base charge, 25.00, to a per minute charge, 0.05*minutes:\n",
    "\n",
    "bill(minutes) = 25.00 + 0.05*minutes \n"
   ]
  },
  {
   "cell_type": "markdown",
   "metadata": {},
   "source": [
    "__Part 2:__\n",
    "Write a program that prompts the user for the number of minutes that they used in a month and calculates their bill. \n",
    "Make sure the user enters a positive value for minutes. If they enter a negative value, print out an error message."
   ]
  },
  {
   "cell_type": "code",
   "execution_count": null,
   "metadata": {},
   "outputs": [],
   "source": [
    "minutes = int(input(\"How many minutes did you use this month: \"))\n",
    "\n",
    "if minutes >= 0 :\n",
    "    print(\"Your bill is $\", format(25+0.05*minutes,'.2f') , sep=\"\") \n",
    "else:\n",
    "    print(\"Error: number of minutes cannot be negative.\")"
   ]
  },
  {
   "cell_type": "markdown",
   "metadata": {},
   "source": [
    "__Part 3:__\n",
    "Write a program that shows a plot/graph (use the plots from the lecture notes as a guide) of your function for number of minutes ranging from 0 to 1000. \n"
   ]
  },
  {
   "cell_type": "code",
   "execution_count": null,
   "metadata": {},
   "outputs": [],
   "source": [
    "import numpy as np\n",
    "import matplotlib.pyplot as plt\n",
    "\n",
    "#  b(m)=0.05 * m + 25.00\n",
    "\n",
    "# we want the plot for number of kilo-watt-hours ranging from 0 to 1000,\n",
    "# in increments of 20 kilo-watt-hours (so we need 51 points between 0 and 1000)\n",
    "m = np.linspace(0, 1000.0, 51)\n",
    "\n",
    "# we calculate the corresponding bill amount\n",
    "b = 0.05 * m + 25\n",
    "\n",
    "#finally, plot the graph and show it\n",
    "plt.plot(m, b, 'b')   # plot a blue line\n",
    "plt.plot(m, b, 'r.')  # mark each point with a red dot\n",
    "plt.show()"
   ]
  },
  {
   "cell_type": "markdown",
   "metadata": {
    "slideshow": {
     "slide_type": "subslide"
    }
   },
   "source": [
    "## Problem 3: Which Bank Account\n",
    "\n",
    "\n",
    "The Washington Mutual fund offers an annual interest rate of 1.5% (compounded once at the end of the year) plus an additional bonus sign up bonus of $1000.00 at the time you open the account. \n",
    "\n",
    "The Saratoga Savings banks offers a competitive rate of 2.0% (compounded once at the end of the year). \n",
    "\n",
    "Assume that you have $10,000.00 to invest, which account is the one that you should be putting your money into (assume no withdrawals are ever made). \n",
    "\n",
    "Write a program that:\n",
    "- produces a table with three columns: year number, value in the Washington Mutual and value in the Saratoga Savings\n",
    "- prints a plot/graph that shows how the money grows in each account as a function of the number of years \n",
    "(your table and plot should show the values for at least 20 years). \n",
    " \n",
    "Then answer the following questions in a TEXT cell below your program:\n",
    "- If you were investing for 10 years, which bank would you chose? \n",
    "- How many years do you need to commit to, for the other bank to become the better option? \n",
    "- How many years would it take for the money to double in each of the accounts? \n",
    "(Explain how you came up with your answers.) \n",
    "\n",
    "\n",
    "Create a new CODE cell below the instructions for problem 4 and above the instructions for problem 5 to write your program. "
   ]
  },
  {
   "cell_type": "code",
   "execution_count": null,
   "metadata": {},
   "outputs": [],
   "source": [
    "investment = 10000.00\n",
    "num_of_years = 40\n",
    "\n",
    "#print the table header  and then the table \n",
    "print(format(\"year\",\">5s\"), format(\"Washington Mutual\", \">20s\"), format(\"Saratoga Springs\",\">22s\")  )\n",
    "print(\"~\"*50)\n",
    "for year in range(1,num_of_years+1) :\n",
    "    # we calculate the corresponding prices for each company\n",
    "    washington = investment * (1+0.015)**year + 1000\n",
    "    saratoga =  investment * (1+0.02)**year\n",
    "    # print the results for the current year \n",
    "    print (format(int(year),\"5d\"), format(washington, \">20.2f\"),    format(saratoga, \">22.2f\"))\n",
    "    \n",
    "\n"
   ]
  },
  {
   "cell_type": "code",
   "execution_count": null,
   "metadata": {},
   "outputs": [],
   "source": []
  }
 ],
 "metadata": {
  "kernelspec": {
   "display_name": "Python 3",
   "language": "python",
   "name": "python3"
  },
  "language_info": {
   "codemirror_mode": {
    "name": "ipython",
    "version": 3
   },
   "file_extension": ".py",
   "mimetype": "text/x-python",
   "name": "python",
   "nbconvert_exporter": "python",
   "pygments_lexer": "ipython3",
   "version": "3.7.0"
  }
 },
 "nbformat": 4,
 "nbformat_minor": 2
}
