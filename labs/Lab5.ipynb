{
 "cells": [
  {
   "cell_type": "markdown",
   "metadata": {
    "colab_type": "text",
    "id": "64l90qJlp0j2"
   },
   "source": [
    "# Lab 5"
   ]
  },
  {
   "cell_type": "markdown",
   "metadata": {
    "colab_type": "text",
    "id": "_qhz2nF4oWN2"
   },
   "source": [
    "**Last, First**\n",
    "\n",
    "**NetID**\n",
    "\n",
    "Double click this text cell to edit it. Replace the lines above with your own name and netID.   \n",
    "\n",
    "Press `Shift` + `Enter` to exit editing mode. "
   ]
  },
  {
   "cell_type": "markdown",
   "metadata": {
    "colab_type": "text",
    "id": "A_knrGcWFlVf",
    "slideshow": {
     "slide_type": "slide"
    }
   },
   "source": [
    "## Problem 1: Inflation  for the Last Ten Years\n",
    "\n",
    "Use the _Current US Inflation Rates: 2009-2019_ at http://www.usinflationcalculator.com/inflation/current-inflation-rates/ to determine the average inflation rates for years 2009 up to 2019 (scroll down to the table to see the averages). \n",
    "\n",
    "Create a python variables that store the list of the inflation rates for years from 2009 to 2018 (since the average inflation rate for year 2018 is not available yet. \n",
    "\n",
    "Remember that the list in python can be created using the square brackets notation. For example:\n",
    "\n",
    "```\n",
    "numbers = [1, 2, 3, 4, 5]\n",
    "```\n",
    "\n",
    "creates a list of the five numbers.\n",
    "\n",
    "\n",
    "Write a program that prompts the user for a dollar amount. Assume this amount corresponds to the value of the dollar in 2009. Display a table that shows what this value is equivalent to in each of the years 2010 to 2019. (If in 2009 you took that money under the proverbial mattress instead of an interest berring investment, the inflation rate how much that value depreciates each year. So you technically still have the same amount of money after 10 years, but it's buying power is less. Your table will show that byuing power. \n",
    "\n",
    "---\n",
    "__Here is a sample output when the user enters 100:__\n",
    "\n",
    "\n",
    "        Enter the value in 2009 dollars: $100\n",
    "\n",
    "        year\tinflation\t     value\n",
    "        ~~~~~~~~~~~~~~~~~~~~~~~~~~~~~~~~~~~~\n",
    "        2010 \t -0.4% \t\t 100.40\n",
    "        2011 \t  1.6% \t\t  98.79\n",
    "        2012 \t  3.2% \t\t  95.63\n",
    "        2013 \t  2.1% \t\t  93.62\n",
    "        2014 \t  1.5% \t\t  92.22\n",
    "        2015 \t  1.6% \t\t  90.74\n",
    "        2016 \t  0.1% \t\t  90.65\n",
    "        2017 \t  1.3% \t\t  89.47\n",
    "        2018 \t  2.1% \t\t  87.60\n",
    "        2019 \t  2.4% \t\t  85.49"
   ]
  },
  {
   "cell_type": "markdown",
   "metadata": {},
   "source": [
    "## Problem 2: Phone Bill\n",
    "\n",
    "Before the days of unlimited cellphone plans, the monthly bill for a cellphone was calculated based on the number of \n",
    "minutes used while talking.\n",
    "\n",
    "Assume that the base charge for a plan is \\$25.00 a month. The price per minute is 5¢\n",
    "\n",
    "__Part 1:__ \n",
    "What is a function that would allows us to calculate the monthly bill depending on the number of minutes the customer spent talking each month? Explain how you got this answer. \n",
    "\n",
    "Create a new TEXT cell below this cell to answer this question. \n"
   ]
  },
  {
   "cell_type": "markdown",
   "metadata": {},
   "source": [
    "__Part 2:__\n",
    "Write a program that prompts the user for the number of minutes that they used in a month and calculates their bill. \n",
    "Make sure the user enters a positive value for minutes. If they enter a negative value, print out an error message. \n",
    "\n",
    "__Here is a sample run of your program when the user enters 100:__\n",
    "\n",
    "    How many minutes did you use this month: 100\n",
    "    Your bill is $30.\n",
    "    \n",
    "__and when they enter -7:__\n",
    "\n",
    "    How many minutes did you use this month: -7\n",
    "    Error: number of minutes cannot be negative.\n"
   ]
  },
  {
   "cell_type": "markdown",
   "metadata": {},
   "source": [
    "__Part 3:__ (optional for extra 5 points)\n",
    "Write a program that shows a plot/graph (use the plots from the lecture notes as a guide) of your function for number of minutes ranging from 0 to 1000. \n",
    "\n"
   ]
  },
  {
   "cell_type": "markdown",
   "metadata": {
    "slideshow": {
     "slide_type": "subslide"
    }
   },
   "source": [
    "## Problem 3: Which Bank Account \n",
    "\n",
    "\n",
    "The Washington Mutual fund offers an annual interest rate of 1.5% (compounded once at the end of the year) plus an additional  sign up bonus of \\\\$1000.00 at the time you open the account (the interest is __not__ accumulated on that initial \\\\$1000.00). \n",
    "\n",
    "The Saratoga Savings banks offers a competitive rate of 2.0% (compounded once at the end of the year). \n",
    "\n",
    "Assume that you have $10,000.00 to invest, which account is the one that you should be putting your money into (assume no withdrawals are ever made). \n",
    "\n",
    "Write a program that:\n",
    "- produces a table with three columns: year number, value in the Washington Mutual and value in the Saratoga Savings (your table should show the values for at least 20 years). \n",
    "\n",
    "---\n",
    "__Here are a few initial values that you program should print:__\n",
    "\n",
    "    year    Washington Mutual       Saratoga Springs\n",
    "    ~~~~~~~~~~~~~~~~~~~~~~~~~~~~~~~~~~~~~~~~~~~~~~~~~~\n",
    "        1             11150.00               10200.00\n",
    "        2             11302.25               10404.00\n",
    "        3             11456.78               10612.08\n",
    "        4             11613.64               10824.32\n",
    "        5             11772.84               11040.81\n",
    " \n",
    "    ...\n",
    "    \n",
    "---\n",
    "\n",
    "Then answer the following questions in a TEXT cell below your program:\n",
    "- If you were investing for 10 years, which bank would you chose? \n",
    "- How many years do you need to commit to, for the other bank to become the better option? \n",
    "- How many years would it take for the money to approximately double in each of the accounts? \n",
    "(Explain how you came up with your answers. You may need to change the number of years for that you print in the table to get this answer.) \n",
    "\n",
    "\n",
    "Create a new CODE cell below. "
   ]
  }
 ],
 "metadata": {
  "kernelspec": {
   "display_name": "Python 3",
   "language": "python",
   "name": "python3"
  },
  "language_info": {
   "codemirror_mode": {
    "name": "ipython",
    "version": 3
   },
   "file_extension": ".py",
   "mimetype": "text/x-python",
   "name": "python",
   "nbconvert_exporter": "python",
   "pygments_lexer": "ipython3",
   "version": "3.7.0"
  }
 },
 "nbformat": 4,
 "nbformat_minor": 2
}
