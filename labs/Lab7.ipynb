{
 "cells": [
  {
   "cell_type": "markdown",
   "metadata": {
    "colab_type": "text",
    "id": "64l90qJlp0j2"
   },
   "source": [
    "# Lab 7"
   ]
  },
  {
   "cell_type": "markdown",
   "metadata": {
    "colab_type": "text",
    "id": "_qhz2nF4oWN2"
   },
   "source": [
    "**Last, First**\n",
    "\n",
    "**NetID**\n",
    "\n",
    "Double click this text cell to edit it. Replace the lines above with your own name and netID.   \n",
    "\n",
    "Press `Shift` + `Enter` to exit editing mode. "
   ]
  },
  {
   "cell_type": "code",
   "execution_count": null,
   "metadata": {},
   "outputs": [],
   "source": []
  },
  {
   "cell_type": "markdown",
   "metadata": {
    "colab_type": "text",
    "id": "A_knrGcWFlVf",
    "slideshow": {
     "slide_type": "slide"
    }
   },
   "source": [
    "## Problem 1: Sums and averages\n",
    "\n",
    "\n",
    "Write a program that calculates the sum and average of elements stored in \n",
    "a given list of numbers. Once you calculate the values, you should print the list, the sum and the average. \n",
    "\n",
    "The program below has a few definitions of specific lists called numbers\n",
    "but your program should work even if the code is edited to change the \n",
    "content of that list to an arbitrary list of numbers. \n",
    "(Uncomment one of the lines of the code that define the list to see how your program behaves with that list.)\n",
    "\n",
    "Restriction: you cannot use the `sum()` or `np.mean()` functions that were mentioned in class. You have to\n",
    "use a loop to calculate the sum and the average of the values stored in the list. \n",
    "\n",
    "\n",
    "--- \n",
    "\n",
    "__Here are a few sample runs of your program:__\n",
    "    \n",
    "    list: [1, -3, 5, -17, 13, 72, -98, 615]\n",
    "    sum:  588\n",
    "    avg:  73.5\n",
    "\n",
    "--\n",
    "    \n",
    "    list: [3, 5, 15, -8, 43, 78, -9]\n",
    "    sum:  127\n",
    "    avg:  18.142857142857142\n",
    "\n",
    "--\n",
    "    \n",
    "    list: [-99, -96, -93, -90, -87, -84, -81, -78, -75, -72, -69, -66, -63, -60, -57, -54, -51, -48, -45, -42, -39, -36, -33, -30, -27, -24, -21, -18, -15, -12, -9, -6, -3, 0, 3, 6, 9, 12, 15, 18, 21, 24, 27, 30, 33, 36, 39, 42, 45, 48, 51, 54, 57, 60, 63, 66, 69, 72, 75, 78, 81, 84, 87, 90, 93, 96, 99]\n",
    "    sum:  0\n",
    "    avg:  0.0\n",
    "\n",
    "\n"
   ]
  },
  {
   "cell_type": "code",
   "execution_count": 2,
   "metadata": {},
   "outputs": [],
   "source": [
    "\n",
    "numbers = [1, -3, 5, -17, 13, 72, -98, 615]\n",
    "\n",
    "#numbers = [3, 5, 15, -8, 43, 78, -9]\n",
    "\n",
    "#numbers = list( range(-99, 100, 3) ) \n",
    "\n",
    "# continue your code below "
   ]
  },
  {
   "cell_type": "markdown",
   "metadata": {},
   "source": [
    "\n",
    "## Problem 2: Changing values in a list \n",
    "\n",
    "Write a program that modifies a given list of numbers if the following way:\n",
    "    - if the element is negative, it is multiplied by -1\n",
    "    - if the element is positive and a multiple of 3 and 5, it should be set to 15 \n",
    "    - if the element is positive and a multiple of 3, it should be set to three\n",
    "    - if the element is positive and a multiple of 5, it should be set to five\n",
    "(all other values should be unchanged). \n",
    "\n",
    "The program below has a few definitions of specific lists called numbers\n",
    "but your program should work even if the code is edited to change the \n",
    "content of that list to an arbitrary list of numbers. \n",
    "\n",
    "The program should print the list of numbers before and after all modifications are done. \n",
    "\n",
    "---\n",
    "\n",
    "__Here are a few sample runs of your program:__\n",
    "    \n",
    "    initial list: \n",
    "    [1, -3, 5, -17, 13, 72, -98, 615]\n",
    "    changed list: \n",
    "    [1, 3, 5, 17, 13, 3, 98, 15]\n",
    "\n",
    "--\n",
    "\n",
    "    initial list: \n",
    "    [3, 5, 15, -8, 43, 78, -9]\n",
    "    changed list: \n",
    "    [3, 5, 15, 8, 43, 3, 9]\n",
    "\n",
    "--                \n",
    "\n",
    "    initial list: \n",
    "    [5, 2, 3, -1, -2]\n",
    "    changed list: \n",
    "    [5, 2, 3, 1, 2]\n",
    "\n",
    "\n",
    "\n",
    "Create a new CODE cell below the instructions for problem 2 and above the instructions for problem 3 to write your program. "
   ]
  },
  {
   "cell_type": "code",
   "execution_count": null,
   "metadata": {},
   "outputs": [],
   "source": [
    "\n",
    "numbers = [1, -3, 5, -17, 13, 72, -98, 615]\n",
    "\n",
    "#numbers = [3, 5, 15, -8, 43, 78, -9]\n",
    "\n",
    "#numbers = [5, 2, 3, -1, -2]\n",
    "\n",
    "# continue your program below\n",
    "\n",
    "\n"
   ]
  },
  {
   "cell_type": "markdown",
   "metadata": {},
   "source": [
    "## Problem 3: Weight on the Moon \n",
    "\n",
    "\n",
    "The Moon has much smaller gravitation than Earth. The consequence of this is that\n",
    "a weight of a person on the Moon is smaller than the weight of the same person\n",
    "on the Moon. Well, that is true for any object, not just people. \n",
    "Jupiter's gravitation is much larger than Earth's. So the weight on Jupiter is \n",
    "larger than the weight on Earth. \n",
    "\n",
    "The conversion formulas are\n",
    "\n",
    "  $$\\text{weight_on_Moon} = 1.622 \\times \\dfrac{\\text{weight_on_Earth}}{9.81}$$\n",
    "  \n",
    "  $$\\text{weight_on_Jupiter} = 24.79 \\times \\dfrac{\\text{weight_on_Earth}}{ 9.81}$$\n",
    "  \n",
    "Write a program that canculates Moon's and Jupiter's weights for objects\n",
    "whose weight on Earth ranges from 100 to 200 pounds in increments of 10 pounds.\n",
    "\n",
    "Restriction: use a while loop (even though the for loop is a bit easier\n",
    "and more appropriate here) .  \n",
    "\n",
    "To find out weights on other celestial bodies, take a look at\n",
    "https://www.exploratorium.edu/ronh/weight/  \n",
    "\n",
    "--- \n",
    "Here is the output that should be generated by your program:\n",
    "```   \n",
    "Weight conversions: \n",
    "------------------------\n",
    "Earth   Moon    Jupiter\n",
    "------------------------\n",
    "100     16      252\n",
    "110     18      277\n",
    "120     19      303\n",
    "130     21      328\n",
    "140     23      353\n",
    "150     24      379\n",
    "160     26      404\n",
    "170     28      429\n",
    "180     29      454\n",
    "190     31      480\n",
    "200     33      505    \n",
    "```\n",
    "\n",
    "Create a new CODE cell below the instructions for problem 3 and above the instructions for problem 4 to write your program. "
   ]
  },
  {
   "cell_type": "markdown",
   "metadata": {
    "slideshow": {
     "slide_type": "subslide"
    }
   },
   "source": [
    "## Problem 4: B grades\n",
    "\n",
    "\n",
    "Write a program that given a list of students and a list of their grades, creates a new list that contains the names of the students who received a grade of B (assume the range of B's is from 80, inclusive, to 90, not inclusive). \n",
    "\n",
    "The program should print the list of names of students with the B grades. \n",
    "\n",
    "The program below has a definition of specific list of names and grades\n",
    "but your program should work even if the code is edited to change the \n",
    "content of those lists. \n",
    "\n",
    "---\n",
    "__Here are a few sample runs of your program:__\n",
    "    \n",
    "    Students with Bs: \n",
    "    ['Alice', 'James', 'Cliff', 'Kate', 'Owen', 'Albert']\n",
    "  \n",
    "Create a new CODE cell below the instructions for problem 4 and above the instructions for problem 5 to write your program. "
   ]
  },
  {
   "cell_type": "code",
   "execution_count": 8,
   "metadata": {},
   "outputs": [],
   "source": [
    "names = [\"John\", \"Alice\", \"Bob\", \"Shelly\", \"Ann\", \"James\", \"Cliff\", \"Andy\", \"Jessica\", \"Kate\", \n",
    "         \"Owen\", \"Sam\", \"Dorothy\", \"Karen\", \"Albert\"]\n",
    "grades = [79, 80, 98, 65, 43, 87, 82, 90, 100, 88, 86, 92, 68, 75, 82]\n"
   ]
  }
 ],
 "metadata": {
  "kernelspec": {
   "display_name": "Python 3",
   "language": "python",
   "name": "python3"
  },
  "language_info": {
   "codemirror_mode": {
    "name": "ipython",
    "version": 3
   },
   "file_extension": ".py",
   "mimetype": "text/x-python",
   "name": "python",
   "nbconvert_exporter": "python",
   "pygments_lexer": "ipython3",
   "version": "3.7.0"
  }
 },
 "nbformat": 4,
 "nbformat_minor": 2
}
